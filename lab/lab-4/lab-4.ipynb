{
 "cells": [
  {
   "cell_type": "markdown",
   "metadata": {},
   "source": [
    "## MG-GY 8401: Programming for Business Intelligence and Analytics\n",
    "### Lab 4\n",
    "\n",
    "W will explore the `matplotlib` package for charts. We will focus on four kinds of charts \n",
    "\n",
    "1. bar-chart\n",
    "1. histogram\n",
    "1. scatter-plot\n",
    "1. heat-map\n",
    "\n",
    "Practice with `matplotlib` will help us with Homework 4 where we focus on histograms.\n",
    "\n",
    "#### Data\n",
    "\n",
    "We will use two datasets about New York City. Each year New York City grocery stores participate in the Shop Healthy program to increase \n",
    "\n",
    "- availability of healthier foods such as low-sodium canned goods, sugar-free snacks and plant-based alternative \n",
    "- promotion of healthier foods through marketing material like advertisements \n",
    "- visibility of healthier foods by placement in prominent locations\n",
    "\n",
    "The Borough President's Office acknowledges stores that meet and maintain the specifications of the program. We have a dataset in `nyc_markets.csv` consisting of 294 markets. Remember that New York City has five boroughs\n",
    "\n",
    "- Manhattan \n",
    "- Brooklyn\n",
    "- Staten Island\n",
    "- Bronx \n",
    "- Queens \n",
    "\n",
    "The population of New York City has grown to over 8 million people. However, the boroughs have different population densities. We have a dataset in `nyc_population.csv` containing the population each decade starting in 1950. \n",
    "\n",
    "#### Packages\n",
    "\n",
    "We can access the data in these files with the `pandas` package.\n",
    "```python\n",
    "import pandas as pd\n",
    "```\n",
    "\n",
    "We tend to use the alias `pd` for the `pandas` package."
   ]
  },
  {
   "cell_type": "code",
   "execution_count": 4,
   "metadata": {},
   "outputs": [],
   "source": [
    "import pandas as pd "
   ]
  },
  {
   "cell_type": "markdown",
   "metadata": {},
   "source": [
    "We can think of a table like a two dimensional array. Indeed we can use the `numpy` package from Week 3 to manipulate the data in the tables."
   ]
  },
  {
   "cell_type": "code",
   "execution_count": 5,
   "metadata": {},
   "outputs": [],
   "source": [
    "import numpy as np"
   ]
  },
  {
   "cell_type": "markdown",
   "metadata": {},
   "source": [
    "We want to understand the data through charts. We need to import a module from the `matplotlib` package called `pyplot` \n",
    "```python\n",
    "import matplotlib.pyplot as plt\n",
    "```\n",
    "We tend to use the alias `plt` for the `pyplot` module."
   ]
  },
  {
   "cell_type": "code",
   "execution_count": 6,
   "metadata": {},
   "outputs": [],
   "source": [
    "import matplotlib.pyplot as plt"
   ]
  },
  {
   "cell_type": "markdown",
   "metadata": {},
   "source": [
    "#### Bar-Chart\n",
    "\n",
    "We want to understand the distribution of Shop Healthy grocery stores in the five boroughs. We use the function `read_csv` to load the content of the file into a table. "
   ]
  },
  {
   "cell_type": "code",
   "execution_count": 7,
   "metadata": {},
   "outputs": [
    {
     "data": {
      "text/html": [
       "<div>\n",
       "<style scoped>\n",
       "    .dataframe tbody tr th:only-of-type {\n",
       "        vertical-align: middle;\n",
       "    }\n",
       "\n",
       "    .dataframe tbody tr th {\n",
       "        vertical-align: top;\n",
       "    }\n",
       "\n",
       "    .dataframe thead th {\n",
       "        text-align: right;\n",
       "    }\n",
       "</style>\n",
       "<table border=\"1\" class=\"dataframe\">\n",
       "  <thead>\n",
       "    <tr style=\"text-align: right;\">\n",
       "      <th></th>\n",
       "      <th>Store Name</th>\n",
       "      <th>Street Address</th>\n",
       "      <th>Address</th>\n",
       "      <th>Borough</th>\n",
       "      <th>Zip \\nCode</th>\n",
       "      <th>Year Awarded</th>\n",
       "      <th>Program \\nWave</th>\n",
       "      <th>Latitude</th>\n",
       "      <th>Longitude</th>\n",
       "      <th>Community Board</th>\n",
       "      <th>Council District</th>\n",
       "      <th>Census Tract</th>\n",
       "      <th>BIN</th>\n",
       "      <th>BBL</th>\n",
       "      <th>NTA</th>\n",
       "    </tr>\n",
       "  </thead>\n",
       "  <tbody>\n",
       "    <tr>\n",
       "      <th>0</th>\n",
       "      <td>Rivas Deli Grocery</td>\n",
       "      <td>651</td>\n",
       "      <td>East 183rd Street</td>\n",
       "      <td>Bronx</td>\n",
       "      <td>10458</td>\n",
       "      <td>2013</td>\n",
       "      <td>1</td>\n",
       "      <td>40.852568</td>\n",
       "      <td>-73.887484</td>\n",
       "      <td>6.0</td>\n",
       "      <td>15.0</td>\n",
       "      <td>391.0</td>\n",
       "      <td>2012464.0</td>\n",
       "      <td>2.030870e+09</td>\n",
       "      <td>Belmont</td>\n",
       "    </tr>\n",
       "    <tr>\n",
       "      <th>1</th>\n",
       "      <td>C-Town</td>\n",
       "      <td>1761</td>\n",
       "      <td>Southern Boulevard</td>\n",
       "      <td>Bronx</td>\n",
       "      <td>10460</td>\n",
       "      <td>2013</td>\n",
       "      <td>1</td>\n",
       "      <td>40.837267</td>\n",
       "      <td>-73.888016</td>\n",
       "      <td>3.0</td>\n",
       "      <td>17.0</td>\n",
       "      <td>155.0</td>\n",
       "      <td>2009878.0</td>\n",
       "      <td>2.029400e+09</td>\n",
       "      <td>Crotona Park East</td>\n",
       "    </tr>\n",
       "    <tr>\n",
       "      <th>2</th>\n",
       "      <td>La India Mini Market</td>\n",
       "      <td>1942</td>\n",
       "      <td>Marmion Avenue</td>\n",
       "      <td>Bronx</td>\n",
       "      <td>10460</td>\n",
       "      <td>2013</td>\n",
       "      <td>1</td>\n",
       "      <td>40.842942</td>\n",
       "      <td>-73.887136</td>\n",
       "      <td>6.0</td>\n",
       "      <td>17.0</td>\n",
       "      <td>36502.0</td>\n",
       "      <td>2010156.0</td>\n",
       "      <td>2.029600e+09</td>\n",
       "      <td>East Tremont</td>\n",
       "    </tr>\n",
       "    <tr>\n",
       "      <th>3</th>\n",
       "      <td>Los Hermanos</td>\n",
       "      <td>2019</td>\n",
       "      <td>Vyse Avenue</td>\n",
       "      <td>Bronx</td>\n",
       "      <td>10460</td>\n",
       "      <td>2013</td>\n",
       "      <td>1</td>\n",
       "      <td>40.842391</td>\n",
       "      <td>-73.881835</td>\n",
       "      <td>6.0</td>\n",
       "      <td>17.0</td>\n",
       "      <td>363.0</td>\n",
       "      <td>2013203.0</td>\n",
       "      <td>2.031270e+09</td>\n",
       "      <td>East Tremont</td>\n",
       "    </tr>\n",
       "    <tr>\n",
       "      <th>4</th>\n",
       "      <td>Price Choice Food Market</td>\n",
       "      <td>820</td>\n",
       "      <td>East 180th Street</td>\n",
       "      <td>Bronx</td>\n",
       "      <td>10460</td>\n",
       "      <td>2013</td>\n",
       "      <td>1</td>\n",
       "      <td>40.846173</td>\n",
       "      <td>-73.884871</td>\n",
       "      <td>6.0</td>\n",
       "      <td>15.0</td>\n",
       "      <td>36501.0</td>\n",
       "      <td>2012955.0</td>\n",
       "      <td>2.031080e+09</td>\n",
       "      <td>East Tremont</td>\n",
       "    </tr>\n",
       "    <tr>\n",
       "      <th>...</th>\n",
       "      <td>...</td>\n",
       "      <td>...</td>\n",
       "      <td>...</td>\n",
       "      <td>...</td>\n",
       "      <td>...</td>\n",
       "      <td>...</td>\n",
       "      <td>...</td>\n",
       "      <td>...</td>\n",
       "      <td>...</td>\n",
       "      <td>...</td>\n",
       "      <td>...</td>\n",
       "      <td>...</td>\n",
       "      <td>...</td>\n",
       "      <td>...</td>\n",
       "      <td>...</td>\n",
       "    </tr>\n",
       "    <tr>\n",
       "      <th>289</th>\n",
       "      <td>El Barrio Superette</td>\n",
       "      <td>1858</td>\n",
       "      <td>Lexington Ave</td>\n",
       "      <td>New York</td>\n",
       "      <td>10029</td>\n",
       "      <td>2017</td>\n",
       "      <td>5</td>\n",
       "      <td>40.798118</td>\n",
       "      <td>-73.942006</td>\n",
       "      <td>11.0</td>\n",
       "      <td>8.0</td>\n",
       "      <td>182.0</td>\n",
       "      <td>1052235.0</td>\n",
       "      <td>1.016430e+09</td>\n",
       "      <td>East Harlem North</td>\n",
       "    </tr>\n",
       "    <tr>\n",
       "      <th>290</th>\n",
       "      <td>New King Deli Grocery Corp.</td>\n",
       "      <td>23</td>\n",
       "      <td>East 115th St.</td>\n",
       "      <td>New York</td>\n",
       "      <td>10029</td>\n",
       "      <td>2017</td>\n",
       "      <td>5</td>\n",
       "      <td>40.799415</td>\n",
       "      <td>-73.945645</td>\n",
       "      <td>11.0</td>\n",
       "      <td>9.0</td>\n",
       "      <td>184.0</td>\n",
       "      <td>1074184.0</td>\n",
       "      <td>1.016210e+09</td>\n",
       "      <td>East Harlem North</td>\n",
       "    </tr>\n",
       "    <tr>\n",
       "      <th>291</th>\n",
       "      <td>Little Mexico Meat Grocery</td>\n",
       "      <td>2119</td>\n",
       "      <td>Third Ave</td>\n",
       "      <td>New York</td>\n",
       "      <td>10029</td>\n",
       "      <td>2017</td>\n",
       "      <td>5</td>\n",
       "      <td>40.797752</td>\n",
       "      <td>-73.940150</td>\n",
       "      <td>11.0</td>\n",
       "      <td>8.0</td>\n",
       "      <td>188.0</td>\n",
       "      <td>1052552.0</td>\n",
       "      <td>1.016650e+09</td>\n",
       "      <td>East Harlem North</td>\n",
       "    </tr>\n",
       "    <tr>\n",
       "      <th>292</th>\n",
       "      <td>Paniagua Deli Grocery</td>\n",
       "      <td>203</td>\n",
       "      <td>East 115th St.</td>\n",
       "      <td>New York</td>\n",
       "      <td>10029</td>\n",
       "      <td>2017</td>\n",
       "      <td>5</td>\n",
       "      <td>40.797233</td>\n",
       "      <td>-73.940432</td>\n",
       "      <td>11.0</td>\n",
       "      <td>8.0</td>\n",
       "      <td>188.0</td>\n",
       "      <td>1052555.0</td>\n",
       "      <td>1.016650e+09</td>\n",
       "      <td>East Harlem North</td>\n",
       "    </tr>\n",
       "    <tr>\n",
       "      <th>293</th>\n",
       "      <td>JJ Food Market</td>\n",
       "      <td>153</td>\n",
       "      <td>East 99th St.</td>\n",
       "      <td>New York</td>\n",
       "      <td>10029</td>\n",
       "      <td>2017</td>\n",
       "      <td>5</td>\n",
       "      <td>40.787686</td>\n",
       "      <td>-73.949230</td>\n",
       "      <td>11.0</td>\n",
       "      <td>5.0</td>\n",
       "      <td>166.0</td>\n",
       "      <td>1051758.0</td>\n",
       "      <td>1.016270e+09</td>\n",
       "      <td>East Harlem South</td>\n",
       "    </tr>\n",
       "  </tbody>\n",
       "</table>\n",
       "<p>294 rows × 15 columns</p>\n",
       "</div>"
      ],
      "text/plain": [
       "                      Store Name Street Address             Address   Borough  \\\n",
       "0             Rivas Deli Grocery            651   East 183rd Street     Bronx   \n",
       "1                         C-Town           1761  Southern Boulevard     Bronx   \n",
       "2           La India Mini Market           1942      Marmion Avenue     Bronx   \n",
       "3                   Los Hermanos           2019         Vyse Avenue     Bronx   \n",
       "4       Price Choice Food Market            820   East 180th Street     Bronx   \n",
       "..                           ...            ...                 ...       ...   \n",
       "289          El Barrio Superette           1858       Lexington Ave  New York   \n",
       "290  New King Deli Grocery Corp.             23      East 115th St.  New York   \n",
       "291   Little Mexico Meat Grocery           2119           Third Ave  New York   \n",
       "292        Paniagua Deli Grocery            203      East 115th St.  New York   \n",
       "293               JJ Food Market            153       East 99th St.  New York   \n",
       "\n",
       "     Zip \\nCode  Year Awarded  Program \\nWave   Latitude  Longitude  \\\n",
       "0         10458          2013               1  40.852568 -73.887484   \n",
       "1         10460          2013               1  40.837267 -73.888016   \n",
       "2         10460          2013               1  40.842942 -73.887136   \n",
       "3         10460          2013               1  40.842391 -73.881835   \n",
       "4         10460          2013               1  40.846173 -73.884871   \n",
       "..          ...           ...             ...        ...        ...   \n",
       "289       10029          2017               5  40.798118 -73.942006   \n",
       "290       10029          2017               5  40.799415 -73.945645   \n",
       "291       10029          2017               5  40.797752 -73.940150   \n",
       "292       10029          2017               5  40.797233 -73.940432   \n",
       "293       10029          2017               5  40.787686 -73.949230   \n",
       "\n",
       "     Community Board  Council District  Census Tract        BIN           BBL  \\\n",
       "0                6.0              15.0         391.0  2012464.0  2.030870e+09   \n",
       "1                3.0              17.0         155.0  2009878.0  2.029400e+09   \n",
       "2                6.0              17.0       36502.0  2010156.0  2.029600e+09   \n",
       "3                6.0              17.0         363.0  2013203.0  2.031270e+09   \n",
       "4                6.0              15.0       36501.0  2012955.0  2.031080e+09   \n",
       "..               ...               ...           ...        ...           ...   \n",
       "289             11.0               8.0         182.0  1052235.0  1.016430e+09   \n",
       "290             11.0               9.0         184.0  1074184.0  1.016210e+09   \n",
       "291             11.0               8.0         188.0  1052552.0  1.016650e+09   \n",
       "292             11.0               8.0         188.0  1052555.0  1.016650e+09   \n",
       "293             11.0               5.0         166.0  1051758.0  1.016270e+09   \n",
       "\n",
       "                   NTA  \n",
       "0              Belmont  \n",
       "1    Crotona Park East  \n",
       "2         East Tremont  \n",
       "3         East Tremont  \n",
       "4         East Tremont  \n",
       "..                 ...  \n",
       "289  East Harlem North  \n",
       "290  East Harlem North  \n",
       "291  East Harlem North  \n",
       "292  East Harlem North  \n",
       "293  East Harlem South  \n",
       "\n",
       "[294 rows x 15 columns]"
      ]
     },
     "execution_count": 7,
     "metadata": {},
     "output_type": "execute_result"
    }
   ],
   "source": [
    "'''nyc open data'''\n",
    "nyc_markets = pd.read_csv(\"nyc_markets.csv\")\n",
    "nyc_markets"
   ]
  },
  {
   "cell_type": "markdown",
   "metadata": {},
   "source": [
    "We can access `Year Awarded` column from the `nyc_markets` table containing the year of recognition in the program. "
   ]
  },
  {
   "cell_type": "code",
   "execution_count": 8,
   "metadata": {},
   "outputs": [
    {
     "data": {
      "text/plain": [
       "0      2013\n",
       "1      2013\n",
       "2      2013\n",
       "3      2013\n",
       "4      2013\n",
       "       ... \n",
       "289    2017\n",
       "290    2017\n",
       "291    2017\n",
       "292    2017\n",
       "293    2017\n",
       "Name: Year Awarded, Length: 294, dtype: int64"
      ]
     },
     "execution_count": 8,
     "metadata": {},
     "output_type": "execute_result"
    }
   ],
   "source": [
    "year_awarded = nyc_markets[\"Year Awarded\"]\n",
    "year_awarded"
   ]
  },
  {
   "cell_type": "markdown",
   "metadata": {},
   "source": [
    "We can counted the number of markets between 2013 and 2017. We can use the `numpy` function `unique` to determine the distinct values in `year_awarded` along with the count of each value. "
   ]
  },
  {
   "cell_type": "code",
   "execution_count": 13,
   "metadata": {
    "scrolled": true
   },
   "outputs": [
    {
     "name": "stdout",
     "output_type": "stream",
     "text": [
      "[2013 2014 2015 2016 2017]\n",
      "[ 44  27  60  44 119]\n"
     ]
    }
   ],
   "source": [
    "values, counts =  np.unique(year_awarded, return_counts=True)\n",
    "print(values)\n",
    "print(counts)"
   ]
  },
  {
   "cell_type": "code",
   "execution_count": null,
   "metadata": {},
   "outputs": [],
   "source": [
    "for index, entry in np.ndenumerate(my_array):\n",
    "    if entry < 0:\n",
    "        count += 1\n",
    "    \n",
    "#shift + tap\n",
    "my_flattened_array = my_array.flatten()\n",
    "for entry in my_flattened_array:\n",
    "    if entry < 0:\n",
    "        count += 1\n",
    "\n",
    "(my_array < 0).astype(\"int32\")"
   ]
  },
  {
   "cell_type": "markdown",
   "metadata": {},
   "source": [
    "So we obtain the counts.\n",
    "\n",
    "<img src=\"year_awarded.PNG\"  width=\"150\"/>"
   ]
  },
  {
   "cell_type": "markdown",
   "metadata": {},
   "source": [
    "We can convert to an array where column 0 is year and column 1 is number of restaurants. "
   ]
  },
  {
   "cell_type": "code",
   "execution_count": 10,
   "metadata": {},
   "outputs": [],
   "source": [
    "year_awarded_count = np.array([[2017,  119],\n",
    "                             [2015,   60],\n",
    "                             [2016,   44],\n",
    "                             [2013,   44],\n",
    "                             [2014,   27]])"
   ]
  },
  {
   "cell_type": "markdown",
   "metadata": {},
   "source": [
    "Now we are able to generate a bar-chart."
   ]
  },
  {
   "cell_type": "code",
   "execution_count": 11,
   "metadata": {},
   "outputs": [
    {
     "data": {
      "image/png": "[encoded data removed]",
      "text/plain": [
       "<Figure size 640x480 with 1 Axes>"
      ]
     },
     "metadata": {},
     "output_type": "display_data"
    }
   ],
   "source": [
    "plt.bar(year_awarded_count[:,0], year_awarded_count[:,1]);"
   ]
  },
  {
   "cell_type": "markdown",
   "metadata": {},
   "source": [
    "#### Histogram\n",
    "\n",
    "We treated the year as categorical data. If we treat the year as numerical data instead of categorical data, then we can use a histogram. "
   ]
  },
  {
   "cell_type": "code",
   "execution_count": 12,
   "metadata": {},
   "outputs": [
    {
     "data": {
      "image/png": "[encoded data removed]",
      "text/plain": [
       "<Figure size 640x480 with 1 Axes>"
      ]
     },
     "metadata": {},
     "output_type": "display_data"
    }
   ],
   "source": [
    "plt.hist(year_awarded, bins = [2013,2015,2016,2017], rwidth = 0.95)\n",
    "plt.xticks([2013,2014,2015,2016,2017]);"
   ]
  },
  {
   "cell_type": "markdown",
   "metadata": {},
   "source": [
    "Note that the heights of the rectanlges indicate the count for each range. If we count the number of markets for each year and borough, then we obtain the following table. \n",
    "\n",
    "<img src=\"borough.png\"  width=\"350\"/>"
   ]
  },
  {
   "cell_type": "markdown",
   "metadata": {},
   "source": [
    "We can convert to an array where \n",
    "\n",
    "- column 0 is Bronx \n",
    "- column 1 is Brooklyn \n",
    "- column 2 is Manhattan"
   ]
  },
  {
   "cell_type": "code",
   "execution_count": 10,
   "metadata": {},
   "outputs": [],
   "source": [
    "boroughs = np.array([[44.,  0.,  0.],\n",
    "                    [27.,  0.,  0.],\n",
    "                    [19., 21., 20.],\n",
    "                    [13., 19., 12.],\n",
    "                    [33., 50., 36.]])"
   ]
  },
  {
   "cell_type": "markdown",
   "metadata": {},
   "source": [
    "#### Heatmap \n",
    "\n",
    "If we encode the numbers with color, then we can generate a heat-map. We will use the `seaborn` package.  "
   ]
  },
  {
   "cell_type": "code",
   "execution_count": 11,
   "metadata": {},
   "outputs": [],
   "source": [
    "import seaborn as sns"
   ]
  },
  {
   "cell_type": "markdown",
   "metadata": {},
   "source": [
    "We tend to import the `seaborn` package with the alias `sns`. "
   ]
  },
  {
   "cell_type": "code",
   "execution_count": 12,
   "metadata": {},
   "outputs": [
    {
     "data": {
      "image/png": "[encoded data removed]",
      "text/plain": [
       "<Figure size 432x288 with 2 Axes>"
      ]
     },
     "metadata": {
      "needs_background": "light"
     },
     "output_type": "display_data"
    }
   ],
   "source": [
    "sns.heatmap(boroughs, annot=True)\n",
    "\n",
    "plt.xticks([0.5,1.5,2.5], labels = [\"Bronx\", \"Brooklyn\", \"Manhattan\"])\n",
    "plt.yticks([0.5,1.5,2.5,3.5,4.5], labels = [2013, 2014, 2015, 2016, 2017]);"
   ]
  },
  {
   "cell_type": "markdown",
   "metadata": {},
   "source": [
    "#### Scatter-Plot\n",
    "\n",
    "If we pair the count of markets with the year, then we can generate the scatter-plot."
   ]
  },
  {
   "cell_type": "code",
   "execution_count": 13,
   "metadata": {},
   "outputs": [],
   "source": [
    "horizontal_coordinates = np.array([2013, 2013, 2013, 2014, 2014, 2014, 2015, 2015, 2015, 2016, 2016, 2016, 2017, 2017, 2017])\n",
    "vertical_coordinates = boroughs.flatten()"
   ]
  },
  {
   "cell_type": "markdown",
   "metadata": {},
   "source": [
    "The scatter-plot consists of pairs of number for year and count of markets."
   ]
  },
  {
   "cell_type": "code",
   "execution_count": 14,
   "metadata": {},
   "outputs": [
    {
     "data": {
      "image/png": "[encoded data removed]",
      "text/plain": [
       "<Figure size 432x288 with 1 Axes>"
      ]
     },
     "metadata": {
      "needs_background": "light"
     },
     "output_type": "display_data"
    }
   ],
   "source": [
    "plt.scatter(horizontal_coordinates, vertical_coordinates)\n",
    "plt.xticks([2013,2014,2015,2016,2017]);"
   ]
  },
  {
   "cell_type": "markdown",
   "metadata": {},
   "source": [
    "#### Boroughs\n",
    "\n",
    "We can extract the population for each borough between 1950 and 2020 from `nyc_population.csv`. Note that we have a record for each decade.\n"
   ]
  },
  {
   "cell_type": "code",
   "execution_count": 15,
   "metadata": {},
   "outputs": [
    {
     "data": {
      "text/html": [
       "<div>\n",
       "<style scoped>\n",
       "    .dataframe tbody tr th:only-of-type {\n",
       "        vertical-align: middle;\n",
       "    }\n",
       "\n",
       "    .dataframe tbody tr th {\n",
       "        vertical-align: top;\n",
       "    }\n",
       "\n",
       "    .dataframe thead th {\n",
       "        text-align: right;\n",
       "    }\n",
       "</style>\n",
       "<table border=\"1\" class=\"dataframe\">\n",
       "  <thead>\n",
       "    <tr style=\"text-align: right;\">\n",
       "      <th></th>\n",
       "      <th>Bronx</th>\n",
       "      <th>Brooklyn</th>\n",
       "      <th>Manhattan</th>\n",
       "      <th>Queens</th>\n",
       "      <th>Staten Island</th>\n",
       "    </tr>\n",
       "  </thead>\n",
       "  <tbody>\n",
       "    <tr>\n",
       "      <th>0</th>\n",
       "      <td>1451277</td>\n",
       "      <td>2738175</td>\n",
       "      <td>1960101</td>\n",
       "      <td>1550849</td>\n",
       "      <td>191555</td>\n",
       "    </tr>\n",
       "    <tr>\n",
       "      <th>1</th>\n",
       "      <td>1424815</td>\n",
       "      <td>2627319</td>\n",
       "      <td>1698281</td>\n",
       "      <td>1809578</td>\n",
       "      <td>221991</td>\n",
       "    </tr>\n",
       "    <tr>\n",
       "      <th>2</th>\n",
       "      <td>1471701</td>\n",
       "      <td>2602012</td>\n",
       "      <td>1539233</td>\n",
       "      <td>1986473</td>\n",
       "      <td>295443</td>\n",
       "    </tr>\n",
       "    <tr>\n",
       "      <th>3</th>\n",
       "      <td>1168972</td>\n",
       "      <td>2230936</td>\n",
       "      <td>1428285</td>\n",
       "      <td>1891325</td>\n",
       "      <td>352121</td>\n",
       "    </tr>\n",
       "    <tr>\n",
       "      <th>4</th>\n",
       "      <td>1203789</td>\n",
       "      <td>2300664</td>\n",
       "      <td>1487536</td>\n",
       "      <td>1951598</td>\n",
       "      <td>378977</td>\n",
       "    </tr>\n",
       "    <tr>\n",
       "      <th>5</th>\n",
       "      <td>1332650</td>\n",
       "      <td>2465326</td>\n",
       "      <td>1537195</td>\n",
       "      <td>2229379</td>\n",
       "      <td>443728</td>\n",
       "    </tr>\n",
       "    <tr>\n",
       "      <th>6</th>\n",
       "      <td>1385108</td>\n",
       "      <td>2552911</td>\n",
       "      <td>1585873</td>\n",
       "      <td>2250002</td>\n",
       "      <td>468730</td>\n",
       "    </tr>\n",
       "    <tr>\n",
       "      <th>7</th>\n",
       "      <td>1446788</td>\n",
       "      <td>2648452</td>\n",
       "      <td>1638281</td>\n",
       "      <td>2330295</td>\n",
       "      <td>487155</td>\n",
       "    </tr>\n",
       "    <tr>\n",
       "      <th>8</th>\n",
       "      <td>1518998</td>\n",
       "      <td>2754009</td>\n",
       "      <td>1676720</td>\n",
       "      <td>2373551</td>\n",
       "      <td>497749</td>\n",
       "    </tr>\n",
       "    <tr>\n",
       "      <th>9</th>\n",
       "      <td>1579245</td>\n",
       "      <td>2840525</td>\n",
       "      <td>1691617</td>\n",
       "      <td>2412649</td>\n",
       "      <td>501109</td>\n",
       "    </tr>\n",
       "  </tbody>\n",
       "</table>\n",
       "</div>"
      ],
      "text/plain": [
       "      Bronx     Brooklyn     Manhattan     Queens     Staten Island\n",
       "0   1451277      2738175       1960101    1550849            191555\n",
       "1   1424815      2627319       1698281    1809578            221991\n",
       "2   1471701      2602012       1539233    1986473            295443\n",
       "3   1168972      2230936       1428285    1891325            352121\n",
       "4   1203789      2300664       1487536    1951598            378977\n",
       "5   1332650      2465326       1537195    2229379            443728\n",
       "6   1385108      2552911       1585873    2250002            468730\n",
       "7   1446788      2648452       1638281    2330295            487155\n",
       "8   1518998      2754009       1676720    2373551            497749\n",
       "9   1579245      2840525       1691617    2412649            501109"
      ]
     },
     "execution_count": 15,
     "metadata": {},
     "output_type": "execute_result"
    }
   ],
   "source": [
    "nyc_population = pd.read_csv(\"nyc_population.csv\")\n",
    "nyc_population"
   ]
  },
  {
   "cell_type": "markdown",
   "metadata": {},
   "source": [
    "We can access the data in the columns with population to construct an array."
   ]
  },
  {
   "cell_type": "code",
   "execution_count": 16,
   "metadata": {},
   "outputs": [],
   "source": [
    "population = np.array([[1451277, 2738175, 1960101, 1550849,  191555],\n",
    "                       [1424815, 2627319, 1698281, 1809578,  221991],\n",
    "                       [1471701, 2602012, 1539233, 1986473,  295443],\n",
    "                       [1168972, 2230936, 1428285, 1891325,  352121],\n",
    "                       [1203789, 2300664, 1487536, 1951598,  378977],\n",
    "                       [1332650, 2465326, 1537195, 2229379,  443728],\n",
    "                       [1385108, 2552911, 1585873, 2250002,  468730],\n",
    "                       [1446788, 2648452, 1638281, 2330295,  487155]])"
   ]
  },
  {
   "cell_type": "markdown",
   "metadata": {},
   "source": [
    "We could try to generate a scatter-plot to show the population changes over time."
   ]
  },
  {
   "cell_type": "code",
   "execution_count": 17,
   "metadata": {},
   "outputs": [
    {
     "data": {
      "image/png": "[encoded data removed]",
      "text/plain": [
       "<Figure size 432x288 with 1 Axes>"
      ]
     },
     "metadata": {
      "needs_background": "light"
     },
     "output_type": "display_data"
    }
   ],
   "source": [
    "horizontal_coordinates = np.array(['1950', '1950', '1950', '1950', '1950', '1960', '1960', '1960',\n",
    "                                   '1960', '1960', '1970', '1970', '1970', '1970', '1970', '1980',\n",
    "                                   '1980', '1980', '1980', '1980', '1990', '1990', '1990', '1990',\n",
    "                                   '1990', '2000', '2000', '2000', '2000', '2000', '2010', '2010',\n",
    "                                   '2010', '2010', '2010', '2020', '2020', '2020', '2020', '2020'])\n",
    "vertical_coordinates = population.flatten()\n",
    "\n",
    "plt.scatter(horizontal_coordinates, vertical_coordinates)\n",
    "plt.xticks(['1950', '1960', '1970', '1980', '1990', '2000', '2010', '2020']);"
   ]
  },
  {
   "cell_type": "markdown",
   "metadata": {},
   "source": [
    "However, we cannot distinguish the borough. If we encode the boroughs with colors then we can distinguish the different points."
   ]
  },
  {
   "cell_type": "code",
   "execution_count": 18,
   "metadata": {},
   "outputs": [
    {
     "data": {
      "image/png": "[encoded data removed]",
      "text/plain": [
       "<Figure size 432x288 with 1 Axes>"
      ]
     },
     "metadata": {
      "needs_background": "light"
     },
     "output_type": "display_data"
    }
   ],
   "source": [
    "colors = np.array([0, 1, 2, 3, 4, 0, 1, 2, 3, 4, 0, 1, 2, 3, 4, 0, 1, 2, 3, 4, 0, 1,\n",
    "                   2, 3, 4, 0, 1, 2, 3, 4, 0, 1, 2, 3, 4, 0, 1, 2, 3, 4])\n",
    "\n",
    "plt.scatter(horizontal_coordinates, vertical_coordinates, c = colors)\n",
    "plt.xticks(['1950', '1960', '1970', '1980', '1990', '2000', '2010', '2020']);"
   ]
  },
  {
   "cell_type": "markdown",
   "metadata": {},
   "source": [
    "#### Stacked Bar-Chart\n",
    "\n",
    "We want to understand the relative size of the boroughs of New York City. We could try to use a stacked bar-chart to combine the populations across the five boroughs."
   ]
  },
  {
   "cell_type": "code",
   "execution_count": 19,
   "metadata": {},
   "outputs": [
    {
     "data": {
      "image/png": "[encoded data removed]",
      "text/plain": [
       "<Figure size 432x288 with 1 Axes>"
      ]
     },
     "metadata": {
      "needs_background": "light"
     },
     "output_type": "display_data"
    }
   ],
   "source": [
    "nyc_population.plot(kind='bar', stacked = True);"
   ]
  },
  {
   "cell_type": "markdown",
   "metadata": {},
   "source": [
    "Alternatively we could try multiple line-charts."
   ]
  },
  {
   "cell_type": "code",
   "execution_count": 20,
   "metadata": {
    "scrolled": true
   },
   "outputs": [
    {
     "data": {
      "image/png": "[encoded data removed]",
      "text/plain": [
       "<Figure size 432x288 with 1 Axes>"
      ]
     },
     "metadata": {
      "needs_background": "light"
     },
     "output_type": "display_data"
    }
   ],
   "source": [
    "nyc_population.plot(kind=\"line\", style = \"-*\");"
   ]
  },
  {
   "cell_type": "code",
   "execution_count": 2,
   "metadata": {},
   "outputs": [
    {
     "ename": "ModuleNotFoundError",
     "evalue": "No module named 'polars'",
     "output_type": "error",
     "traceback": [
      "\u001b[0;31m---------------------------------------------------------------------------\u001b[0m",
      "\u001b[0;31mModuleNotFoundError\u001b[0m                       Traceback (most recent call last)",
      "\u001b[0;32m/tmp/ipykernel_126/3889388348.py\u001b[0m in \u001b[0;36m<module>\u001b[0;34m\u001b[0m\n\u001b[0;32m----> 1\u001b[0;31m \u001b[0;32mimport\u001b[0m \u001b[0mpolars\u001b[0m \u001b[0;32mas\u001b[0m \u001b[0mpl\u001b[0m\u001b[0;34m\u001b[0m\u001b[0;34m\u001b[0m\u001b[0m\n\u001b[0m",
      "\u001b[0;31mModuleNotFoundError\u001b[0m: No module named 'polars'"
     ]
    }
   ],
   "source": [
    "import polars as pl"
   ]
  },
  {
   "cell_type": "code",
   "execution_count": 1,
   "metadata": {},
   "outputs": [
    {
     "ename": "ModuleNotFoundError",
     "evalue": "No module named 'polars'",
     "output_type": "error",
     "traceback": [
      "\u001b[0;31m---------------------------------------------------------------------------\u001b[0m",
      "\u001b[0;31mModuleNotFoundError\u001b[0m                       Traceback (most recent call last)",
      "\u001b[0;32m/tmp/ipykernel_126/3373676046.py\u001b[0m in \u001b[0;36m<module>\u001b[0;34m\u001b[0m\n\u001b[0;32m----> 1\u001b[0;31m \u001b[0;32mimport\u001b[0m \u001b[0mpolars\u001b[0m \u001b[0;32mas\u001b[0m \u001b[0mpl\u001b[0m\u001b[0;34m\u001b[0m\u001b[0;34m\u001b[0m\u001b[0m\n\u001b[0m\u001b[1;32m      2\u001b[0m \u001b[0;34m\u001b[0m\u001b[0m\n\u001b[1;32m      3\u001b[0m q = (\n\u001b[1;32m      4\u001b[0m     \u001b[0mpl\u001b[0m\u001b[0;34m.\u001b[0m\u001b[0mscan_csv\u001b[0m\u001b[0;34m(\u001b[0m\u001b[0;34m\"iris.csv\"\u001b[0m\u001b[0;34m)\u001b[0m\u001b[0;34m\u001b[0m\u001b[0;34m\u001b[0m\u001b[0m\n\u001b[1;32m      5\u001b[0m     \u001b[0;34m.\u001b[0m\u001b[0mfilter\u001b[0m\u001b[0;34m(\u001b[0m\u001b[0mpl\u001b[0m\u001b[0;34m.\u001b[0m\u001b[0mcol\u001b[0m\u001b[0;34m(\u001b[0m\u001b[0;34m\"sepal_length\"\u001b[0m\u001b[0;34m)\u001b[0m \u001b[0;34m>\u001b[0m \u001b[0;36m5\u001b[0m\u001b[0;34m)\u001b[0m\u001b[0;34m\u001b[0m\u001b[0;34m\u001b[0m\u001b[0m\n",
      "\u001b[0;31mModuleNotFoundError\u001b[0m: No module named 'polars'"
     ]
    }
   ],
   "source": [
    "import polars as pl\n",
    "\n",
    "q = (\n",
    "    pl.scan_csv(\"iris.csv\")\n",
    "    .filter(pl.col(\"sepal_length\") > 5)\n",
    "    .group_by(\"species\")\n",
    "    .agg(pl.all().sum())\n",
    ")\n",
    "\n",
    "df = q.collect()"
   ]
  },
  {
   "cell_type": "markdown",
   "metadata": {},
   "source": [
    "We would prefer the line-charts to the stacked bar-charts to avoid a jiggling baseling."
   ]
  }
 ],
 "metadata": {
  "kernelspec": {
   "display_name": "Python [conda env:mg-gy-8413]",
   "language": "python",
   "name": "conda-env-mg-gy-8413-py"
  },
  "language_info": {
   "codemirror_mode": {
    "name": "ipython",
    "version": 3
   },
   "file_extension": ".py",
   "mimetype": "text/x-python",
   "name": "python",
   "nbconvert_exporter": "python",
   "pygments_lexer": "ipython3",
   "version": "3.7.12"
  }
 },
 "nbformat": 4,
 "nbformat_minor": 4
}
