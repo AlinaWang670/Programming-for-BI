{
 "cells": [
  {
   "cell_type": "markdown",
   "metadata": {},
   "source": [
    "## MG-GY 8401: Programming for Business Intelligence and Analytics\n",
    "### Lab 6\n",
    "\n",
    "We will take a look at support for text processing in the `pandas` package. Along the way, we will get experience with regular expressions in the `re` package."
   ]
  },
  {
   "cell_type": "code",
   "execution_count": 3,
   "metadata": {
    "nbgrader": {
     "grade": false,
     "grade_id": "cell-09dae348d499abb3",
     "locked": true,
     "schema_version": 3,
     "solution": false,
     "task": false
    }
   },
   "outputs": [],
   "source": [
    "# import some packages\n",
    "\n",
    "import numpy as np\n",
    "import pandas as pd\n",
    "\n",
    "import matplotlib.pyplot as plt\n",
    "\n",
    "import re\n",
    "\n",
    "# change some settings\n",
    "\n",
    "pd.set_option('display.max_rows', 10)\n",
    "pd.set_option('display.max_columns', 10)\n",
    "plt.rcParams['figure.figsize'] = (10,8)\n",
    "\n",
    "# indicate path to data \n",
    "\n",
    "import os\n",
    "path_to_dataset = os.environ[\"HOME\"] + \"/shared/lecture-6/nyc_restaurant_inspections.csv\"\n",
    "path_to_dataset_raw = os.environ[\"HOME\"] + \"/shared/lab-6/nyc_restaurant_inspections_raw.csv\""
   ]
  },
  {
   "cell_type": "markdown",
   "metadata": {},
   "source": [
    "In Lecture 6, we studied data from the New York City Department of Health and Mental Hygiene. "
   ]
  },
  {
   "cell_type": "code",
   "execution_count": 2,
   "metadata": {},
   "outputs": [
    {
     "data": {
      "text/html": [
       "<div>\n",
       "<style scoped>\n",
       "    .dataframe tbody tr th:only-of-type {\n",
       "        vertical-align: middle;\n",
       "    }\n",
       "\n",
       "    .dataframe tbody tr th {\n",
       "        vertical-align: top;\n",
       "    }\n",
       "\n",
       "    .dataframe thead th {\n",
       "        text-align: right;\n",
       "    }\n",
       "</style>\n",
       "<table border=\"1\" class=\"dataframe\">\n",
       "  <thead>\n",
       "    <tr style=\"text-align: right;\">\n",
       "      <th></th>\n",
       "      <th>CAMIS</th>\n",
       "      <th>RECORD DATE</th>\n",
       "      <th>VIOLATION DESCRIPTION</th>\n",
       "      <th>SCORE</th>\n",
       "      <th>desc</th>\n",
       "      <th>is_clean</th>\n",
       "      <th>is_vermin</th>\n",
       "      <th>is_surface</th>\n",
       "      <th>is_human</th>\n",
       "      <th>is_permit</th>\n",
       "    </tr>\n",
       "  </thead>\n",
       "  <tbody>\n",
       "    <tr>\n",
       "      <th>0</th>\n",
       "      <td>50018511</td>\n",
       "      <td>11/05/2018</td>\n",
       "      <td>Filth flies or food/refuse/sewage-associated (...</td>\n",
       "      <td>19.0</td>\n",
       "      <td>filth flies or food/refuse/sewage-associated f...</td>\n",
       "      <td>0</td>\n",
       "      <td>0</td>\n",
       "      <td>0</td>\n",
       "      <td>0</td>\n",
       "      <td>0</td>\n",
       "    </tr>\n",
       "    <tr>\n",
       "      <th>1</th>\n",
       "      <td>50012427</td>\n",
       "      <td>11/05/2018</td>\n",
       "      <td>Non-food contact surface improperly constructe...</td>\n",
       "      <td>19.0</td>\n",
       "      <td>non-food contact surface improperly constructe...</td>\n",
       "      <td>1</td>\n",
       "      <td>0</td>\n",
       "      <td>1</td>\n",
       "      <td>0</td>\n",
       "      <td>0</td>\n",
       "    </tr>\n",
       "    <tr>\n",
       "      <th>2</th>\n",
       "      <td>50075209</td>\n",
       "      <td>11/05/2018</td>\n",
       "      <td>Personal cleanliness inadequate. Outer garment...</td>\n",
       "      <td>13.0</td>\n",
       "      <td>personal cleanliness inadequate. outer garment...</td>\n",
       "      <td>1</td>\n",
       "      <td>0</td>\n",
       "      <td>0</td>\n",
       "      <td>1</td>\n",
       "      <td>0</td>\n",
       "    </tr>\n",
       "    <tr>\n",
       "      <th>3</th>\n",
       "      <td>50001110</td>\n",
       "      <td>11/05/2018</td>\n",
       "      <td>Non-food contact surface improperly constructe...</td>\n",
       "      <td>27.0</td>\n",
       "      <td>non-food contact surface improperly constructe...</td>\n",
       "      <td>1</td>\n",
       "      <td>0</td>\n",
       "      <td>1</td>\n",
       "      <td>0</td>\n",
       "      <td>0</td>\n",
       "    </tr>\n",
       "    <tr>\n",
       "      <th>4</th>\n",
       "      <td>41166868</td>\n",
       "      <td>11/05/2018</td>\n",
       "      <td>Food contact surface not properly washed, rins...</td>\n",
       "      <td>13.0</td>\n",
       "      <td>food contact surface not properly washed, rins...</td>\n",
       "      <td>1</td>\n",
       "      <td>0</td>\n",
       "      <td>1</td>\n",
       "      <td>0</td>\n",
       "      <td>0</td>\n",
       "    </tr>\n",
       "    <tr>\n",
       "      <th>...</th>\n",
       "      <td>...</td>\n",
       "      <td>...</td>\n",
       "      <td>...</td>\n",
       "      <td>...</td>\n",
       "      <td>...</td>\n",
       "      <td>...</td>\n",
       "      <td>...</td>\n",
       "      <td>...</td>\n",
       "      <td>...</td>\n",
       "      <td>...</td>\n",
       "    </tr>\n",
       "    <tr>\n",
       "      <th>19087</th>\n",
       "      <td>50071777</td>\n",
       "      <td>11/05/2018</td>\n",
       "      <td>Proper sanitization not provided for utensil w...</td>\n",
       "      <td>13.0</td>\n",
       "      <td>proper sanitization not provided for utensil w...</td>\n",
       "      <td>1</td>\n",
       "      <td>0</td>\n",
       "      <td>0</td>\n",
       "      <td>0</td>\n",
       "      <td>0</td>\n",
       "    </tr>\n",
       "    <tr>\n",
       "      <th>19088</th>\n",
       "      <td>41674774</td>\n",
       "      <td>11/05/2018</td>\n",
       "      <td>Filth flies or food/refuse/sewage-associated (...</td>\n",
       "      <td>16.0</td>\n",
       "      <td>filth flies or food/refuse/sewage-associated f...</td>\n",
       "      <td>0</td>\n",
       "      <td>0</td>\n",
       "      <td>0</td>\n",
       "      <td>0</td>\n",
       "      <td>0</td>\n",
       "    </tr>\n",
       "    <tr>\n",
       "      <th>19089</th>\n",
       "      <td>50044176</td>\n",
       "      <td>11/05/2018</td>\n",
       "      <td>Facility not vermin proof. Harborage or condit...</td>\n",
       "      <td>13.0</td>\n",
       "      <td>facility not vermin proof. harborage or condit...</td>\n",
       "      <td>0</td>\n",
       "      <td>1</td>\n",
       "      <td>0</td>\n",
       "      <td>0</td>\n",
       "      <td>0</td>\n",
       "    </tr>\n",
       "    <tr>\n",
       "      <th>19090</th>\n",
       "      <td>50039443</td>\n",
       "      <td>11/05/2018</td>\n",
       "      <td>Evidence of mice or live mice present in facil...</td>\n",
       "      <td>33.0</td>\n",
       "      <td>evidence of mice or live mice present in facil...</td>\n",
       "      <td>0</td>\n",
       "      <td>0</td>\n",
       "      <td>0</td>\n",
       "      <td>0</td>\n",
       "      <td>0</td>\n",
       "    </tr>\n",
       "    <tr>\n",
       "      <th>19091</th>\n",
       "      <td>40781412</td>\n",
       "      <td>11/05/2018</td>\n",
       "      <td>Facility not vermin proof. Harborage or condit...</td>\n",
       "      <td>13.0</td>\n",
       "      <td>facility not vermin proof. harborage or condit...</td>\n",
       "      <td>0</td>\n",
       "      <td>1</td>\n",
       "      <td>0</td>\n",
       "      <td>0</td>\n",
       "      <td>0</td>\n",
       "    </tr>\n",
       "  </tbody>\n",
       "</table>\n",
       "<p>19092 rows × 10 columns</p>\n",
       "</div>"
      ],
      "text/plain": [
       "          CAMIS RECORD DATE  \\\n",
       "0      50018511  11/05/2018   \n",
       "1      50012427  11/05/2018   \n",
       "2      50075209  11/05/2018   \n",
       "3      50001110  11/05/2018   \n",
       "4      41166868  11/05/2018   \n",
       "...         ...         ...   \n",
       "19087  50071777  11/05/2018   \n",
       "19088  41674774  11/05/2018   \n",
       "19089  50044176  11/05/2018   \n",
       "19090  50039443  11/05/2018   \n",
       "19091  40781412  11/05/2018   \n",
       "\n",
       "                                   VIOLATION DESCRIPTION  SCORE  \\\n",
       "0      Filth flies or food/refuse/sewage-associated (...   19.0   \n",
       "1      Non-food contact surface improperly constructe...   19.0   \n",
       "2      Personal cleanliness inadequate. Outer garment...   13.0   \n",
       "3      Non-food contact surface improperly constructe...   27.0   \n",
       "4      Food contact surface not properly washed, rins...   13.0   \n",
       "...                                                  ...    ...   \n",
       "19087  Proper sanitization not provided for utensil w...   13.0   \n",
       "19088  Filth flies or food/refuse/sewage-associated (...   16.0   \n",
       "19089  Facility not vermin proof. Harborage or condit...   13.0   \n",
       "19090  Evidence of mice or live mice present in facil...   33.0   \n",
       "19091  Facility not vermin proof. Harborage or condit...   13.0   \n",
       "\n",
       "                                                    desc  is_clean  is_vermin  \\\n",
       "0      filth flies or food/refuse/sewage-associated f...         0          0   \n",
       "1      non-food contact surface improperly constructe...         1          0   \n",
       "2      personal cleanliness inadequate. outer garment...         1          0   \n",
       "3      non-food contact surface improperly constructe...         1          0   \n",
       "4      food contact surface not properly washed, rins...         1          0   \n",
       "...                                                  ...       ...        ...   \n",
       "19087  proper sanitization not provided for utensil w...         1          0   \n",
       "19088  filth flies or food/refuse/sewage-associated f...         0          0   \n",
       "19089  facility not vermin proof. harborage or condit...         0          1   \n",
       "19090  evidence of mice or live mice present in facil...         0          0   \n",
       "19091  facility not vermin proof. harborage or condit...         0          1   \n",
       "\n",
       "       is_surface  is_human  is_permit  \n",
       "0               0         0          0  \n",
       "1               1         0          0  \n",
       "2               0         1          0  \n",
       "3               1         0          0  \n",
       "4               1         0          0  \n",
       "...           ...       ...        ...  \n",
       "19087           0         0          0  \n",
       "19088           0         0          0  \n",
       "19089           0         0          0  \n",
       "19090           0         0          0  \n",
       "19091           0         0          0  \n",
       "\n",
       "[19092 rows x 10 columns]"
      ]
     },
     "execution_count": 2,
     "metadata": {},
     "output_type": "execute_result"
    }
   ],
   "source": [
    "violations = pd.read_csv(path_to_dataset)\n",
    "violations"
   ]
  },
  {
   "cell_type": "markdown",
   "metadata": {},
   "source": [
    "From the Department of Health and Mental Hygience repository, we have a sample of 19092 restaurant inspections. "
   ]
  },
  {
   "cell_type": "code",
   "execution_count": 6,
   "metadata": {},
   "outputs": [
    {
     "data": {
      "text/plain": [
       "Index(['CAMIS', 'DBA', 'BORO', 'BUILDING', 'STREET', 'ZIPCODE', 'PHONE',\n",
       "       'CUISINE DESCRIPTION', 'INSPECTION DATE', 'ACTION', 'VIOLATION CODE',\n",
       "       'VIOLATION DESCRIPTION', 'CRITICAL FLAG', 'SCORE', 'GRADE',\n",
       "       'GRADE DATE', 'RECORD DATE', 'INSPECTION TYPE'],\n",
       "      dtype='object')"
      ]
     },
     "execution_count": 6,
     "metadata": {},
     "output_type": "execute_result"
    }
   ],
   "source": [
    "violations.columns"
   ]
  },
  {
   "cell_type": "markdown",
   "metadata": {},
   "source": [
    "We have 10 columns\n",
    "\n",
    "- `CAMIS` : unique identifier of the restaurant \n",
    "- `RECORD DATE` : date of inspection \n",
    "- `VIOLATION DESCRIPTION` : description of violations\n",
    "- `SCORE` : score of the restaurant following health inspection\n",
    "- `desc` : detailed description of violation \n",
    "- `is_clean`, `is_vermin`, `is_surface`, `is_human`, `is_permit`\n",
    " * type of violation \n",
    " \n",
    "Note that we have processed the raw dataset from the Department of Health and Mental Hygience repository. "
   ]
  },
  {
   "cell_type": "code",
   "execution_count": 7,
   "metadata": {},
   "outputs": [
    {
     "ename": "NameError",
     "evalue": "name 'path_to_dataset_raw' is not defined",
     "output_type": "error",
     "traceback": [
      "\u001b[1;31m---------------------------------------------------------------------------\u001b[0m",
      "\u001b[1;31mNameError\u001b[0m                                 Traceback (most recent call last)",
      "\u001b[1;32m<ipython-input-7-432dcb3db5dc>\u001b[0m in \u001b[0;36m<module>\u001b[1;34m\u001b[0m\n\u001b[1;32m----> 1\u001b[1;33m \u001b[0mviolations_raw\u001b[0m \u001b[1;33m=\u001b[0m \u001b[0mpd\u001b[0m\u001b[1;33m.\u001b[0m\u001b[0mread_csv\u001b[0m\u001b[1;33m(\u001b[0m\u001b[0mpath_to_dataset_raw\u001b[0m\u001b[1;33m)\u001b[0m\u001b[1;33m\u001b[0m\u001b[1;33m\u001b[0m\u001b[0m\n\u001b[0m\u001b[0;32m      2\u001b[0m \u001b[0mviolations_raw\u001b[0m\u001b[1;33m.\u001b[0m\u001b[0mhead\u001b[0m\u001b[1;33m(\u001b[0m\u001b[1;36m3\u001b[0m\u001b[1;33m)\u001b[0m\u001b[1;33m\u001b[0m\u001b[1;33m\u001b[0m\u001b[0m\n",
      "\u001b[1;31mNameError\u001b[0m: name 'path_to_dataset_raw' is not defined"
     ]
    }
   ],
   "source": [
    "violations_raw = pd.read_csv(path_to_dataset_raw)\n",
    "violations_raw.head(3)"
   ]
  },
  {
   "cell_type": "markdown",
   "metadata": {},
   "source": [
    "The raw dataset has 18 columns."
   ]
  },
  {
   "cell_type": "code",
   "execution_count": 9,
   "metadata": {},
   "outputs": [
    {
     "data": {
      "text/plain": [
       "Index(['CAMIS', 'DBA', 'BORO', 'BUILDING', 'STREET', 'ZIPCODE', 'PHONE',\n",
       "       'CUISINE DESCRIPTION', 'INSPECTION DATE', 'ACTION', 'VIOLATION CODE',\n",
       "       'VIOLATION DESCRIPTION', 'CRITICAL FLAG', 'SCORE', 'GRADE',\n",
       "       'GRADE DATE', 'RECORD DATE', 'INSPECTION TYPE'],\n",
       "      dtype='object')"
      ]
     },
     "execution_count": 9,
     "metadata": {},
     "output_type": "execute_result"
    }
   ],
   "source": [
    "violations_raw.columns"
   ]
  },
  {
   "cell_type": "markdown",
   "metadata": {},
   "source": [
    "Note that we lack the columns \n",
    "\n",
    "- `is_clean`\n",
    "- `is_vermin`\n",
    "- `is_surface`\n",
    "- `is_human`\n",
    "- `is_permit`\n",
    "\n",
    "We need to process the text in the `VIOLATION DESCRIPTION` column to determine the 5 types of violations. In this lab, we want to study text as data. We will explore string processing to understand the extraction of information from text like `VIOLATION DESCRIPTION`.\n",
    "\n",
    "### Working with Strings\n",
    "\n",
    "Suppose we want to join the follow two tables. "
   ]
  },
  {
   "cell_type": "code",
   "execution_count": 8,
   "metadata": {},
   "outputs": [
    {
     "data": {
      "text/html": [
       "<div>\n",
       "<style scoped>\n",
       "    .dataframe tbody tr th:only-of-type {\n",
       "        vertical-align: middle;\n",
       "    }\n",
       "\n",
       "    .dataframe tbody tr th {\n",
       "        vertical-align: top;\n",
       "    }\n",
       "\n",
       "    .dataframe thead th {\n",
       "        text-align: right;\n",
       "    }\n",
       "</style>\n",
       "<table border=\"1\" class=\"dataframe\">\n",
       "  <thead>\n",
       "    <tr style=\"text-align: right;\">\n",
       "      <th></th>\n",
       "      <th>County</th>\n",
       "      <th>State</th>\n",
       "    </tr>\n",
       "  </thead>\n",
       "  <tbody>\n",
       "    <tr>\n",
       "      <th>0</th>\n",
       "      <td>De Witt County</td>\n",
       "      <td>IL</td>\n",
       "    </tr>\n",
       "    <tr>\n",
       "      <th>1</th>\n",
       "      <td>Lac qui Parle County</td>\n",
       "      <td>MN</td>\n",
       "    </tr>\n",
       "    <tr>\n",
       "      <th>2</th>\n",
       "      <td>Lewis and Clark County</td>\n",
       "      <td>MT</td>\n",
       "    </tr>\n",
       "    <tr>\n",
       "      <th>3</th>\n",
       "      <td>St John the Baptist Parish</td>\n",
       "      <td>LS</td>\n",
       "    </tr>\n",
       "  </tbody>\n",
       "</table>\n",
       "</div>"
      ],
      "text/plain": [
       "                       County State\n",
       "0              De Witt County    IL\n",
       "1        Lac qui Parle County    MN\n",
       "2      Lewis and Clark County    MT\n",
       "3  St John the Baptist Parish    LS"
      ]
     },
     "execution_count": 8,
     "metadata": {},
     "output_type": "execute_result"
    }
   ],
   "source": [
    "county_and_state = pd.read_csv(\"county_and_state.csv\")\n",
    "county_and_state"
   ]
  },
  {
   "cell_type": "markdown",
   "metadata": {},
   "source": [
    "Here we have state and county."
   ]
  },
  {
   "cell_type": "code",
   "execution_count": 9,
   "metadata": {},
   "outputs": [
    {
     "data": {
      "text/html": [
       "<div>\n",
       "<style scoped>\n",
       "    .dataframe tbody tr th:only-of-type {\n",
       "        vertical-align: middle;\n",
       "    }\n",
       "\n",
       "    .dataframe tbody tr th {\n",
       "        vertical-align: top;\n",
       "    }\n",
       "\n",
       "    .dataframe thead th {\n",
       "        text-align: right;\n",
       "    }\n",
       "</style>\n",
       "<table border=\"1\" class=\"dataframe\">\n",
       "  <thead>\n",
       "    <tr style=\"text-align: right;\">\n",
       "      <th></th>\n",
       "      <th>County</th>\n",
       "      <th>Population</th>\n",
       "    </tr>\n",
       "  </thead>\n",
       "  <tbody>\n",
       "    <tr>\n",
       "      <th>0</th>\n",
       "      <td>DeWitt</td>\n",
       "      <td>16798</td>\n",
       "    </tr>\n",
       "    <tr>\n",
       "      <th>1</th>\n",
       "      <td>Lac Qui Parle</td>\n",
       "      <td>8067</td>\n",
       "    </tr>\n",
       "    <tr>\n",
       "      <th>2</th>\n",
       "      <td>Lewis &amp; Clark</td>\n",
       "      <td>55716</td>\n",
       "    </tr>\n",
       "    <tr>\n",
       "      <th>3</th>\n",
       "      <td>St. John the Baptist</td>\n",
       "      <td>43044</td>\n",
       "    </tr>\n",
       "  </tbody>\n",
       "</table>\n",
       "</div>"
      ],
      "text/plain": [
       "                 County  Population\n",
       "0                DeWitt       16798\n",
       "1         Lac Qui Parle        8067\n",
       "2         Lewis & Clark       55716\n",
       "3  St. John the Baptist       43044"
      ]
     },
     "execution_count": 9,
     "metadata": {},
     "output_type": "execute_result"
    }
   ],
   "source": [
    "county_and_pop = pd.read_csv(\"county_and_population.csv\")    \n",
    "county_and_pop"
   ]
  },
  {
   "cell_type": "markdown",
   "metadata": {},
   "source": [
    "Here we have county and population.\n",
    "\n",
    "We want to link the records through the `County` column. However, we have mismatches in the data. For example, we cannot link `Lewis & Clark` and `Lewis and Clark County`."
   ]
  },
  {
   "cell_type": "code",
   "execution_count": 10,
   "metadata": {},
   "outputs": [],
   "source": [
    "def standardize_county(county_name):\n",
    "    return (\n",
    "        county_name\n",
    "        .lower()               # lower case\n",
    "        .replace(' ', '')      # remove spaces\n",
    "        .replace('&', 'and')   # replace &\n",
    "        .replace('.', '')      # remove dot\n",
    "        .replace('county', '') # remove county\n",
    "        .replace('parish', '') # remove parish\n",
    "    )"
   ]
  },
  {
   "cell_type": "markdown",
   "metadata": {},
   "source": [
    "Before we can join the table, we need to standardize the strings. We want to convert many possible representations into a standard format."
   ]
  },
  {
   "cell_type": "code",
   "execution_count": 11,
   "metadata": {},
   "outputs": [],
   "source": [
    "clean_county = []\n",
    "\n",
    "for county in county_and_pop['County']:\n",
    "    clean_county.append(standardize_county(county))\n",
    "    \n",
    "county_and_pop['clean_county'] = clean_county"
   ]
  },
  {
   "cell_type": "markdown",
   "metadata": {},
   "source": [
    "Instead of using a loop, we can use the `pandas` function `map`. "
   ]
  },
  {
   "cell_type": "code",
   "execution_count": 12,
   "metadata": {},
   "outputs": [],
   "source": [
    "county_and_state['clean_county'] = county_and_state['County'].map(standardize_county)"
   ]
  },
  {
   "cell_type": "markdown",
   "metadata": {},
   "source": [
    "Now we can join the tables."
   ]
  },
  {
   "cell_type": "code",
   "execution_count": 13,
   "metadata": {},
   "outputs": [
    {
     "data": {
      "text/html": [
       "<div>\n",
       "<style scoped>\n",
       "    .dataframe tbody tr th:only-of-type {\n",
       "        vertical-align: middle;\n",
       "    }\n",
       "\n",
       "    .dataframe tbody tr th {\n",
       "        vertical-align: top;\n",
       "    }\n",
       "\n",
       "    .dataframe thead th {\n",
       "        text-align: right;\n",
       "    }\n",
       "</style>\n",
       "<table border=\"1\" class=\"dataframe\">\n",
       "  <thead>\n",
       "    <tr style=\"text-align: right;\">\n",
       "      <th></th>\n",
       "      <th>County_x</th>\n",
       "      <th>Population</th>\n",
       "      <th>clean_county</th>\n",
       "      <th>County_y</th>\n",
       "      <th>State</th>\n",
       "    </tr>\n",
       "  </thead>\n",
       "  <tbody>\n",
       "    <tr>\n",
       "      <th>0</th>\n",
       "      <td>DeWitt</td>\n",
       "      <td>16798</td>\n",
       "      <td>dewitt</td>\n",
       "      <td>De Witt County</td>\n",
       "      <td>IL</td>\n",
       "    </tr>\n",
       "    <tr>\n",
       "      <th>1</th>\n",
       "      <td>Lac Qui Parle</td>\n",
       "      <td>8067</td>\n",
       "      <td>lacquiparle</td>\n",
       "      <td>Lac qui Parle County</td>\n",
       "      <td>MN</td>\n",
       "    </tr>\n",
       "    <tr>\n",
       "      <th>2</th>\n",
       "      <td>Lewis &amp; Clark</td>\n",
       "      <td>55716</td>\n",
       "      <td>lewisandclark</td>\n",
       "      <td>Lewis and Clark County</td>\n",
       "      <td>MT</td>\n",
       "    </tr>\n",
       "    <tr>\n",
       "      <th>3</th>\n",
       "      <td>St. John the Baptist</td>\n",
       "      <td>43044</td>\n",
       "      <td>stjohnthebaptist</td>\n",
       "      <td>St John the Baptist Parish</td>\n",
       "      <td>LS</td>\n",
       "    </tr>\n",
       "  </tbody>\n",
       "</table>\n",
       "</div>"
      ],
      "text/plain": [
       "               County_x  Population      clean_county  \\\n",
       "0                DeWitt       16798            dewitt   \n",
       "1         Lac Qui Parle        8067       lacquiparle   \n",
       "2         Lewis & Clark       55716     lewisandclark   \n",
       "3  St. John the Baptist       43044  stjohnthebaptist   \n",
       "\n",
       "                     County_y State  \n",
       "0              De Witt County    IL  \n",
       "1        Lac qui Parle County    MN  \n",
       "2      Lewis and Clark County    MT  \n",
       "3  St John the Baptist Parish    LS  "
      ]
     },
     "execution_count": 13,
     "metadata": {},
     "output_type": "execute_result"
    }
   ],
   "source": [
    "pd.merge(left = county_and_pop,\n",
    "         right = county_and_state,\n",
    "         left_on = 'clean_county', \n",
    "         right_on = 'clean_county')"
   ]
  },
  {
   "cell_type": "markdown",
   "metadata": {},
   "source": [
    "### Matching Patterns\n",
    "\n",
    "We tend to work with structured data in a tabular format consisting of rows and columns. However, we might have to work with unstructured data. Text is a common source of unstructured data. Note that the file extension `txt` can denote a text file without any format."
   ]
  },
  {
   "cell_type": "code",
   "execution_count": 14,
   "metadata": {
    "scrolled": true
   },
   "outputs": [],
   "source": [
    "connection_to_file = open('log.txt', 'r')\n",
    "\n",
    "log_lines = connection_to_file.readlines()\n",
    "\n",
    "connection_to_file.close()"
   ]
  },
  {
   "cell_type": "markdown",
   "metadata": {},
   "source": [
    "We took three steps to reading the data in the text file. \n",
    "\n",
    "1. We have used the Python function `open` to establish a connection to a file. Note `r` indicates that we will read from the file. \n",
    "1. We use the function `readlines` to read the data. The function converst each line of the file to a string stored in a list.\n",
    "1. We close the connection to the file.\n",
    "\n",
    "An alternative approach to connecting and disconnecting to files is the keyword `with`."
   ]
  },
  {
   "cell_type": "code",
   "execution_count": 15,
   "metadata": {
    "scrolled": true
   },
   "outputs": [],
   "source": [
    "with open('log.txt', 'r') as connection_to_file:\n",
    "    log_lines = connection_to_file.readlines()"
   ]
  },
  {
   "cell_type": "markdown",
   "metadata": {},
   "source": [
    "Here we establish the connection to the file in the scope of the `with` statement. Following the `with` statement the variable `connection_to_file` goes out of scope which closes the connection to the file."
   ]
  },
  {
   "cell_type": "code",
   "execution_count": 16,
   "metadata": {},
   "outputs": [
    {
     "data": {
      "text/plain": [
       "['169.237.46.168 - - [26/Jan/2014:10:47:58 -0800] \"GET /stat141/Winter04/ HTTP/1.1\" 200 2585 \"http://anson.nyu.edu/courses/\"\\n',\n",
       " '193.205.203.3 - - [2/Feb/2005:17:23:6 -0800] \"GET /stat141/Notes/dim.html HTTP/1.0\" 404 302 \"http://eeyore.nyu.edu/stat141/Notes/session.html\"\\n',\n",
       " '169.237.46.240 - \"\" [3/Feb/2006:10:18:37 -0800] \"GET /stat141/homework/Solutions/hw1Sol.pdf HTTP/1.1\"']"
      ]
     },
     "execution_count": 16,
     "metadata": {},
     "output_type": "execute_result"
    }
   ],
   "source": [
    "log_lines"
   ]
  },
  {
   "cell_type": "markdown",
   "metadata": {},
   "source": [
    "Suppose we want to extract the day, month, year, hour, minutes, seconds, and timezone. Note that these items are not in a fixed position in the string. "
   ]
  },
  {
   "cell_type": "code",
   "execution_count": 17,
   "metadata": {},
   "outputs": [
    {
     "data": {
      "text/plain": [
       "'26/Jan/2014'"
      ]
     },
     "execution_count": 17,
     "metadata": {},
     "output_type": "execute_result"
    }
   ],
   "source": [
    "log_lines[0][20:31]"
   ]
  },
  {
   "cell_type": "markdown",
   "metadata": {},
   "source": [
    "By slicing from character 20 to character 31, we can extract the date from the first line."
   ]
  },
  {
   "cell_type": "code",
   "execution_count": 18,
   "metadata": {},
   "outputs": [
    {
     "data": {
      "text/plain": [
       "'/Feb/2005:1'"
      ]
     },
     "execution_count": 18,
     "metadata": {},
     "output_type": "execute_result"
    }
   ],
   "source": [
    "log_lines[1][20:31]"
   ]
  },
  {
   "cell_type": "markdown",
   "metadata": {},
   "source": [
    "However, the date appears at a different position in the second line. So we cannot extract characters based on location in the text. \n",
    "\n",
    "We could try to use the `split` function that splits a string into a list of strings."
   ]
  },
  {
   "cell_type": "code",
   "execution_count": 19,
   "metadata": {
    "scrolled": true
   },
   "outputs": [
    {
     "data": {
      "text/plain": [
       "'169.237.46.168 - - [26/Jan/2014:10:47:58 -0800] \"GET /stat141/Winter04/ HTTP/1.1\" 200 2585 \"http://anson.nyu.edu/courses/\"\\n'"
      ]
     },
     "execution_count": 19,
     "metadata": {},
     "output_type": "execute_result"
    }
   ],
   "source": [
    "first = log_lines[0]\n",
    "first"
   ]
  },
  {
   "cell_type": "markdown",
   "metadata": {},
   "source": [
    "From the first lines of text, we need to extract the date and time. We can try to split at brackets, slash, colon and whitespace."
   ]
  },
  {
   "cell_type": "code",
   "execution_count": 20,
   "metadata": {},
   "outputs": [
    {
     "data": {
      "text/plain": [
       "('26', 'Jan', '2014', '10', '47', '58', '-0800')"
      ]
     },
     "execution_count": 20,
     "metadata": {},
     "output_type": "execute_result"
    }
   ],
   "source": [
    "pertinent = first.split(\"[\")[1].split(']')[0]\n",
    "day, month, rest = pertinent.split('/')\n",
    "year, hour, minute, rest = rest.split(':')\n",
    "seconds, time_zone = rest.split(' ')\n",
    "day, month, year, hour, minute, seconds, time_zone"
   ]
  },
  {
   "cell_type": "markdown",
   "metadata": {},
   "source": [
    "While we manage to extract the date and time, we need to repeatedly split the string. Instead we can use regular expresions."
   ]
  },
  {
   "cell_type": "code",
   "execution_count": 21,
   "metadata": {
    "scrolled": true
   },
   "outputs": [
    {
     "data": {
      "text/plain": [
       "[('26', 'Jan', '2014', '10', '47', '58', '-0800')]"
      ]
     },
     "execution_count": 21,
     "metadata": {},
     "output_type": "execute_result"
    }
   ],
   "source": [
    "pattern = r'\\[(\\d+)/(\\w+)/(\\d+):(\\d+):(\\d+):(\\d+) (.+)\\]'\n",
    "re.findall(pattern, first)"
   ]
  },
  {
   "cell_type": "markdown",
   "metadata": {},
   "source": [
    "### Processing Strings in Tables\n",
    "\n",
    "We want to extract different types of violations from the `violations_raw`."
   ]
  },
  {
   "cell_type": "code",
   "execution_count": 22,
   "metadata": {},
   "outputs": [
    {
     "ename": "NameError",
     "evalue": "name 'violations_raw' is not defined",
     "output_type": "error",
     "traceback": [
      "\u001b[1;31m---------------------------------------------------------------------------\u001b[0m",
      "\u001b[1;31mNameError\u001b[0m                                 Traceback (most recent call last)",
      "\u001b[1;32m<ipython-input-22-508d4a7f4467>\u001b[0m in \u001b[0;36m<module>\u001b[1;34m\u001b[0m\n\u001b[1;32m----> 1\u001b[1;33m \u001b[0mviolations_raw\u001b[0m \u001b[1;33m=\u001b[0m \u001b[0mviolations_raw\u001b[0m\u001b[1;33m.\u001b[0m\u001b[0mcopy\u001b[0m\u001b[1;33m(\u001b[0m\u001b[1;33m)\u001b[0m\u001b[1;33m[\u001b[0m\u001b[1;33m[\u001b[0m\u001b[1;34m'CAMIS'\u001b[0m\u001b[1;33m,\u001b[0m \u001b[1;34m'RECORD DATE'\u001b[0m\u001b[1;33m,\u001b[0m \u001b[1;34m'VIOLATION DESCRIPTION'\u001b[0m\u001b[1;33m,\u001b[0m \u001b[1;34m\"SCORE\"\u001b[0m\u001b[1;33m]\u001b[0m\u001b[1;33m]\u001b[0m\u001b[1;33m\u001b[0m\u001b[1;33m\u001b[0m\u001b[0m\n\u001b[0m",
      "\u001b[1;31mNameError\u001b[0m: name 'violations_raw' is not defined"
     ]
    }
   ],
   "source": [
    "violations_raw = violations_raw.copy()[['CAMIS', 'RECORD DATE', 'VIOLATION DESCRIPTION', \"SCORE\"]]"
   ]
  },
  {
   "cell_type": "markdown",
   "metadata": {},
   "source": [
    "We observe that the `VIOLATION DESCRIPTION` columns lacks a format. "
   ]
  },
  {
   "cell_type": "code",
   "execution_count": 5,
   "metadata": {},
   "outputs": [
    {
     "data": {
      "text/plain": [
       "Non-food contact surface improperly constructed. Unacceptable material used. Non-food contact surface or equipment improperly maintained and/or not properly sealed, raised, spaced or movable to allow accessibility for cleaning on all sides, above and underneath the unit.    2637\n",
       "Facility not vermin proof. Harborage or conditions conducive to attracting vermin to the premises and/or allowing vermin to exist.                                                                                                                                                 2091\n",
       "Evidence of mice or live mice present in facility's food and/or non-food areas.                                                                                                                                                                                                    1335\n",
       "Food not protected from potential source of contamination during storage, preparation, transportation, display or service.                                                                                                                                                         1277\n",
       "Food contact surface not properly washed, rinsed and sanitized after each use and following any activity when contamination may have occurred.                                                                                                                                     1262\n",
       "                                                                                                                                                                                                                                                                                   ... \n",
       "Notice of the Department of Board of Health mutilated, obstructed, or removed.                                                                                                                                                                                                        1\n",
       "Canned food product observed swollen, leaking or rusted, and not segregated from other consumable food items .                                                                                                                                                                        1\n",
       "Reduced oxygen packaged (ROP) foods not cooled by an approved method whereby the internal food temperature is reduced to 38Âº F within two hours of cooking and if necessary further cooled to a temperature of 34Âº F within six hours of reaching 38Âº F.                           1\n",
       "Manufacture of frozen dessert not authorized on Food Service Establishment permit.                                                                                                                                                                                                    1\n",
       "Food service operation occurring in room used as living or sleeping quarters.                                                                                                                                                                                                         1\n",
       "Name: VIOLATION DESCRIPTION, Length: 81, dtype: int64"
      ]
     },
     "execution_count": 5,
     "metadata": {},
     "output_type": "execute_result"
    }
   ],
   "source": [
    "violations_raw[\"VIOLATION DESCRIPTION\"].value_counts()"
   ]
  },
  {
   "cell_type": "markdown",
   "metadata": {},
   "source": [
    "We need to standardize the text. If we have a column consisting of strings, then we can use the `pandas` functions available in `str`."
   ]
  },
  {
   "cell_type": "code",
   "execution_count": 6,
   "metadata": {},
   "outputs": [
    {
     "data": {
      "text/html": [
       "<div>\n",
       "<style scoped>\n",
       "    .dataframe tbody tr th:only-of-type {\n",
       "        vertical-align: middle;\n",
       "    }\n",
       "\n",
       "    .dataframe tbody tr th {\n",
       "        vertical-align: top;\n",
       "    }\n",
       "\n",
       "    .dataframe thead th {\n",
       "        text-align: right;\n",
       "    }\n",
       "</style>\n",
       "<table border=\"1\" class=\"dataframe\">\n",
       "  <thead>\n",
       "    <tr style=\"text-align: right;\">\n",
       "      <th></th>\n",
       "      <th>CAMIS</th>\n",
       "      <th>RECORD DATE</th>\n",
       "      <th>VIOLATION DESCRIPTION</th>\n",
       "      <th>SCORE</th>\n",
       "      <th>VIOLATION DESCRIPTION Standardized</th>\n",
       "    </tr>\n",
       "  </thead>\n",
       "  <tbody>\n",
       "    <tr>\n",
       "      <th>0</th>\n",
       "      <td>50018511</td>\n",
       "      <td>11/05/2018</td>\n",
       "      <td>Filth flies or food/refuse/sewage-associated (...</td>\n",
       "      <td>19.0</td>\n",
       "      <td>filth flies or food/refuse/sewage-associated f...</td>\n",
       "    </tr>\n",
       "    <tr>\n",
       "      <th>1</th>\n",
       "      <td>50012427</td>\n",
       "      <td>11/05/2018</td>\n",
       "      <td>Non-food contact surface improperly constructe...</td>\n",
       "      <td>19.0</td>\n",
       "      <td>non-food contact surface improperly constructe...</td>\n",
       "    </tr>\n",
       "    <tr>\n",
       "      <th>2</th>\n",
       "      <td>50075209</td>\n",
       "      <td>11/05/2018</td>\n",
       "      <td>Personal cleanliness inadequate. Outer garment...</td>\n",
       "      <td>13.0</td>\n",
       "      <td>personal cleanliness inadequate. outer garment...</td>\n",
       "    </tr>\n",
       "    <tr>\n",
       "      <th>3</th>\n",
       "      <td>50001110</td>\n",
       "      <td>11/05/2018</td>\n",
       "      <td>Non-food contact surface improperly constructe...</td>\n",
       "      <td>27.0</td>\n",
       "      <td>non-food contact surface improperly constructe...</td>\n",
       "    </tr>\n",
       "    <tr>\n",
       "      <th>4</th>\n",
       "      <td>41166868</td>\n",
       "      <td>11/05/2018</td>\n",
       "      <td>Food contact surface not properly washed, rins...</td>\n",
       "      <td>13.0</td>\n",
       "      <td>food contact surface not properly washed, rins...</td>\n",
       "    </tr>\n",
       "  </tbody>\n",
       "</table>\n",
       "</div>"
      ],
      "text/plain": [
       "      CAMIS RECORD DATE                              VIOLATION DESCRIPTION  \\\n",
       "0  50018511  11/05/2018  Filth flies or food/refuse/sewage-associated (...   \n",
       "1  50012427  11/05/2018  Non-food contact surface improperly constructe...   \n",
       "2  50075209  11/05/2018  Personal cleanliness inadequate. Outer garment...   \n",
       "3  50001110  11/05/2018  Non-food contact surface improperly constructe...   \n",
       "4  41166868  11/05/2018  Food contact surface not properly washed, rins...   \n",
       "\n",
       "   SCORE                 VIOLATION DESCRIPTION Standardized  \n",
       "0   19.0  filth flies or food/refuse/sewage-associated f...  \n",
       "1   19.0  non-food contact surface improperly constructe...  \n",
       "2   13.0  personal cleanliness inadequate. outer garment...  \n",
       "3   27.0  non-food contact surface improperly constructe...  \n",
       "4   13.0  food contact surface not properly washed, rins...  "
      ]
     },
     "execution_count": 6,
     "metadata": {},
     "output_type": "execute_result"
    }
   ],
   "source": [
    "violations_raw['VIOLATION DESCRIPTION Standardized'] = (violations_raw['VIOLATION DESCRIPTION']\n",
    "             .str.replace(r'(\\(|\\))', '')\n",
    "             .str.strip()\n",
    "             .str.lower())\n",
    "\n",
    "violations_raw.head()"
   ]
  },
  {
   "cell_type": "markdown",
   "metadata": {},
   "source": [
    "Here we replace parentheses with white-space, remove starting and ending white-space, and convert capital letters to lowercase letters."
   ]
  },
  {
   "cell_type": "code",
   "execution_count": 8,
   "metadata": {},
   "outputs": [
    {
     "data": {
      "text/plain": [
       "non-food contact surface improperly constructed. unacceptable material used. non-food contact surface or equipment improperly maintained and/or not properly sealed, raised, spaced or movable to allow accessibility for cleaning on all sides, above and underneath the unit.    2637\n",
       "facility not vermin proof. harborage or conditions conducive to attracting vermin to the premises and/or allowing vermin to exist.                                                                                                                                                 2091\n",
       "evidence of mice or live mice present in facility's food and/or non-food areas.                                                                                                                                                                                                    1335\n",
       "food not protected from potential source of contamination during storage, preparation, transportation, display or service.                                                                                                                                                         1277\n",
       "food contact surface not properly washed, rinsed and sanitized after each use and following any activity when contamination may have occurred.                                                                                                                                     1262\n",
       "                                                                                                                                                                                                                                                                                   ... \n",
       "food service operation occurring in room used as living or sleeping quarters.                                                                                                                                                                                                         1\n",
       "notice of the department of board of health mutilated, obstructed, or removed.                                                                                                                                                                                                        1\n",
       "eggs found dirty/cracked; liquid, frozen or powdered eggs not pasteurized.                                                                                                                                                                                                            1\n",
       "manufacture of frozen dessert not authorized on food service establishment permit.                                                                                                                                                                                                    1\n",
       "canned food product observed swollen, leaking or rusted, and not segregated from other consumable food items .                                                                                                                                                                        1\n",
       "Name: VIOLATION DESCRIPTION Standardized, Length: 81, dtype: int64"
      ]
     },
     "execution_count": 8,
     "metadata": {},
     "output_type": "execute_result"
    }
   ],
   "source": [
    "violations_raw['VIOLATION DESCRIPTION Standardized'].value_counts()"
   ]
  },
  {
   "cell_type": "markdown",
   "metadata": {},
   "source": [
    "Note we have not changed the number of distinct descriptions. Despite the standardization, we have 81 different descriptions. \n",
    "\n",
    "We have 408 missing values in the `VIOLATION DESCRIPTION Standardized` column. We fill with a blank string."
   ]
  },
  {
   "cell_type": "code",
   "execution_count": 11,
   "metadata": {},
   "outputs": [],
   "source": [
    "violations_raw[\"VIOLATION DESCRIPTION Standardized\"] = violations_raw[\"VIOLATION DESCRIPTION Standardized\"].fillna(\" \")"
   ]
  },
  {
   "cell_type": "markdown",
   "metadata": {},
   "source": [
    "We can try to use `pandas` function `str.contains` to extract keywords from the text with regular expressions."
   ]
  },
  {
   "cell_type": "code",
   "execution_count": 17,
   "metadata": {},
   "outputs": [],
   "source": [
    "violations_raw[\"is_clean\"] = violations_raw['VIOLATION DESCRIPTION Standardized'].str.contains(r'clean|sanit')\n",
    "\n",
    "violations_raw[\"is_vermin\"] = violations_raw['VIOLATION DESCRIPTION Standardized'].str.contains(r'vermin')\n",
    "\n",
    "violations_raw[\"is_surface\"] =  violations_raw['VIOLATION DESCRIPTION Standardized'].str.contains(r'wall|ceiling|floor|surface')\n",
    "\n",
    "violations_raw[\"is_human\"] = violations_raw['VIOLATION DESCRIPTION Standardized'].str.contains(r'hand|glove|hair|nail')\n",
    "\n",
    "violations_raw[\"is_permit\"] = violations_raw['VIOLATION DESCRIPTION Standardized'].str.contains(r'permit|certif')"
   ]
  },
  {
   "cell_type": "markdown",
   "metadata": {},
   "source": [
    "Since we have boolean values, we should convert to integers."
   ]
  },
  {
   "cell_type": "code",
   "execution_count": 19,
   "metadata": {},
   "outputs": [],
   "source": [
    "for header in [ 'is_clean', 'is_vermin', 'is_surface', 'is_human', 'is_permit']:\n",
    "    violations_raw[header] = violations_raw[header].astype(int)"
   ]
  },
  {
   "cell_type": "markdown",
   "metadata": {},
   "source": [
    "Now we have the same columns in `violations`."
   ]
  },
  {
   "cell_type": "code",
   "execution_count": 21,
   "metadata": {},
   "outputs": [
    {
     "data": {
      "text/html": [
       "<div>\n",
       "<style scoped>\n",
       "    .dataframe tbody tr th:only-of-type {\n",
       "        vertical-align: middle;\n",
       "    }\n",
       "\n",
       "    .dataframe tbody tr th {\n",
       "        vertical-align: top;\n",
       "    }\n",
       "\n",
       "    .dataframe thead th {\n",
       "        text-align: right;\n",
       "    }\n",
       "</style>\n",
       "<table border=\"1\" class=\"dataframe\">\n",
       "  <thead>\n",
       "    <tr style=\"text-align: right;\">\n",
       "      <th></th>\n",
       "      <th>CAMIS</th>\n",
       "      <th>RECORD DATE</th>\n",
       "      <th>VIOLATION DESCRIPTION</th>\n",
       "      <th>SCORE</th>\n",
       "      <th>VIOLATION DESCRIPTION Standardized</th>\n",
       "      <th>...</th>\n",
       "      <th>is_clean</th>\n",
       "      <th>is_vermin</th>\n",
       "      <th>is_surface</th>\n",
       "      <th>is_human</th>\n",
       "      <th>is_permit</th>\n",
       "    </tr>\n",
       "  </thead>\n",
       "  <tbody>\n",
       "    <tr>\n",
       "      <th>0</th>\n",
       "      <td>50018511</td>\n",
       "      <td>11/05/2018</td>\n",
       "      <td>Filth flies or food/refuse/sewage-associated (...</td>\n",
       "      <td>19.0</td>\n",
       "      <td>filth flies or food/refuse/sewage-associated f...</td>\n",
       "      <td>...</td>\n",
       "      <td>0</td>\n",
       "      <td>0</td>\n",
       "      <td>0</td>\n",
       "      <td>0</td>\n",
       "      <td>0</td>\n",
       "    </tr>\n",
       "    <tr>\n",
       "      <th>1</th>\n",
       "      <td>50012427</td>\n",
       "      <td>11/05/2018</td>\n",
       "      <td>Non-food contact surface improperly constructe...</td>\n",
       "      <td>19.0</td>\n",
       "      <td>non-food contact surface improperly constructe...</td>\n",
       "      <td>...</td>\n",
       "      <td>1</td>\n",
       "      <td>0</td>\n",
       "      <td>1</td>\n",
       "      <td>0</td>\n",
       "      <td>0</td>\n",
       "    </tr>\n",
       "    <tr>\n",
       "      <th>2</th>\n",
       "      <td>50075209</td>\n",
       "      <td>11/05/2018</td>\n",
       "      <td>Personal cleanliness inadequate. Outer garment...</td>\n",
       "      <td>13.0</td>\n",
       "      <td>personal cleanliness inadequate. outer garment...</td>\n",
       "      <td>...</td>\n",
       "      <td>1</td>\n",
       "      <td>0</td>\n",
       "      <td>0</td>\n",
       "      <td>1</td>\n",
       "      <td>0</td>\n",
       "    </tr>\n",
       "    <tr>\n",
       "      <th>3</th>\n",
       "      <td>50001110</td>\n",
       "      <td>11/05/2018</td>\n",
       "      <td>Non-food contact surface improperly constructe...</td>\n",
       "      <td>27.0</td>\n",
       "      <td>non-food contact surface improperly constructe...</td>\n",
       "      <td>...</td>\n",
       "      <td>1</td>\n",
       "      <td>0</td>\n",
       "      <td>1</td>\n",
       "      <td>0</td>\n",
       "      <td>0</td>\n",
       "    </tr>\n",
       "    <tr>\n",
       "      <th>4</th>\n",
       "      <td>41166868</td>\n",
       "      <td>11/05/2018</td>\n",
       "      <td>Food contact surface not properly washed, rins...</td>\n",
       "      <td>13.0</td>\n",
       "      <td>food contact surface not properly washed, rins...</td>\n",
       "      <td>...</td>\n",
       "      <td>1</td>\n",
       "      <td>0</td>\n",
       "      <td>1</td>\n",
       "      <td>0</td>\n",
       "      <td>0</td>\n",
       "    </tr>\n",
       "  </tbody>\n",
       "</table>\n",
       "<p>5 rows × 11 columns</p>\n",
       "</div>"
      ],
      "text/plain": [
       "      CAMIS RECORD DATE                              VIOLATION DESCRIPTION  \\\n",
       "0  50018511  11/05/2018  Filth flies or food/refuse/sewage-associated (...   \n",
       "1  50012427  11/05/2018  Non-food contact surface improperly constructe...   \n",
       "2  50075209  11/05/2018  Personal cleanliness inadequate. Outer garment...   \n",
       "3  50001110  11/05/2018  Non-food contact surface improperly constructe...   \n",
       "4  41166868  11/05/2018  Food contact surface not properly washed, rins...   \n",
       "\n",
       "   SCORE                 VIOLATION DESCRIPTION Standardized  ... is_clean  \\\n",
       "0   19.0  filth flies or food/refuse/sewage-associated f...  ...        0   \n",
       "1   19.0  non-food contact surface improperly constructe...  ...        1   \n",
       "2   13.0  personal cleanliness inadequate. outer garment...  ...        1   \n",
       "3   27.0  non-food contact surface improperly constructe...  ...        1   \n",
       "4   13.0  food contact surface not properly washed, rins...  ...        1   \n",
       "\n",
       "   is_vermin  is_surface  is_human  is_permit  \n",
       "0          0           0         0          0  \n",
       "1          0           1         0          0  \n",
       "2          0           0         1          0  \n",
       "3          0           1         0          0  \n",
       "4          0           1         0          0  \n",
       "\n",
       "[5 rows x 11 columns]"
      ]
     },
     "execution_count": 21,
     "metadata": {},
     "output_type": "execute_result"
    }
   ],
   "source": [
    "violations_raw.head()"
   ]
  },
  {
   "cell_type": "code",
   "execution_count": 4,
   "metadata": {},
   "outputs": [
    {
     "data": {
      "text/plain": [
       "['camel', 'Case']"
      ]
     },
     "execution_count": 4,
     "metadata": {},
     "output_type": "execute_result"
    }
   ],
   "source": [
    "re.findall(r\"[A-Za-z][a-z]*\", \"camelCase\")"
   ]
  },
  {
   "cell_type": "code",
   "execution_count": null,
   "metadata": {},
   "outputs": [],
   "source": [
    "re.findall(r\"[A-Za-z][a-z]*\", \"sidfzdnsi\")"
   ]
  }
 ],
 "metadata": {
  "kernelspec": {
   "display_name": "Python [conda env:mg-gy-8413]",
   "language": "python",
   "name": "conda-env-mg-gy-8413-py"
  },
  "language_info": {
   "codemirror_mode": {
    "name": "ipython",
    "version": 3
   },
   "file_extension": ".py",
   "mimetype": "text/x-python",
   "name": "python",
   "nbconvert_exporter": "python",
   "pygments_lexer": "ipython3",
   "version": "3.7.12"
  }
 },
 "nbformat": 4,
 "nbformat_minor": 4
}
