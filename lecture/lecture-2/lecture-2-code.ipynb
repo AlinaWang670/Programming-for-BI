{
 "cells": [
  {
   "cell_type": "markdown",
   "metadata": {},
   "source": [
    "## MG-GY 8401: Programming for Business Intelligence and Analytics\n",
    "### Lecture 2\n",
    "\n",
    "First we will take a look at some useful features of Jupyter including\n",
    "\n",
    "1. Keyboard shortcuts\n",
    "2. Markdown\n",
    "3. Magic Commands\n",
    "\n",
    "Second we will continue studying the building blocks of Python \n",
    "\n",
    "1. Functions \n",
    "1. Classes\n",
    "1. Packages\n",
    "\n",
    "Note that Python has several versions. We will be using **Python 3.7**."
   ]
  },
  {
   "cell_type": "markdown",
   "metadata": {},
   "source": [
    "---\n",
    "### Jupyter"
   ]
  },
  {
   "cell_type": "markdown",
   "metadata": {},
   "source": [
    "#### Keyboard Shortcuts\n",
    "\n",
    "Keyboard shortcuts are very useful and can save you a considerable amount of time.\n",
    "\n",
    "To access keyboard shortcuts you can use the command palette: Cmd + Shift + P (or Ctrl + Shift + P on Linux and Windows). \n",
    "\n",
    "Some useful shortcuts:\n",
    "\n",
    "- <font color='red'>Esc</font> will take you into _command mode_ where you can navigate around your notebook with arrow keys.\n",
    "\n",
    "- <font color='red'>Enter</font> will take you from command mode back into edit mode for the given cell.\n",
    "\n",
    "While in command mode:\n",
    "\n",
    "- <font color='red'>a</font> to insert a new cell above the current cell, <font color='red'>b</font> to insert a new cell below.\n",
    "- <font color='red'>m</font> to change the current cell to Markdown, <font color='red'>y</font> to change it back to code\n",
    "- <font color='red'>d + d</font> (press the key twice) to delete the current cell\n",
    "- <font color='red'>Shift + Tab</font> will show you the Docstring (documentation) for the the object you have just typed in a code cell - you can keep pressing this short cut to cycle through a few modes of documentation.\n",
    "- <font color='red'>Ctrl + Shift + -</font> will split the current cell into two from where your cursor is.\n",
    "- <font color='red'>Esc + f</font> Find and replace on your code but not the outputs.\n",
    "- <font color='red'>Esc + o</font> Toggle cell output.\n",
    "\n",
    "Select Multiple Cells:\n",
    "- <font color='red'>Shift + Down Arrow</font> selects the next sell in a downwards direction. You can also select sells in an upwards direction by using <font color='red'>Shift + Up Arrow</font>.\n",
    "Once cells are selected, you can then delete / copy / cut / paste / run them as a batch. This is helpful when you need to move parts of a notebook.\n",
    "- <font color='red'>Shift + m</font> to merge multiple cells."
   ]
  },
  {
   "cell_type": "markdown",
   "metadata": {},
   "source": [
    "#### Cell Types\n",
    "\n",
    "Jupyter Notebook has three types of cells\n",
    "\n",
    "- Markdown\n",
    "\n",
    "    Text, images, and latex math equations can be added to Jupyter Notebooks using Markdown cells. To make a cell of Markdown type go to __Menu -> Cell -> Cell Type -> Markdown__.\n",
    "    \n",
    "    Markdown cells also enables some resources to make headings, add bold and italic effects, create itemized and blockquote text, embed codes, create tables, and much more. Details can be found [here](https://github.com/adam-p/markdown-here/wiki/Markdown-Cheatsheet). \n",
    "    \n",
    "\n",
    "- Code\n",
    "\n",
    "    Code cells are where you write the python codes and show to output of your code (if any) and/or streaming messages.\n",
    "    \n",
    "    Code cells can also output images and math equations with the help of specific python packages and/or using the magic functions (% or %%).\n",
    "    "
   ]
  },
  {
   "cell_type": "markdown",
   "metadata": {},
   "source": [
    "#### Markdown Cells "
   ]
  },
  {
   "cell_type": "markdown",
   "metadata": {},
   "source": [
    "<b> Headings are inserted using # before the heading text </b>\n",
    "```\n",
    "# H1\n",
    "## H2\n",
    "### H3\n",
    "#### H4\n",
    "##### H5\n",
    "###### H6\n",
    "```\n",
    "# H1\n",
    "## H2\n",
    "### H3\n",
    "#### H4\n",
    "##### H5\n",
    "###### H6"
   ]
  },
  {
   "cell_type": "markdown",
   "metadata": {},
   "source": [
    "<b> Italic and Bold Formatting </b>\n",
    "```\n",
    "_text1_ \n",
    "__text2__ \n",
    "```\n",
    "_text1_ \n",
    "\n",
    "__text2__ "
   ]
  },
  {
   "cell_type": "markdown",
   "metadata": {},
   "source": [
    "<b> Lists  </b>\n",
    "\n",
    "```\n",
    "1. firts level\n",
    "    - second level\n",
    "        - third level\n",
    "```\n",
    "1. firts level\n",
    "    - second level\n",
    "        - third level"
   ]
  },
  {
   "cell_type": "markdown",
   "metadata": {},
   "source": [
    "<b> Tables</b>\n",
    "```\n",
    "| Tables        | Are           | Cool  |\n",
    "| ------------- |:-------------:| -----:|\n",
    "| col 3 is      | right-aligned |  1600 |\n",
    "| col 2 is      | centered      |    12 |\n",
    "| zebra stripes | are neat      |     1 |\n",
    "```\n",
    "\n",
    "| Tables        | Are           | Cool  |\n",
    "| ------------- |:-------------:| -----:|\n",
    "| col 3 is      | right-aligned |  1600 |\n",
    "| col 2 is      | centered      |    12 |\n",
    "| zebra stripes | are neat      |     1 |"
   ]
  },
  {
   "cell_type": "markdown",
   "metadata": {},
   "source": [
    "<b> Images </b>\n",
    "\n",
    "Inline-style: \n",
    "```\n",
    "![alt text](image.png)\n",
    "```\n",
    "![alt text](image.png)\n"
   ]
  },
  {
   "cell_type": "markdown",
   "metadata": {},
   "source": [
    "<b> Links </b>\n",
    "\n",
    "Inline-style: \n",
    "```\n",
    "[link text](url)\n",
    "```\n",
    "[nyu engineering](https://engineering.nyu.edu/)\n"
   ]
  },
  {
   "cell_type": "markdown",
   "metadata": {},
   "source": [
    "#### Code Cells "
   ]
  },
  {
   "cell_type": "code",
   "execution_count": 2,
   "metadata": {},
   "outputs": [
    {
     "name": "stdout",
     "output_type": "stream",
     "text": [
      "Variable b is of type <class 'int'>\n"
     ]
    }
   ],
   "source": [
    "# you can code directly \n",
    "a = 2\n",
    "b = 3\n",
    "c = a+b\n",
    "print(\"Variable b is of type {}\".format(type(a)))"
   ]
  },
  {
   "cell_type": "markdown",
   "metadata": {},
   "source": [
    "Inside the __Help__ menu you'll find handy links to the online documentation for common libraries.\n",
    "\n",
    "With <font color='blue'>?</font>, you can access the quick help."
   ]
  },
  {
   "cell_type": "code",
   "execution_count": 3,
   "metadata": {},
   "outputs": [],
   "source": [
    "?a"
   ]
  },
  {
   "cell_type": "code",
   "execution_count": 4,
   "metadata": {},
   "outputs": [],
   "source": [
    "?str.replace"
   ]
  },
  {
   "cell_type": "markdown",
   "metadata": {},
   "source": [
    "Magic commands with % are very useful.\n",
    "\n",
    "Please refer to this [link for](https://ipython.readthedocs.io/en/stable/interactive/magics.html) a documentation of magic commands"
   ]
  },
  {
   "cell_type": "code",
   "execution_count": null,
   "metadata": {},
   "outputs": [],
   "source": [
    "# This will list all magic commands\n",
    "%lsmagic"
   ]
  },
  {
   "cell_type": "markdown",
   "metadata": {},
   "source": [
    "##### Some useful magic commands:\n",
    "\n",
    "- <font color='red'>%load</font> replace the contents of the cell with an external script\n",
    "- <font color='red'>%%writefile</font> saves the contents of a cell to an external file"
   ]
  },
  {
   "cell_type": "code",
   "execution_count": 3,
   "metadata": {},
   "outputs": [
    {
     "name": "stdout",
     "output_type": "stream",
     "text": [
      "Writing hello_world.py\n"
     ]
    }
   ],
   "source": [
    "%%writefile hello_world.py\n",
    "print(\"Hello World\")"
   ]
  },
  {
   "cell_type": "markdown",
   "metadata": {},
   "source": [
    "Now, loading hello_world.py via\n",
    "```python\n",
    "%load hello_world.py\n",
    "```\n",
    "results in:"
   ]
  },
  {
   "cell_type": "code",
   "execution_count": 4,
   "metadata": {},
   "outputs": [
    {
     "name": "stdout",
     "output_type": "stream",
     "text": [
      "Hello World\n"
     ]
    }
   ],
   "source": [
    "# %load hello_world.py\n",
    "print(\"Hello World\")"
   ]
  },
  {
   "cell_type": "markdown",
   "metadata": {},
   "source": [
    "## Containers\n",
    "\n",
    "Remember that we have studied four containers in Week 1.\n",
    "\n",
    "<span style=\"color:blue\">Tuple</span>\n",
    "- Ordered sequence of entries with various data types\n",
    "- Entries cannot be modified, added, removed, etc.\n",
    "\n",
    "<span style=\"color:blue\">List</span>\n",
    "- Ordered sequence of entries with various data types\n",
    "- Entries can be modified, added, removed, etc.\n",
    "\n",
    "<span style=\"color:blue\">String</span>\n",
    "- Ordered sequence of characters\n",
    "- While entries can be modified, added, removed, etc. we can apply operations to old string to generate new strings.\n",
    "\n",
    "<span style=\"color:blue\">Dictionaries</span>\n",
    "- Dictionaries store a unordered mapping between a set of keys and a set of values\n",
    "   * Keys can be any immutable type\n",
    "   * Values can be any type\n",
    "\n",
    "Note that _Tuples_ are __immutable__."
   ]
  },
  {
   "cell_type": "code",
   "execution_count": 2,
   "metadata": {},
   "outputs": [
    {
     "name": "stdout",
     "output_type": "stream",
     "text": [
      "23\n",
      "(2, 3)\n"
     ]
    }
   ],
   "source": [
    "tuple_variable = (23, 'abc', 4.56, (2,3))  \n",
    "                              \n",
    "print(tuple_variable[0])\n",
    "print(tuple_variable[3]) "
   ]
  },
  {
   "cell_type": "markdown",
   "metadata": {},
   "source": [
    "Since tuples are immutable, item assignment are not supported"
   ]
  },
  {
   "cell_type": "code",
   "execution_count": 4,
   "metadata": {},
   "outputs": [
    {
     "ename": "TypeError",
     "evalue": "'tuple' object does not support item assignment",
     "output_type": "error",
     "traceback": [
      "\u001b[1;31m---------------------------------------------------------------------------\u001b[0m",
      "\u001b[1;31mTypeError\u001b[0m                                 Traceback (most recent call last)",
      "\u001b[1;32m<ipython-input-4-ee6a5e6f6cd6>\u001b[0m in \u001b[0;36m<module>\u001b[1;34m\u001b[0m\n\u001b[1;32m----> 1\u001b[1;33m \u001b[0mtuple_variable\u001b[0m\u001b[1;33m[\u001b[0m\u001b[1;36m2\u001b[0m\u001b[1;33m]\u001b[0m\u001b[1;33m=\u001b[0m\u001b[1;36m1\u001b[0m\u001b[1;33m\u001b[0m\u001b[1;33m\u001b[0m\u001b[0m\n\u001b[0m",
      "\u001b[1;31mTypeError\u001b[0m: 'tuple' object does not support item assignment"
     ]
    }
   ],
   "source": [
    "tuple_variable[2]=1 "
   ]
  },
  {
   "cell_type": "markdown",
   "metadata": {},
   "source": [
    "Note that _strings_ are __immutable__."
   ]
  },
  {
   "cell_type": "code",
   "execution_count": 9,
   "metadata": {},
   "outputs": [
    {
     "name": "stdout",
     "output_type": "stream",
     "text": [
      "t\n",
      "s\n"
     ]
    }
   ],
   "source": [
    "string_variable = \"this is a string\"\n",
    "print(s[0])\n",
    "print(s[3])"
   ]
  },
  {
   "cell_type": "markdown",
   "metadata": {},
   "source": [
    "Since strings are immutable, item assignment are not supported"
   ]
  },
  {
   "cell_type": "code",
   "execution_count": 10,
   "metadata": {},
   "outputs": [
    {
     "ename": "TypeError",
     "evalue": "'str' object does not support item assignment",
     "output_type": "error",
     "traceback": [
      "\u001b[1;31m---------------------------------------------------------------------------\u001b[0m",
      "\u001b[1;31mTypeError\u001b[0m                                 Traceback (most recent call last)",
      "\u001b[1;32m<ipython-input-10-20a1eed7c740>\u001b[0m in \u001b[0;36m<module>\u001b[1;34m\u001b[0m\n\u001b[1;32m----> 1\u001b[1;33m \u001b[0mstring_variable\u001b[0m\u001b[1;33m[\u001b[0m\u001b[1;36m1\u001b[0m\u001b[1;33m]\u001b[0m \u001b[1;33m=\u001b[0m \u001b[1;34m\"l\"\u001b[0m\u001b[1;33m\u001b[0m\u001b[1;33m\u001b[0m\u001b[0m\n\u001b[0m",
      "\u001b[1;31mTypeError\u001b[0m: 'str' object does not support item assignment"
     ]
    }
   ],
   "source": [
    "string_variable[1] = \"l\""
   ]
  },
  {
   "cell_type": "markdown",
   "metadata": {},
   "source": [
    "However we can apply operations to construct new strings from old strings like in Lab 1."
   ]
  },
  {
   "cell_type": "code",
   "execution_count": 13,
   "metadata": {},
   "outputs": [
    {
     "name": "stdout",
     "output_type": "stream",
     "text": [
      "this is the string\n",
      "this is a string\n"
     ]
    }
   ],
   "source": [
    "print(string_variable.replace(\"a\",\"the\"))\n",
    "print(string_variable)"
   ]
  },
  {
   "cell_type": "markdown",
   "metadata": {},
   "source": [
    "Note that _Lists_ are __mutable__."
   ]
  },
  {
   "cell_type": "code",
   "execution_count": 6,
   "metadata": {},
   "outputs": [
    {
     "name": "stdout",
     "output_type": "stream",
     "text": [
      "abc\n",
      "23\n"
     ]
    }
   ],
   "source": [
    "list_variable = [\"abc\", 34, 4.34, 23]\n",
    "\n",
    "print(list_variable[0])\n",
    "print(list_variable[3])"
   ]
  },
  {
   "cell_type": "markdown",
   "metadata": {},
   "source": [
    "Since lists are mutable, we can update, add and delete entries."
   ]
  },
  {
   "cell_type": "code",
   "execution_count": 7,
   "metadata": {},
   "outputs": [
    {
     "name": "stdout",
     "output_type": "stream",
     "text": [
      "['abc', 'I changed', 4.34, 23]\n"
     ]
    }
   ],
   "source": [
    "list_variable[1] = \"I changed\"\n",
    "print(list_variable)"
   ]
  },
  {
   "cell_type": "markdown",
   "metadata": {},
   "source": [
    "Note that _Dictionaries_ are __mutable__."
   ]
  },
  {
   "cell_type": "code",
   "execution_count": 15,
   "metadata": {},
   "outputs": [
    {
     "name": "stdout",
     "output_type": "stream",
     "text": [
      "27\n"
     ]
    }
   ],
   "source": [
    "dictionary_variable = {'k1':3.0,'k2':27,'key3':'the value of key3'}\n",
    "\n",
    "print(dictionary_variable['k2'])"
   ]
  },
  {
   "cell_type": "markdown",
   "metadata": {},
   "source": [
    "Since lists are mutable, we can update, add and delete entries."
   ]
  },
  {
   "cell_type": "code",
   "execution_count": 16,
   "metadata": {},
   "outputs": [
    {
     "name": "stdout",
     "output_type": "stream",
     "text": [
      "{'k1': 3.0, 'k2': 27, 'key3': 'the value of key3', 'new_key': 14}\n"
     ]
    }
   ],
   "source": [
    "dictionary_variable['new_key'] = 14\n",
    "\n",
    "print(dictionary_variable)"
   ]
  },
  {
   "cell_type": "code",
   "execution_count": 17,
   "metadata": {},
   "outputs": [
    {
     "name": "stdout",
     "output_type": "stream",
     "text": [
      "{'k2': 27, 'key3': 'the value of key3', 'new_key': 14}\n"
     ]
    }
   ],
   "source": [
    "del dictionary_variable['k1']\n",
    "print(dictionary_variable)"
   ]
  },
  {
   "cell_type": "markdown",
   "metadata": {},
   "source": [
    "#### Copying\n",
    "Python tries to avoid copying data. If we need to copy a container, then we need to use the colon `[:]`."
   ]
  },
  {
   "cell_type": "code",
   "execution_count": 24,
   "metadata": {},
   "outputs": [
    {
     "name": "stdout",
     "output_type": "stream",
     "text": [
      "l =  ['abc', 34, 4.34, 23]\n",
      "l1 =  ['abc', 34, 4.34, 23]\n",
      "l2 =  ['abc', 34, 4.34, 23]\n",
      "-----\n",
      "l =  ['abc', 34, 'item 2 changed', 23]\n",
      "l1 =  ['abc', 34, 'item 2 changed', 23]\n",
      "l2 =  ['abc', 34, 4.34, 23]\n",
      "-----\n",
      "l =  ['abc', 34, 'item 2 changed', 'item 3 changed']\n",
      "l1 =  ['abc', 34, 'item 2 changed', 'item 3 changed']\n",
      "l2 =  ['abc', 34, 4.34, 23]\n"
     ]
    }
   ],
   "source": [
    "l = [\"abc\", 34, 4.34, 23]\n",
    "l1 = l     # l1 is a reference to l\n",
    "l2 = l[:]  # l2 is a copy of l\n",
    "\n",
    "print('l = ',l)\n",
    "print('l1 = ',l1)\n",
    "print('l2 = ',l2)\n",
    "\n",
    "l[2] = 'item 2 changed'\n",
    "\n",
    "print(5*'-')\n",
    "\n",
    "print('l = ',l)\n",
    "print('l1 = ',l1)\n",
    "print('l2 = ',l2)  # have not changed\n",
    "\n",
    "l1[3] = 'item 3 changed'\n",
    "\n",
    "print(5*'-')\n",
    "\n",
    "print('l = ',l)\n",
    "print('l1 = ',l1)\n",
    "print('l2 = ',l2)  # have not changed"
   ]
  },
  {
   "cell_type": "markdown",
   "metadata": {},
   "source": [
    "### Functions\n",
    "\n",
    "\n",
    "- A function is a named block of code that performs a specific task\n",
    "- Functions allow for modularity in programs \n",
    "  * Functions break the program into small components -- nicknamed **decomposition**\n",
    "- Provides the ability to easily reuse code \n",
    "  * Functions hide the code but makes it available -- nicknamed **abstraction**"
   ]
  },
  {
   "cell_type": "code",
   "execution_count": 38,
   "metadata": {},
   "outputs": [
    {
     "name": "stdout",
     "output_type": "stream",
     "text": [
      "10\n"
     ]
    }
   ],
   "source": [
    "# using a function to sum to variables\n",
    "\n",
    "def adder(x,y):\n",
    "    s = x+y\n",
    "    return s\n",
    "\n",
    "a = 3\n",
    "b = 7\n",
    "print(adder(a,b))"
   ]
  },
  {
   "cell_type": "markdown",
   "metadata": {},
   "source": [
    "A function consists of:\n",
    "- A name: used to execute (or call) the function\n",
    "- A list of parameters: used to pass data into the function \n",
    "- A code block: containing the code to be executed\n",
    "- One or more return statements: to return a result back to the caller\n",
    "\n",
    "A function is created using a <span style=\"color:blue\">_def_</span> statement\n",
    "- Parameter and return types are not declared\n",
    "- Indentation is mandatory as well as the \":\" at the end of the function statement"
   ]
  },
  {
   "cell_type": "code",
   "execution_count": 6,
   "metadata": {},
   "outputs": [
    {
     "name": "stdout",
     "output_type": "stream",
     "text": [
      "10\n",
      "I am a python coder\n"
     ]
    }
   ],
   "source": [
    "c = \"I am\"\n",
    "d = \" a python coder\"\n",
    "print(adder(c,d))"
   ]
  },
  {
   "cell_type": "markdown",
   "metadata": {},
   "source": [
    "- All functions in Python have a return value\n",
    "   - Even if no return statement is used\n",
    "   - Functions without a return statement result in the special value <span style=\"color:blue\">_None_</span>\n",
    "- There is no function overloading in Python\n",
    "   - Two different functions can’t have the same name\n",
    "- Functions are objects that can be used as any other data type\n",
    "   - Arguments to a function\n",
    "   - Return values of functions\n",
    "   - Assigned to variables\n",
    "   - Parts of tuples, lists, etc."
   ]
  },
  {
   "cell_type": "code",
   "execution_count": 40,
   "metadata": {},
   "outputs": [
    {
     "data": {
      "text/plain": [
       "(8, 3, 5)"
      ]
     },
     "execution_count": 40,
     "metadata": {},
     "output_type": "execute_result"
    }
   ],
   "source": [
    "def adder(x,y):\n",
    "    s = x+y\n",
    "    return s, x, y\n",
    "\n",
    "output = adder(3,5)\n",
    "output"
   ]
  },
  {
   "cell_type": "markdown",
   "metadata": {},
   "source": [
    "#### Doc-String"
   ]
  },
  {
   "cell_type": "code",
   "execution_count": 14,
   "metadata": {},
   "outputs": [
    {
     "name": "stdout",
     "output_type": "stream",
     "text": [
      "this is a \n",
      "       doc-string for the fuction\n"
     ]
    }
   ],
   "source": [
    "def multiply(a,b=1):\n",
    "    '''this is a \n",
    "       doc-string for the fuction'''\n",
    "    m = b*a\n",
    "    return m\n",
    "\n",
    "print(multiply.__doc__)"
   ]
  },
  {
   "cell_type": "markdown",
   "metadata": {},
   "source": [
    "#### Keyword Arguments "
   ]
  },
  {
   "cell_type": "code",
   "execution_count": 16,
   "metadata": {},
   "outputs": [
    {
     "name": "stdout",
     "output_type": "stream",
     "text": [
      "6\n"
     ]
    }
   ],
   "source": [
    "def multiply(a,b):\n",
    "    m = b*a\n",
    "    return m\n",
    "\n",
    "print(multiply(b = 2, a = 3))"
   ]
  },
  {
   "cell_type": "markdown",
   "metadata": {},
   "source": [
    "#### Default Values"
   ]
  },
  {
   "cell_type": "code",
   "execution_count": 18,
   "metadata": {},
   "outputs": [
    {
     "name": "stdout",
     "output_type": "stream",
     "text": [
      "3\n",
      "6\n"
     ]
    }
   ],
   "source": [
    "def multiply(a,b=1):\n",
    "    m = b*a\n",
    "    return m\n",
    "\n",
    "print(multiply(3))\n",
    "print(multiply(3,2))"
   ]
  },
  {
   "cell_type": "markdown",
   "metadata": {},
   "source": [
    "#### Variable Length Arguments"
   ]
  },
  {
   "cell_type": "code",
   "execution_count": 29,
   "metadata": {},
   "outputs": [
    {
     "name": "stdout",
     "output_type": "stream",
     "text": [
      "3\n",
      "6\n",
      "24\n"
     ]
    }
   ],
   "source": [
    "def multiply(*args):\n",
    "    m = 1\n",
    "    for entry in args:\n",
    "        m = m * entry\n",
    "    return m\n",
    "\n",
    "print(multiply(3))\n",
    "print(multiply(3,2))\n",
    "print(multiply(3,2,4))"
   ]
  },
  {
   "cell_type": "markdown",
   "metadata": {},
   "source": [
    "#### Passing Arguments"
   ]
  },
  {
   "cell_type": "code",
   "execution_count": 52,
   "metadata": {},
   "outputs": [
    {
     "name": "stdout",
     "output_type": "stream",
     "text": [
      "[1, 2, 3]\n",
      "[4, 5, 6]\n"
     ]
    }
   ],
   "source": [
    "def changer(container):\n",
    "    container = [4,5,6]\n",
    "    return container\n",
    "\n",
    "old_container = [1,2,3]\n",
    "new_container = changer(old_container)\n",
    "print(old_container)\n",
    "print(new_container)"
   ]
  },
  {
   "cell_type": "code",
   "execution_count": 53,
   "metadata": {},
   "outputs": [],
   "source": [
    "old_container.clear()"
   ]
  },
  {
   "cell_type": "code",
   "execution_count": 55,
   "metadata": {},
   "outputs": [
    {
     "name": "stdout",
     "output_type": "stream",
     "text": [
      "[4, 5, 6]\n",
      "[4, 5, 6]\n"
     ]
    }
   ],
   "source": [
    "def changer(container):\n",
    "    container.clear()\n",
    "    for entry in [4,5,6]:\n",
    "        container.append(entry)\n",
    "    return container\n",
    "\n",
    "old_container = [1,2,3]\n",
    "new_container = changer(old_container)\n",
    "print(old_container)\n",
    "print(new_container)"
   ]
  },
  {
   "cell_type": "code",
   "execution_count": 56,
   "metadata": {},
   "outputs": [
    {
     "ename": "AttributeError",
     "evalue": "'tuple' object has no attribute 'clear'",
     "output_type": "error",
     "traceback": [
      "\u001b[1;31m---------------------------------------------------------------------------\u001b[0m",
      "\u001b[1;31mAttributeError\u001b[0m                            Traceback (most recent call last)",
      "\u001b[1;32m<ipython-input-56-e17da4a20f52>\u001b[0m in \u001b[0;36m<module>\u001b[1;34m\u001b[0m\n\u001b[0;32m      1\u001b[0m \u001b[0mold_container\u001b[0m \u001b[1;33m=\u001b[0m \u001b[1;33m(\u001b[0m\u001b[1;36m1\u001b[0m\u001b[1;33m,\u001b[0m\u001b[1;36m2\u001b[0m\u001b[1;33m,\u001b[0m\u001b[1;36m3\u001b[0m\u001b[1;33m)\u001b[0m\u001b[1;33m\u001b[0m\u001b[1;33m\u001b[0m\u001b[0m\n\u001b[1;32m----> 2\u001b[1;33m \u001b[0mnew_container\u001b[0m \u001b[1;33m=\u001b[0m \u001b[0mchanger\u001b[0m\u001b[1;33m(\u001b[0m\u001b[0mold_container\u001b[0m\u001b[1;33m)\u001b[0m\u001b[1;33m\u001b[0m\u001b[1;33m\u001b[0m\u001b[0m\n\u001b[0m\u001b[0;32m      3\u001b[0m \u001b[0mprint\u001b[0m\u001b[1;33m(\u001b[0m\u001b[0mold_container\u001b[0m\u001b[1;33m)\u001b[0m\u001b[1;33m\u001b[0m\u001b[1;33m\u001b[0m\u001b[0m\n\u001b[0;32m      4\u001b[0m \u001b[0mprint\u001b[0m\u001b[1;33m(\u001b[0m\u001b[0mnew_container\u001b[0m\u001b[1;33m)\u001b[0m\u001b[1;33m\u001b[0m\u001b[1;33m\u001b[0m\u001b[0m\n",
      "\u001b[1;32m<ipython-input-55-075b46066468>\u001b[0m in \u001b[0;36mchanger\u001b[1;34m(container)\u001b[0m\n\u001b[0;32m      1\u001b[0m \u001b[1;32mdef\u001b[0m \u001b[0mchanger\u001b[0m\u001b[1;33m(\u001b[0m\u001b[0mcontainer\u001b[0m\u001b[1;33m)\u001b[0m\u001b[1;33m:\u001b[0m\u001b[1;33m\u001b[0m\u001b[1;33m\u001b[0m\u001b[0m\n\u001b[1;32m----> 2\u001b[1;33m     \u001b[0mcontainer\u001b[0m\u001b[1;33m.\u001b[0m\u001b[0mclear\u001b[0m\u001b[1;33m(\u001b[0m\u001b[1;33m)\u001b[0m\u001b[1;33m\u001b[0m\u001b[1;33m\u001b[0m\u001b[0m\n\u001b[0m\u001b[0;32m      3\u001b[0m     \u001b[1;32mfor\u001b[0m \u001b[0mentry\u001b[0m \u001b[1;32min\u001b[0m \u001b[1;33m[\u001b[0m\u001b[1;36m4\u001b[0m\u001b[1;33m,\u001b[0m\u001b[1;36m5\u001b[0m\u001b[1;33m,\u001b[0m\u001b[1;36m6\u001b[0m\u001b[1;33m]\u001b[0m\u001b[1;33m:\u001b[0m\u001b[1;33m\u001b[0m\u001b[1;33m\u001b[0m\u001b[0m\n\u001b[0;32m      4\u001b[0m         \u001b[0mcontainer\u001b[0m\u001b[1;33m.\u001b[0m\u001b[0mappend\u001b[0m\u001b[1;33m(\u001b[0m\u001b[0mentry\u001b[0m\u001b[1;33m)\u001b[0m\u001b[1;33m\u001b[0m\u001b[1;33m\u001b[0m\u001b[0m\n\u001b[0;32m      5\u001b[0m     \u001b[1;32mreturn\u001b[0m \u001b[0mcontainer\u001b[0m\u001b[1;33m\u001b[0m\u001b[1;33m\u001b[0m\u001b[0m\n",
      "\u001b[1;31mAttributeError\u001b[0m: 'tuple' object has no attribute 'clear'"
     ]
    }
   ],
   "source": [
    "old_container = (1,2,3)\n",
    "new_container = changer(old_container)\n",
    "print(old_container)\n",
    "print(new_container)"
   ]
  },
  {
   "cell_type": "markdown",
   "metadata": {},
   "source": [
    "#### Scope"
   ]
  },
  {
   "cell_type": "code",
   "execution_count": 58,
   "metadata": {
    "jupyter": {
     "outputs_hidden": false
    }
   },
   "outputs": [
    {
     "name": "stdout",
     "output_type": "stream",
     "text": [
      "7\n",
      "42\n",
      "7\n"
     ]
    }
   ],
   "source": [
    "a = 7\n",
    "\n",
    "def a_global():\n",
    "    print(a)\n",
    "\n",
    "def a_local():\n",
    "    a = 42\n",
    "    print(a)\n",
    "\n",
    "a_global()\n",
    "a_local()\n",
    "print(a)"
   ]
  },
  {
   "cell_type": "code",
   "execution_count": 60,
   "metadata": {
    "jupyter": {
     "outputs_hidden": false
    }
   },
   "outputs": [
    {
     "ename": "UnboundLocalError",
     "evalue": "local variable 'a' referenced before assignment",
     "output_type": "error",
     "traceback": [
      "\u001b[1;31m---------------------------------------------------------------------------\u001b[0m",
      "\u001b[1;31mUnboundLocalError\u001b[0m                         Traceback (most recent call last)",
      "\u001b[1;32m<ipython-input-60-13c6fd4d9e4f>\u001b[0m in \u001b[0;36m<module>\u001b[1;34m\u001b[0m\n\u001b[0;32m      9\u001b[0m     \u001b[0mprint\u001b[0m\u001b[1;33m(\u001b[0m\u001b[1;34m\"a equals \"\u001b[0m\u001b[1;33m,\u001b[0m \u001b[0ma\u001b[0m\u001b[1;33m)\u001b[0m\u001b[1;33m\u001b[0m\u001b[1;33m\u001b[0m\u001b[0m\n\u001b[0;32m     10\u001b[0m \u001b[1;33m\u001b[0m\u001b[0m\n\u001b[1;32m---> 11\u001b[1;33m \u001b[0mfunc\u001b[0m\u001b[1;33m(\u001b[0m\u001b[1;33m)\u001b[0m\u001b[1;33m\u001b[0m\u001b[1;33m\u001b[0m\u001b[0m\n\u001b[0m",
      "\u001b[1;32m<ipython-input-60-13c6fd4d9e4f>\u001b[0m in \u001b[0;36mfunc\u001b[1;34m()\u001b[0m\n\u001b[0;32m      3\u001b[0m \u001b[1;32mdef\u001b[0m \u001b[0mfunc\u001b[0m\u001b[1;33m(\u001b[0m\u001b[1;33m)\u001b[0m\u001b[1;33m:\u001b[0m\u001b[1;33m\u001b[0m\u001b[1;33m\u001b[0m\u001b[0m\n\u001b[0;32m      4\u001b[0m     \u001b[1;31m# you cannot use the global 'a' because...\u001b[0m\u001b[1;33m\u001b[0m\u001b[1;33m\u001b[0m\u001b[1;33m\u001b[0m\u001b[0m\n\u001b[1;32m----> 5\u001b[1;33m     \u001b[0mprint\u001b[0m\u001b[1;33m(\u001b[0m\u001b[1;34m\"a equals \"\u001b[0m\u001b[1;33m,\u001b[0m \u001b[0ma\u001b[0m\u001b[1;33m)\u001b[0m\u001b[1;33m\u001b[0m\u001b[1;33m\u001b[0m\u001b[0m\n\u001b[0m\u001b[0;32m      6\u001b[0m \u001b[1;33m\u001b[0m\u001b[0m\n\u001b[0;32m      7\u001b[0m     \u001b[1;31m# a local variable 'a' is eventually defined!\u001b[0m\u001b[1;33m\u001b[0m\u001b[1;33m\u001b[0m\u001b[1;33m\u001b[0m\u001b[0m\n",
      "\u001b[1;31mUnboundLocalError\u001b[0m: local variable 'a' referenced before assignment"
     ]
    }
   ],
   "source": [
    "a = 7\n",
    "\n",
    "def func():\n",
    "    # you cannot use the global 'a' because...\n",
    "    print(\"a equals \", a)\n",
    "    \n",
    "    # a local variable 'a' is eventually defined!\n",
    "    a = 42\n",
    "    print(\"a equals \", a)\n",
    "\n",
    "func()"
   ]
  },
  {
   "cell_type": "code",
   "execution_count": 63,
   "metadata": {
    "jupyter": {
     "outputs_hidden": false
    }
   },
   "outputs": [
    {
     "name": "stdout",
     "output_type": "stream",
     "text": [
      "a equals  7\n",
      "a equals  42\n",
      "a equals  42\n"
     ]
    }
   ],
   "source": [
    "a = 7\n",
    "\n",
    "def func():\n",
    "    global a\n",
    "    print(\"a equals \", a)\n",
    "    \n",
    "    a = 42\n",
    "    print(\"a equals \", a)\n",
    "\n",
    "func()\n",
    "print(\"a equals \", a)"
   ]
  },
  {
   "cell_type": "markdown",
   "metadata": {},
   "source": [
    "---\n",
    "### Classes \n",
    "\n",
    "Classes are combinations of functions and containers.\n",
    "\n",
    "- functions called methods \n",
    "- containers called attributes \n",
    "\n",
    "We think of classes as blue-prints for objects. "
   ]
  },
  {
   "cell_type": "code",
   "execution_count": 25,
   "metadata": {},
   "outputs": [],
   "source": [
    "class ClassExample(object):\n",
    "    def __init__(self, data_example):\n",
    "        self.attribute_example = data_example\n",
    "    \n",
    "    def getter(self, n):\n",
    "        return self.attribute_example[:n]"
   ]
  },
  {
   "cell_type": "markdown",
   "metadata": {},
   "source": [
    " Objects are instances of the classes with data."
   ]
  },
  {
   "cell_type": "code",
   "execution_count": 27,
   "metadata": {},
   "outputs": [
    {
     "data": {
      "text/plain": [
       "[1]"
      ]
     },
     "execution_count": 27,
     "metadata": {},
     "output_type": "execute_result"
    }
   ],
   "source": [
    "object_example = ClassExample([1,2,3])\n",
    "\n",
    "object_example.getter(1)"
   ]
  },
  {
   "cell_type": "markdown",
   "metadata": {},
   "source": [
    "Qualification notation means the use of the period to access methods and attributes."
   ]
  },
  {
   "cell_type": "code",
   "execution_count": 28,
   "metadata": {},
   "outputs": [
    {
     "name": "stdout",
     "output_type": "stream",
     "text": [
      "[1, 2, 3]\n"
     ]
    }
   ],
   "source": [
    "print(object_example.attribute_example)"
   ]
  },
  {
   "cell_type": "markdown",
   "metadata": {},
   "source": [
    "We can construct relations between classes through inheritance. "
   ]
  },
  {
   "cell_type": "code",
   "execution_count": 31,
   "metadata": {},
   "outputs": [],
   "source": [
    "class ClassExampleChild(ClassExample):\n",
    "    def __init__(self, data_example, data_example_child):\n",
    "        super().__init__(data_example)\n",
    "        self.attribute_example_child = data_example_child\n",
    "    \n",
    "    def getter_child(self, n):\n",
    "        return self.attribute_example_child[:n]"
   ]
  },
  {
   "cell_type": "markdown",
   "metadata": {},
   "source": [
    "Here we have a parent class and a child class."
   ]
  },
  {
   "cell_type": "code",
   "execution_count": 34,
   "metadata": {},
   "outputs": [],
   "source": [
    "object_example_child = ClassExampleChild([1,2,3], (5,6,7))"
   ]
  },
  {
   "cell_type": "code",
   "execution_count": 35,
   "metadata": {},
   "outputs": [
    {
     "data": {
      "text/plain": [
       "[1]"
      ]
     },
     "execution_count": 35,
     "metadata": {},
     "output_type": "execute_result"
    }
   ],
   "source": [
    "object_example_child.getter(1)"
   ]
  },
  {
   "cell_type": "code",
   "execution_count": 36,
   "metadata": {},
   "outputs": [
    {
     "data": {
      "text/plain": [
       "(5, 6)"
      ]
     },
     "execution_count": 36,
     "metadata": {},
     "output_type": "execute_result"
    }
   ],
   "source": [
    "object_example_child.getter_child(2)"
   ]
  },
  {
   "cell_type": "markdown",
   "metadata": {},
   "source": [
    "---\n",
    "### Modules\n",
    "- Modules are functions, classes, and variables defined in separate files.\n",
    "- Every file contain Python code and ending in .py is a module\n",
    "- There are many predefined modules that perform all sorts of useful operations\n",
    "\n",
    "A _module_ is a single file that can be imported under an _import_ command (essentially, any Python file is a module).\n",
    "```python\n",
    "import my_module\n",
    "```\n",
    "\n",
    "A package (sometimes called library)is a module that may have submodules (including subpackages).\n",
    "\n",
    "```python\n",
    "import numpy.random \n",
    "```\n"
   ]
  },
  {
   "cell_type": "markdown",
   "metadata": {},
   "source": [
    "#### 'import' statement\n",
    " - The _import_ statement loads everything from a module into the program.\n",
    " - The module gets loaded once. Subsequent attempts to import the module will not load anything \n",
    "  * If you need to import again then restart your kernel."
   ]
  },
  {
   "cell_type": "markdown",
   "metadata": {},
   "source": [
    "#### 'from' statement\n",
    "- The _from_ statement allows individual attributes to be imported into the current module\n",
    "- It does not import the whole module, only the specific attribute you specify\n",
    "  * If you want to import everything then use an astericks `*` "
   ]
  },
  {
   "cell_type": "code",
   "execution_count": 64,
   "metadata": {},
   "outputs": [],
   "source": [
    "from numpy import random"
   ]
  },
  {
   "cell_type": "markdown",
   "metadata": {},
   "source": [
    "#### 'as' statement\n",
    "- The _as_ statement allows for aliases\n",
    "- Helpful for refactoring code"
   ]
  },
  {
   "cell_type": "code",
   "execution_count": 34,
   "metadata": {},
   "outputs": [],
   "source": [
    "import numpy as np"
   ]
  },
  {
   "cell_type": "markdown",
   "metadata": {},
   "source": [
    "#### Nested Imports\n",
    "\n",
    "\n",
    "Modules can import other modules which can in turn import other modules\n",
    "$$\n",
    "\\fbox{a.py}\\xrightarrow{\\text{import}}\\fbox{b.py}\\xrightarrow{\\text{import}}\\fbox{c.py}\n",
    "$$\n",
    "Functions in _c.py_ can be accessed from module _b.py_ in _a.py_ using the expression `b.c.function_name` "
   ]
  },
  {
   "cell_type": "markdown",
   "metadata": {},
   "source": [
    "#### Packages\n",
    "We can bundle modules together with packages. The folder needs a structure\n",
    "\n",
    "__Example:__\n",
    "```\n",
    "my_package/                          \n",
    "      __init__.py                    \n",
    "      my_module_1.py\n",
    "      my_submodule/\n",
    "              __init__.py\n",
    "              my_module_2.py\n",
    "```\n",
    "We need the __init__.py file to specify the package. While the file can be empty, Python will not recognize the folder as a package without it. \n",
    "\n",
    "```python\n",
    "from my_package import my_module_1\n",
    "import my_package.my_submodule.my_module_2\n",
    "```"
   ]
  },
  {
   "cell_type": "markdown",
   "metadata": {},
   "source": [
    "Suppose we want to store a function `subtract` in a module `hello_world`."
   ]
  },
  {
   "cell_type": "code",
   "execution_count": 68,
   "metadata": {},
   "outputs": [
    {
     "name": "stdout",
     "output_type": "stream",
     "text": [
      "Overwriting hello_world.py\n"
     ]
    }
   ],
   "source": [
    "%%writefile hello_world.py\n",
    "def subtract(x, y):\n",
    "    return x - y\n",
    "\n",
    "my_variable = 0"
   ]
  },
  {
   "cell_type": "code",
   "execution_count": 69,
   "metadata": {},
   "outputs": [
    {
     "name": "stdout",
     "output_type": "stream",
     "text": [
      "3\n"
     ]
    }
   ],
   "source": [
    "from hello_world import subtract\n",
    "\n",
    "print(subtract(5,2))"
   ]
  }
 ],
 "metadata": {
  "kernelspec": {
   "display_name": "Python [conda env:mg-gy-8413]",
   "language": "python",
   "name": "conda-env-mg-gy-8413-py"
  },
  "language_info": {
   "codemirror_mode": {
    "name": "ipython",
    "version": 3
   },
   "file_extension": ".py",
   "mimetype": "text/x-python",
   "name": "python",
   "nbconvert_exporter": "python",
   "pygments_lexer": "ipython3",
   "version": "3.7.12"
  }
 },
 "nbformat": 4,
 "nbformat_minor": 4
}
