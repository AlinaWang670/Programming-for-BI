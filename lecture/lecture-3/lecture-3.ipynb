{
 "cells": [
  {
   "cell_type": "markdown",
   "metadata": {},
   "source": [
    "## MG-GY 8401: Programming for Business Intelligence and Analytics\n",
    "## Lecture 3\n",
    "\n",
    "We will take a look at some useful features of the `numpy` package incuding\n",
    "\n",
    "1. Accessing  \n",
    "1. Manipulating\n",
    "1. Calculating\n",
    "\n",
    "Note that Python has several versions. We will be using **Python 3.7**."
   ]
  },
  {
   "cell_type": "markdown",
   "metadata": {},
   "source": [
    "---\n",
    "### Object Oriented Programming\n",
    "\n",
    "Three main concepts:\n",
    "- Objects\n",
    "- Classes\n",
    "- Inheritance\n",
    "\n",
    "A class specifies the attributes and methods of the object. Each object is an instance of the class. "
   ]
  },
  {
   "cell_type": "markdown",
   "metadata": {},
   "source": [
    "```python\n",
    "class NameOfTheClass(parentclass,...)\n",
    "      \n",
    "      def __init__(self, value_1, value_2,...):  # class constructor\n",
    "         self.attribute1 = value_1\n",
    "         self.attribute2 = value_2\n",
    "        ...\n",
    "       \n",
    "      def method_1(self, value...):\n",
    "         self.attribute_1 = value\n",
    "```    \n",
    "A classes can inherit attributes and methods from other classes. A class that inherits from another class is called a child class. A class that is inherited by another class is called a parent class.\n",
    "\n",
    "Green letters - reserved key works\n"
   ]
  },
  {
   "cell_type": "code",
   "execution_count": 1,
   "metadata": {},
   "outputs": [
    {
     "name": "stdout",
     "output_type": "stream",
     "text": [
      "hello Nica\n"
     ]
    }
   ],
   "source": [
    "class SayHello(object):\n",
    "    def __init__(self, input_name):\n",
    "        self.attribute = input_name\n",
    "        \n",
    "    def method(self):\n",
    "        print(f\"hello {self.attribute}\")\n",
    "\n",
    "instance_of_SayHello = SayHello('Nica')\n",
    "instance_of_SayHello.method()"
   ]
  },
  {
   "cell_type": "code",
   "execution_count": 1,
   "metadata": {},
   "outputs": [],
   "source": [
    "class bicycle(object):\n",
    "    def __init__(self, bike_type = None, n_gears = 1, handlebar = 'Drop'):\n",
    "        print(\"...building the object...\")\n",
    "        self.bicycle_type = bike_type\n",
    "        self.number_of_gears = n_gears\n",
    "        self.handlebar_type = handlebar\n",
    "        \n",
    "    def get_handlebar_options(self, k=4):\n",
    "        handle_options = ['Drop','Cruiser','Flat','Bullhorn']\n",
    "        print(handle_options[:k])"
   ]
  },
  {
   "cell_type": "markdown",
   "metadata": {},
   "source": [
    "Note that `self` is a keyword. The `self` keyword indicates that the method or attribute is accessible to instances of objects from the class."
   ]
  },
  {
   "cell_type": "code",
   "execution_count": 2,
   "metadata": {},
   "outputs": [
    {
     "name": "stdout",
     "output_type": "stream",
     "text": [
      "...building the object...\n"
     ]
    }
   ],
   "source": [
    "my_bike = bicycle() # instantiating "
   ]
  },
  {
   "cell_type": "markdown",
   "metadata": {},
   "source": [
    "Having defined the class, we can construct instances of objects."
   ]
  },
  {
   "cell_type": "code",
   "execution_count": 3,
   "metadata": {},
   "outputs": [],
   "source": [
    "my_bike.bicycle_type = 'Mountain' # accessing an instance's variables\n",
    "my_bike.number_of_gears = 3     "
   ]
  },
  {
   "cell_type": "markdown",
   "metadata": {},
   "source": [
    "We can access and modify attributes."
   ]
  },
  {
   "cell_type": "code",
   "execution_count": 4,
   "metadata": {},
   "outputs": [
    {
     "name": "stdout",
     "output_type": "stream",
     "text": [
      "['Drop', 'Cruiser']\n"
     ]
    }
   ],
   "source": [
    "my_bike.get_handlebar_options(2) # accessing an instance's method"
   ]
  },
  {
   "cell_type": "markdown",
   "metadata": {},
   "source": [
    "We can use methods."
   ]
  },
  {
   "cell_type": "code",
   "execution_count": 5,
   "metadata": {},
   "outputs": [
    {
     "name": "stdout",
     "output_type": "stream",
     "text": [
      "...building the object...\n",
      "<__main__.bicycle object at 0x000001898279D388>\n"
     ]
    }
   ],
   "source": [
    "your_bike = bicycle(bike_type='Road', handlebar='Bullhorn') #instantiating\n",
    "\n",
    "print(your_bike)"
   ]
  },
  {
   "cell_type": "markdown",
   "metadata": {},
   "source": [
    "We can define a child class."
   ]
  },
  {
   "cell_type": "code",
   "execution_count": 6,
   "metadata": {},
   "outputs": [],
   "source": [
    "class mountain_bike(bicycle): \n",
    "    def __init__(self, n_gears = 10, handlebar = 'Bullhorn'):\n",
    "        super().__init__('Mountain', n_gears, handlebar)\n",
    "        \n",
    "    def get_handlebar_options(self, k=3):\n",
    "        handle_options = ['Drop','Flat','Bullhorn']\n",
    "        print(handle_options[:k])"
   ]
  },
  {
   "cell_type": "code",
   "execution_count": 7,
   "metadata": {},
   "outputs": [
    {
     "name": "stdout",
     "output_type": "stream",
     "text": [
      "...building the object...\n",
      "['Drop', 'Flat', 'Bullhorn']\n"
     ]
    }
   ],
   "source": [
    "my_mountain_bike = mountain_bike()\n",
    "my_mountain_bike.get_handlebar_options()"
   ]
  },
  {
   "cell_type": "markdown",
   "metadata": {},
   "source": [
    "#### Operator Overloading\n",
    "\n",
    "Classes can modify built-in Python operators. These built-in operators have double underscores.\n",
    "\n",
    "- `__repr__` call when printed or converted to a string\n",
    "- `__add__` for + operator X + Y\n",
    "- `__lt__`, `__gt__`, for comparisons X < Y, X > Y\n",
    "- Many more...\n",
    "\n"
   ]
  },
  {
   "cell_type": "code",
   "execution_count": 8,
   "metadata": {},
   "outputs": [],
   "source": [
    "class bicycle(object):\n",
    "    def __init__(self, bike_type = None, n_gears = 1, handlebar = 'Drop'):\n",
    "        print(\"...building the object...\")\n",
    "        self.bicycle_type = bike_type\n",
    "        self.number_of_gears = n_gears\n",
    "        self.handlebar_type = handlebar\n",
    "        \n",
    "    def get_handlebar_options(self, k=4):\n",
    "        handle_options = ['Drop','Cruiser','Flat','Bullhorn']\n",
    "        print(handle_options[:k])\n",
    "\n",
    "    def __repr__(self):      \n",
    "        return \"\""
   ]
  },
  {
   "cell_type": "markdown",
   "metadata": {},
   "source": [
    "Note that the `__repr__` method determines the output of the `print` function."
   ]
  },
  {
   "cell_type": "code",
   "execution_count": 9,
   "metadata": {},
   "outputs": [],
   "source": [
    "class mountain_bike(bicycle): \n",
    "    def __init__(self, n_gears = 10, handlebar='Bullhorn'):\n",
    "        super().__init__('Mountain', n_gears, handlebar)\n",
    "        \n",
    "    def get_handlebar_options(self, k=3):\n",
    "        handle_options = ['Drop','Flat','Bullhorn']\n",
    "        print(handle_options[:k])\n",
    "        \n",
    "    def __repr__(self):      \n",
    "        return 'Type: ' + self.bicycle_type + '\\n Gears: ' + str(self.number_of_gears) + '\\n Handlebar: ' + self.handlebar_type   "
   ]
  },
  {
   "cell_type": "code",
   "execution_count": 10,
   "metadata": {},
   "outputs": [
    {
     "name": "stdout",
     "output_type": "stream",
     "text": [
      "...building the object...\n",
      "Type: Mountain\n",
      " Gears: 10\n",
      " Handlebar: Bullhorn\n"
     ]
    }
   ],
   "source": [
    "my_mountain_bike = mountain_bike()\n",
    "print(my_mountain_bike)"
   ]
  },
  {
   "cell_type": "markdown",
   "metadata": {},
   "source": [
    "Notice that the __repr__ function in the superclass does not include information about \"suspension\", therefore we need to extend (rather than replace) the __repr__ function."
   ]
  },
  {
   "cell_type": "code",
   "execution_count": 11,
   "metadata": {},
   "outputs": [],
   "source": [
    "class downhill_mountain_bike(mountain_bike): \n",
    "    def __init__(self, n_gears = 10, handlebar='Bullhorn', suspension = None):\n",
    "        super().__init__(n_gears, handlebar)\n",
    "        self.suspension_type = suspension\n",
    "        \n",
    "    def __repr__(self):\n",
    "        return super().__repr__() +'\\n'+'Suspension: ' + self.suspension_type"
   ]
  },
  {
   "cell_type": "code",
   "execution_count": 12,
   "metadata": {},
   "outputs": [
    {
     "name": "stdout",
     "output_type": "stream",
     "text": [
      "...building the object...\n",
      "Type: Mountain\n",
      " Gears: 10\n",
      " Handlebar: Bullhorn\n",
      "Suspension: front_and_rear\n"
     ]
    }
   ],
   "source": [
    "my_downhill_bike = downhill_mountain_bike(suspension = 'front_and_rear')\n",
    "print(my_downhill_bike)"
   ]
  },
  {
   "cell_type": "markdown",
   "metadata": {},
   "source": [
    "#### Class Methods"
   ]
  },
  {
   "cell_type": "code",
   "execution_count": 13,
   "metadata": {},
   "outputs": [
    {
     "data": {
      "text/plain": [
       "'Hello World'"
      ]
     },
     "execution_count": 13,
     "metadata": {},
     "output_type": "execute_result"
    }
   ],
   "source": [
    "class ExampleClass(object):\n",
    "    def __init__(self):\n",
    "        pass\n",
    "    \n",
    "    def example_instance_method():\n",
    "        return \"Hello World\"\n",
    "\n",
    "example_object = ExampleClass()\n",
    "\n",
    "# example_object.example_instance_method()\n",
    "ExampleClass.example_instance_method()"
   ]
  },
  {
   "cell_type": "markdown",
   "metadata": {},
   "source": [
    "---\n",
    "### Arrays\n",
    "\n"
   ]
  },
  {
   "cell_type": "markdown",
   "metadata": {},
   "source": [
    "We need to import numpy \n",
    "```python\n",
    "import numpy\n",
    "import numpy as np\n",
    "from numpy import *\n",
    "```"
   ]
  },
  {
   "cell_type": "markdown",
   "metadata": {},
   "source": [
    "We tend to use the alias `np`."
   ]
  },
  {
   "cell_type": "code",
   "execution_count": 14,
   "metadata": {},
   "outputs": [],
   "source": [
    "import numpy as np"
   ]
  },
  {
   "cell_type": "markdown",
   "metadata": {},
   "source": [
    "Arrays are similar to lists. However we note some differences\n",
    "- Every element in an array must be of the same type, typically a numeric type like float or int\n",
    "- Arrays make operations with large amounts of numeric data very fast and are generally much more efficient than lists\n",
    "- Each array dimensions is called an axis\n",
    "- Axes are numbered starting from 0\n",
    "- Elements are accessed using [] (similar to lists)"
   ]
  },
  {
   "cell_type": "code",
   "execution_count": 15,
   "metadata": {},
   "outputs": [
    {
     "name": "stdout",
     "output_type": "stream",
     "text": [
      "1D arrays\n",
      "\n",
      "a1d= [ 1  3  5  7  9 10]\n",
      "b1d= [0. 0. 0. 0. 0. 0. 0. 0.]\n",
      "c1d= [1. 1. 1. 1. 1. 1. 1. 1. 1. 1.]\n",
      "d1d= [0 1 2 3 4 5 6 7 8 9]\n",
      "e1d= [1.   1.25 1.5  1.75 2.  ]\n",
      "\n",
      " 2D arrays\n",
      "\n",
      "a2d=\n",
      " [[ 1  3  5  7  9 11]\n",
      " [ 2  4  6  8 10 12]\n",
      " [ 0  1  2  3  4  5]]\n",
      "b2d=\n",
      " [[0. 0. 0.]\n",
      " [0. 0. 0.]\n",
      " [0. 0. 0.]\n",
      " [0. 0. 0.]\n",
      " [0. 0. 0.]\n",
      " [0. 0. 0.]\n",
      " [0. 0. 0.]\n",
      " [0. 0. 0.]]\n",
      "c2d=\n",
      " [[1. 1. 1. 1. 1.]\n",
      " [1. 1. 1. 1. 1.]\n",
      " [1. 1. 1. 1. 1.]\n",
      " [1. 1. 1. 1. 1.]\n",
      " [1. 1. 1. 1. 1.]\n",
      " [1. 1. 1. 1. 1.]\n",
      " [1. 1. 1. 1. 1.]\n",
      " [1. 1. 1. 1. 1.]\n",
      " [1. 1. 1. 1. 1.]\n",
      " [1. 1. 1. 1. 1.]]\n"
     ]
    }
   ],
   "source": [
    "print(\"1D arrays\\n\")\n",
    "# creating 1D arrays from a list\n",
    "a1d = np.array([1,3,5,7,9,10])\n",
    "\n",
    "# creading 1D arrays from built-in functions\n",
    "b1d = np.zeros((8))\n",
    "c1d = np.ones((10))\n",
    "d1d = np.arange(10)\n",
    "e1d = np.linspace(1,2,5)\n",
    "\n",
    "print('a1d=',a1d)\n",
    "print('b1d=',b1d)\n",
    "print('c1d=',c1d)\n",
    "print('d1d=',d1d)\n",
    "print('e1d=',e1d)\n",
    "\n",
    "print(\"\\n 2D arrays\\n\")\n",
    "# creating 2D arrays from lists\n",
    "a2d = np.array([[1,3,5,7,9,11],\n",
    "                  [2,4,6,8,10,12],\n",
    "                  [0,1,2,3,4,5]])\n",
    "\n",
    "# creading 2D arrays from built-in functions\n",
    "b2d = np.zeros((8,3))\n",
    "c2d = np.ones((10,5))\n",
    "\n",
    "print('a2d=\\n',a2d)\n",
    "print('b2d=\\n',b2d)\n",
    "print('c2d=\\n',c2d)"
   ]
  },
  {
   "cell_type": "markdown",
   "metadata": {},
   "source": [
    "Numpy arrays are objects called _ndarrays_\n",
    "- ndarray.ndim - the number of axes (dimensions) of the array\n",
    "- ndarray.shape - a tuple of integers indicating the size of the array in each dimension\n",
    "- ndarray.size - the total number of elements of the array\n",
    "- ndarray.dtype - an object describing the type of the elements in the array\n",
    "- ndarray.itemsize - the size in bytes of each element of the array"
   ]
  },
  {
   "cell_type": "code",
   "execution_count": 16,
   "metadata": {},
   "outputs": [
    {
     "name": "stdout",
     "output_type": "stream",
     "text": [
      " ndim\n",
      "1 1 1\n",
      "2 2 2\n",
      "\n",
      " shape\n",
      "(6,) (8,) (10,)\n",
      "(3, 6) (8, 3) (10, 5)\n",
      "\n",
      " size\n",
      "6 8 10\n",
      "18 24 50\n",
      "\n",
      " dtype\n",
      "int32 float64 float64\n",
      "int32 float64 float64\n",
      "\n",
      " itemsize\n",
      "4 8 8\n",
      "4 8 8\n"
     ]
    }
   ],
   "source": [
    "print(\" ndim\")\n",
    "print(a1d.ndim,b1d.ndim,c1d.ndim)\n",
    "print(a2d.ndim,b2d.ndim,c2d.ndim)\n",
    "print(\"\\n shape\")\n",
    "print(a1d.shape,b1d.shape,c1d.shape)\n",
    "print(a2d.shape,b2d.shape,c2d.shape)\n",
    "print(\"\\n size\")\n",
    "print(a1d.size,b1d.size,c1d.size)\n",
    "print(a2d.size,b2d.size,c2d.size)\n",
    "print(\"\\n dtype\")\n",
    "print(a1d.dtype,b1d.dtype,c1d.dtype)\n",
    "print(a2d.dtype,b2d.dtype,c2d.dtype)\n",
    "print(\"\\n itemsize\")\n",
    "print(a1d.itemsize,b1d.itemsize,c1d.itemsize)\n",
    "print(a2d.itemsize,b2d.itemsize,c2d.itemsize)"
   ]
  },
  {
   "cell_type": "markdown",
   "metadata": {},
   "source": [
    "#### Accessing array elements \n",
    "- indices range from 0 to $k-1$, where $k$ is the number of enries in the axis."
   ]
  },
  {
   "cell_type": "code",
   "execution_count": 17,
   "metadata": {},
   "outputs": [
    {
     "name": "stdout",
     "output_type": "stream",
     "text": [
      "1D Array \n",
      " [ 1  3  5  7  9 10]\n",
      "Access Entries \n",
      " 1 7 10\n",
      "2D Array \n",
      " [[ 1  3  5  7  9 11]\n",
      " [ 2  4  6  8 10 12]\n",
      " [ 0  1  2  3  4  5]]\n",
      "Access Rows \n",
      " [ 2  4  6  8 10 12]\n",
      "Access Entries \n",
      " 3 6 5\n"
     ]
    }
   ],
   "source": [
    "print(\"1D Array \\n\", a1d)\n",
    "print(\"Access Entries \\n\",a1d[0],a1d[3],a1d[-1])\n",
    "print(\"2D Array \\n\", a2d)\n",
    "print(\"Access Rows \\n\", a2d[1])\n",
    "print(\"Access Entries \\n\", a2d[0,1],a2d[1,2],a2d[-1,-1])"
   ]
  },
  {
   "cell_type": "markdown",
   "metadata": {},
   "source": [
    "- Iterating over an array is done with respect to the first axis\n",
    "- The _.flatten_ allows for traverse all elements"
   ]
  },
  {
   "cell_type": "code",
   "execution_count": 18,
   "metadata": {},
   "outputs": [
    {
     "name": "stdout",
     "output_type": "stream",
     "text": [
      "[ 1  3  5  7  9 11]\n",
      "[ 2  4  6  8 10 12]\n",
      "[0 1 2 3 4 5]\n",
      "1\n",
      "3\n",
      "5\n",
      "7\n",
      "9\n",
      "11\n",
      "2\n",
      "4\n",
      "6\n",
      "8\n",
      "10\n",
      "12\n",
      "0\n",
      "1\n",
      "2\n",
      "3\n",
      "4\n",
      "5\n"
     ]
    }
   ],
   "source": [
    "for r in a2d:\n",
    "    print(r)\n",
    "    \n",
    "for i in a2d.flatten():\n",
    "    print(i)"
   ]
  },
  {
   "cell_type": "markdown",
   "metadata": {},
   "source": [
    "####  Slicing\n",
    "- Array slicing works in the same way as sequence slicing, but in multiple dimensions\n",
    "- Like lists of lists, omitting an index is considered a complete slice\n",
    "- A slice is a view of the original array (similar to a reference), that is, data is shared, not copied"
   ]
  },
  {
   "cell_type": "code",
   "execution_count": 19,
   "metadata": {},
   "outputs": [
    {
     "name": "stdout",
     "output_type": "stream",
     "text": [
      "[[ 1  3  5  7  9 11]\n",
      " [ 2  4  6  8 10 12]\n",
      " [ 0  1  2  3  4  5]]\n",
      "fixing a row and traversing columns (equivalent to a2d[1])\n",
      " [ 2  4  6  8 10 12]\n",
      "fixing a column and traversing rows\n",
      " [5 6 2]\n",
      "traversing an array block\n",
      " [[ 6  8 10]\n",
      " [ 2  3  4]]\n",
      "traversing a subset of rows \n",
      " [[ 1  3  5  7  9 11]\n",
      " [ 0  1  2  3  4  5]]\n",
      "traversing a subset of columns \n",
      " [[ 1  5 11]\n",
      " [ 2  6 12]\n",
      " [ 0  2  5]]\n",
      "traversing a subset of array elements \n",
      " [1 6 5]\n"
     ]
    }
   ],
   "source": [
    "print(a2d)\n",
    "print('fixing a row and traversing columns (equivalent to a2d[1])\\n',\n",
    "      a2d[1,:])\n",
    "\n",
    "print('fixing a column and traversing rows\\n',a2d[:,2])\n",
    "\n",
    "print('traversing an array block\\n',a2d[1:,2:5])\n",
    "\n",
    "print('traversing a subset of rows \\n',a2d[[0,2]])\n",
    "\n",
    "print('traversing a subset of columns \\n',a2d[:,[0,2,5]])\n",
    "\n",
    "print('traversing a subset of array elements \\n',a2d[[0,1,2],[0,2,5]])"
   ]
  },
  {
   "cell_type": "markdown",
   "metadata": {},
   "source": [
    "#### Copies and Views\n",
    "- A _view_ is created by slicing an array\n",
    "- A _view_ is like a reference to part to an array\n",
    "- Changing elements of the _view_ will change the original array\n",
    "- If necessary, you can explicitly make a copy"
   ]
  },
  {
   "cell_type": "code",
   "execution_count": 20,
   "metadata": {},
   "outputs": [
    {
     "name": "stdout",
     "output_type": "stream",
     "text": [
      "[[ 1  3  5  7  9 11]\n",
      " [ 2  4  6  8 10 12]\n",
      " [ 0  1  2  3  4  5]]\n",
      "[[1 3 5]\n",
      " [2 4 6]\n",
      " [0 1 2]]\n",
      "\n",
      "\n",
      "[[ 1  3  5  7  9 11]\n",
      " [ 2  4  6  8 10 12]\n",
      " [ 0 -1  2  3  4  5]]\n",
      "[[ 1  3  5]\n",
      " [ 2  4  6]\n",
      " [ 0 -1  2]]\n",
      "\n",
      "\n",
      "[[ 1  3  5  7  9 11]\n",
      " [ 2  4  6  8 10 12]\n",
      " [ 0 -1  2  3  4  5]]\n",
      "[[-1  3  5]\n",
      " [ 2  4  6]\n",
      " [ 0 -1  2]]\n"
     ]
    }
   ],
   "source": [
    "b2d = a2d[:,:3]\n",
    "print(a2d)\n",
    "print(b2d)\n",
    "print('\\n')\n",
    "\n",
    "b2d[2,1] = -1\n",
    "print(a2d)\n",
    "print(b2d)\n",
    "print('\\n')\n",
    "\n",
    "c2d = a2d[:,:3].copy()\n",
    "c2d[0,0] = -1\n",
    "print(a2d)\n",
    "print(c2d)"
   ]
  },
  {
   "cell_type": "markdown",
   "metadata": {},
   "source": [
    "#### Reshaping\n",
    "\n",
    "We can transpose to flip rows and columns."
   ]
  },
  {
   "cell_type": "code",
   "execution_count": 21,
   "metadata": {},
   "outputs": [
    {
     "name": "stdout",
     "output_type": "stream",
     "text": [
      "[[ 1  3  5  7  9 11]\n",
      " [ 2  4  6  8 10 12]\n",
      " [ 0 -1  2  3  4  5]]\n",
      "(3, 6)\n",
      "\n",
      "\n",
      "[[ 1  2  0]\n",
      " [ 3  4 -1]\n",
      " [ 5  6  2]\n",
      " [ 7  8  3]\n",
      " [ 9 10  4]\n",
      " [11 12  5]]\n",
      "(6, 3)\n"
     ]
    }
   ],
   "source": [
    "print(a2d)\n",
    "print(a2d.shape)\n",
    "print(\"\\n\")\n",
    "\n",
    "a2d_transposed = a2d.T\n",
    "print(a2d_transposed)\n",
    "print(a2d_transposed.shape)"
   ]
  },
  {
   "cell_type": "markdown",
   "metadata": {},
   "source": [
    "We can reshape to change the shape of the array."
   ]
  },
  {
   "cell_type": "code",
   "execution_count": 22,
   "metadata": {},
   "outputs": [
    {
     "name": "stdout",
     "output_type": "stream",
     "text": [
      "[[ 1  3  5  7  9 11]\n",
      " [ 2  4  6  8 10 12]\n",
      " [ 0 -1  2  3  4  5]] \n",
      "\n",
      "[[ 0.  0.  0.  0.  0.  0.]\n",
      " [ 0.  0.  0.  0.  0.  0.]\n",
      " [ 0. -0.  0.  0.  0.  0.]] \n",
      "\n",
      "[[ 0.  0.  0.  0.  0.  0.]\n",
      " [ 0.  0.  0.  0.  0.  0.]\n",
      " [ 0. -0.  0.  0.  0.  0.]] \n",
      "\n"
     ]
    }
   ],
   "source": [
    "print(a2d, \"\\n\")\n",
    "print(a2d * np.zeros(a2d.shape), \"\\n\")\n",
    "\n",
    "print(a2d * 0.0, \"\\n\")"
   ]
  },
  {
   "cell_type": "markdown",
   "metadata": {},
   "source": [
    "#### Filtering\n",
    "\n",
    "We can use the values True and False to select rows."
   ]
  },
  {
   "cell_type": "code",
   "execution_count": 23,
   "metadata": {},
   "outputs": [
    {
     "name": "stdout",
     "output_type": "stream",
     "text": [
      "[[ 1  3  5  7  9 11]\n",
      " [ 2  4  6  8 10 12]\n",
      " [ 0 -1  2  3  4  5]] \n",
      "\n",
      "[[False False False  True  True  True]\n",
      " [False False False  True  True  True]\n",
      " [False False False False False False]] \n",
      "\n",
      "[ 7  9 11  8 10 12] \n",
      "\n"
     ]
    }
   ],
   "source": [
    "print(a2d,\"\\n\")\n",
    "print(a2d > 6,\"\\n\")\n",
    "print(a2d[a2d > 6],\"\\n\")"
   ]
  },
  {
   "cell_type": "markdown",
   "metadata": {},
   "source": [
    "Note that we have not used conditional statements."
   ]
  },
  {
   "cell_type": "markdown",
   "metadata": {},
   "source": [
    "#### Broadcasting\n",
    "\n",
    "Broadcasting allows us to apply operations to arrays with different shapes."
   ]
  },
  {
   "cell_type": "code",
   "execution_count": 24,
   "metadata": {},
   "outputs": [
    {
     "name": "stdout",
     "output_type": "stream",
     "text": [
      "[[0 0 0]\n",
      " [1 1 1]\n",
      " [2 2 2]\n",
      " [3 3 3]] \n",
      "\n",
      "[1 2 3] \n",
      "\n",
      "[[1 2 3]\n",
      " [1 2 3]\n",
      " [1 2 3]\n",
      " [1 2 3]] \n",
      "\n",
      "[[1 2 3]\n",
      " [2 3 4]\n",
      " [3 4 5]\n",
      " [4 5 6]] \n",
      "\n",
      "[[1 2 3]\n",
      " [2 3 4]\n",
      " [3 4 5]\n",
      " [4 5 6]] \n",
      "\n"
     ]
    }
   ],
   "source": [
    "left_array = np.array([0,0,0,1,1,1,2,2,2,3,3,3]).reshape(4,3)\n",
    "right_array = np.array([1,2,3])\n",
    "right_array_repeated = np.array([[1,2,3],[1,2,3],[1,2,3],[1,2,3]])\n",
    "\n",
    "print(left_array, \"\\n\")\n",
    "print(right_array, \"\\n\")\n",
    "print(right_array_repeated, \"\\n\")\n",
    "\n",
    "\n",
    "print(left_array + right_array, \"\\n\")\n",
    "print(left_array + right_array_repeated, \"\\n\")"
   ]
  },
  {
   "cell_type": "markdown",
   "metadata": {},
   "source": [
    "Remember that we have two situations where we can broadcast arrays."
   ]
  },
  {
   "cell_type": "code",
   "execution_count": 25,
   "metadata": {},
   "outputs": [
    {
     "name": "stdout",
     "output_type": "stream",
     "text": [
      "[[0]\n",
      " [3]\n",
      " [6]\n",
      " [9]] \n",
      "\n",
      "[3 4 5] \n",
      "\n",
      "[[3 4 5]\n",
      " [3 4 5]\n",
      " [3 4 5]\n",
      " [3 4 5]] \n",
      "\n",
      "[[-3 -4 -5]\n",
      " [ 0 -1 -2]\n",
      " [ 3  2  1]\n",
      " [ 6  5  4]] \n",
      "\n",
      "[[-3 -4 -5]\n",
      " [ 0 -1 -2]\n",
      " [ 3  2  1]\n",
      " [ 6  5  4]] \n",
      "\n"
     ]
    }
   ],
   "source": [
    "left_array = np.array([0,3,6,9]).reshape(4,1)\n",
    "right_array = np.array([3,4,5])\n",
    "right_array_repeated = np.array([[3,4,5],[3,4,5],[3,4,5],[3,4,5]])\n",
    "\n",
    "print(left_array, \"\\n\")\n",
    "print(right_array, \"\\n\")\n",
    "print(right_array_repeated, \"\\n\")\n",
    "\n",
    "\n",
    "print(left_array - right_array, \"\\n\")\n",
    "print(left_array - right_array_repeated, \"\\n\")"
   ]
  },
  {
   "cell_type": "markdown",
   "metadata": {},
   "source": [
    "#### Operations\n",
    "\n",
    "We can apply operations like addition entry by entry. "
   ]
  },
  {
   "cell_type": "code",
   "execution_count": 26,
   "metadata": {},
   "outputs": [
    {
     "name": "stdout",
     "output_type": "stream",
     "text": [
      "[[ 1  3  5  7  9 11]\n",
      " [ 2  4  6  8 10 12]\n",
      " [ 0 -1  2  3  4  5]] \n",
      "\n",
      "[[ 2  6 10 14 18 22]\n",
      " [ 4  8 12 16 20 24]\n",
      " [ 0 -2  4  6  8 10]] \n",
      "\n"
     ]
    }
   ],
   "source": [
    "print(a2d,\"\\n\")\n",
    "print(a2d + a2d,\"\\n\")"
   ]
  },
  {
   "cell_type": "code",
   "execution_count": 27,
   "metadata": {},
   "outputs": [
    {
     "name": "stdout",
     "output_type": "stream",
     "text": [
      "[[ 1  3  5  7  9 11]\n",
      " [ 2  4  6  8 10 12]\n",
      " [ 0 -1  2  3  4  5]] \n",
      "\n",
      "[[ 0.84147098  0.14112001 -0.95892427  0.6569866   0.41211849 -0.99999021]\n",
      " [ 0.90929743 -0.7568025  -0.2794155   0.98935825 -0.54402111 -0.53657292]\n",
      " [ 0.         -0.84147098  0.90929743  0.14112001 -0.7568025  -0.95892427]] \n",
      "\n"
     ]
    }
   ],
   "source": [
    "print(a2d,\"\\n\")\n",
    "print(np.sin(a2d),\"\\n\")"
   ]
  },
  {
   "cell_type": "markdown",
   "metadata": {},
   "source": [
    "#### Vectorization \n",
    "\n",
    "Vectorization allows us to apply bulk operations without loops."
   ]
  },
  {
   "cell_type": "code",
   "execution_count": 28,
   "metadata": {},
   "outputs": [
    {
     "data": {
      "text/plain": [
       "array([ 0.,  2.,  4.,  6.,  8., 10., 12., 14.])"
      ]
     },
     "execution_count": 28,
     "metadata": {},
     "output_type": "execute_result"
    }
   ],
   "source": [
    "def adder_loop(x,y):\n",
    "    output = np.zeros(x.shape[0])\n",
    "    \n",
    "    for i in range(x.shape[0]):\n",
    "        output[i] = x[i] + y[i]\n",
    "    \n",
    "    return output\n",
    "\n",
    "adder_loop(np.arange(8), np.arange(8))"
   ]
  },
  {
   "cell_type": "code",
   "execution_count": 29,
   "metadata": {},
   "outputs": [
    {
     "data": {
      "text/plain": [
       "array([ 0.,  2.,  4.,  6.,  8., 10., 12., 14.])"
      ]
     },
     "execution_count": 29,
     "metadata": {},
     "output_type": "execute_result"
    }
   ],
   "source": [
    "def adder(x, y):\n",
    "    return x + y\n",
    "\n",
    "adder_vectorized = np.vectorize(adder, otypes=[np.float64])\n",
    "\n",
    "adder_vectorized(np.arange(8), np.arange(8))"
   ]
  },
  {
   "cell_type": "markdown",
   "metadata": {},
   "source": [
    "We have an improvement in performance."
   ]
  },
  {
   "cell_type": "code",
   "execution_count": 30,
   "metadata": {},
   "outputs": [
    {
     "name": "stdout",
     "output_type": "stream",
     "text": [
      "1.72 ms ± 89.2 µs per loop (mean ± std. dev. of 7 runs, 100 loops each)\n"
     ]
    }
   ],
   "source": [
    "%%timeit \n",
    "\n",
    "arr = np.arange(10000)\n",
    "adder_vectorized(arr, arr)"
   ]
  },
  {
   "cell_type": "code",
   "execution_count": 31,
   "metadata": {},
   "outputs": [
    {
     "name": "stdout",
     "output_type": "stream",
     "text": [
      "4.42 ms ± 405 µs per loop (mean ± std. dev. of 7 runs, 100 loops each)\n"
     ]
    }
   ],
   "source": [
    "%%timeit \n",
    "\n",
    "arr = np.arange(10000)\n",
    "adder_loop(arr, arr)"
   ]
  },
  {
   "cell_type": "code",
   "execution_count": 32,
   "metadata": {},
   "outputs": [
    {
     "name": "stdout",
     "output_type": "stream",
     "text": [
      "11.4 µs ± 1.34 µs per loop (mean ± std. dev. of 7 runs, 100000 loops each)\n"
     ]
    }
   ],
   "source": [
    "%%timeit \n",
    "\n",
    "arr = np.arange(10000)\n",
    "np.add(arr, arr)"
   ]
  },
  {
   "cell_type": "markdown",
   "metadata": {},
   "source": [
    "#### Example"
   ]
  },
  {
   "cell_type": "markdown",
   "metadata": {},
   "source": [
    "Suppose you're trying to meet your friend in either Central Park (denoted C) or Riverside Park (denoted R). \n",
    "\n",
    "Right now, you know that the chances of your friend being at $x$ are\n",
    "\n",
    "| &nbsp; | Chance |\n",
    "| --- | --- | \n",
    "| **x = C** | 0.4 |\n",
    "| **x = R** | 0.6 | \n",
    "\n",
    "We want to determine the chance of your friend being at $y$ in 1 hour\n",
    "\n",
    "| &nbsp; | Chance |\n",
    "| --- | --- | \n",
    "| **y = C** | ? |\n",
    "| **y = R** | ? | "
   ]
  },
  {
   "cell_type": "markdown",
   "metadata": {},
   "source": [
    "a. Use ```numpy``` to create a $2 \\times 1$ array called ```v``` with chance of being in Central Park and Riverside Park. Try testing the dimensions."
   ]
  },
  {
   "cell_type": "code",
   "execution_count": 33,
   "metadata": {},
   "outputs": [
    {
     "data": {
      "text/plain": [
       "(2,)"
      ]
     },
     "execution_count": 33,
     "metadata": {},
     "output_type": "execute_result"
    }
   ],
   "source": [
    "v = np.array([0.4,0.6])\n",
    "v.shape"
   ]
  },
  {
   "cell_type": "markdown",
   "metadata": {},
   "source": [
    "b. Since your friend likes to wander around at random, you need to make a table about the likelihood of locations   \n",
    "\n",
    "| &nbsp; | x = C | x=  R| &nbsp; |\n",
    "| --- | --- | --- | --- |\n",
    "| **y = C** | 0.3 | 0.2 | 0.5 \n",
    "| **y = R** | 0.1 | 0.4 | 0.5\n",
    "| &nbsp; | 0.4 | 0.6 "
   ]
  },
  {
   "cell_type": "markdown",
   "metadata": {},
   "source": [
    "Use ```numpy``` to create a $2 \\times 2$ matrix ```M``` with chance of walking between parks. Try testing the dimensions."
   ]
  },
  {
   "cell_type": "code",
   "execution_count": 34,
   "metadata": {},
   "outputs": [
    {
     "data": {
      "text/plain": [
       "(2, 2)"
      ]
     },
     "execution_count": 34,
     "metadata": {},
     "output_type": "execute_result"
    }
   ],
   "source": [
    "M = np.array([\n",
    "    [0.3,0.2],\n",
    "    [0.1,0.4]])\n",
    "\n",
    "M.shape"
   ]
  },
  {
   "cell_type": "markdown",
   "metadata": {},
   "source": [
    "Use the ```numpy``` sum method to sum the entries over columns and rows. "
   ]
  },
  {
   "cell_type": "code",
   "execution_count": 35,
   "metadata": {},
   "outputs": [
    {
     "name": "stdout",
     "output_type": "stream",
     "text": [
      "Sum over Columns\n",
      "[0.5 0.5]\n",
      "Sum over Rows\n",
      "[0.4 0.6]\n"
     ]
    }
   ],
   "source": [
    "print('Sum over Columns')\n",
    "print(np.sum(M,axis=1))\n",
    "\n",
    "print('Sum over Rows')\n",
    "print(np.sum(M,axis=0))"
   ]
  },
  {
   "cell_type": "code",
   "execution_count": 36,
   "metadata": {},
   "outputs": [
    {
     "name": "stdout",
     "output_type": "stream",
     "text": [
      "P(y=C) + P(y=R) = \n",
      "1.0\n",
      "P(x=C) + P(x=R) = \n",
      "1.0\n"
     ]
    }
   ],
   "source": [
    "print('P(y=C) + P(y=R) = ')\n",
    "print(np.sum(M,axis=1).sum())\n",
    "\n",
    "print('P(x=C) + P(x=R) = ')\n",
    "print(np.sum(M,axis=1).sum())"
   ]
  },
  {
   "cell_type": "markdown",
   "metadata": {},
   "source": [
    "Why should this be the case?"
   ]
  },
  {
   "cell_type": "markdown",
   "metadata": {},
   "source": [
    "c. Using the definition of conditional probability, adjust the numbers in the tables to show the probability of $y$ given $x$\n",
    "\n",
    "| &nbsp; | x = C | x=  R| &nbsp; |\n",
    "| --- | --- | --- | --- |\n",
    "| **y = C** | 0.3/0.4 | 0.2/0.6 | \n",
    "| **y = R** | 0.1/0.4 | 0.4/0.6 |\n"
   ]
  },
  {
   "cell_type": "markdown",
   "metadata": {},
   "source": [
    "Adjust the probabilities in `M` to form `N` containing these four numbers "
   ]
  },
  {
   "cell_type": "code",
   "execution_count": 37,
   "metadata": {},
   "outputs": [
    {
     "name": "stdout",
     "output_type": "stream",
     "text": [
      "[[0.75       0.33333333]\n",
      " [0.25       0.66666667]]\n"
     ]
    }
   ],
   "source": [
    "N = np.multiply(M, np.array([[1/0.4, 1/0.6], [1/0.4, 1/0.6] ]))\n",
    "print(N)"
   ]
  },
  {
   "cell_type": "markdown",
   "metadata": {},
   "source": [
    "d. Note that $$P(y = C) = P(y = C \\text{ and } x = C) + P(y = C \\text{ and } x = R)$$ This can be rewritten as $$P(y = C) = P(y = C | x = C) P(x =C) + P(y = C | x = R) P(x = R)$$ Compute these numbers using the values in `N` and `v`."
   ]
  },
  {
   "cell_type": "code",
   "execution_count": 38,
   "metadata": {},
   "outputs": [
    {
     "name": "stdout",
     "output_type": "stream",
     "text": [
      "[0.5 0.5]\n"
     ]
    }
   ],
   "source": [
    "print(np.dot(N,v))"
   ]
  },
  {
   "cell_type": "markdown",
   "metadata": {},
   "source": [
    "Therefore we have the probabilities for the location in 1 hour"
   ]
  },
  {
   "cell_type": "code",
   "execution_count": 39,
   "metadata": {},
   "outputs": [
    {
     "name": "stdout",
     "output_type": "stream",
     "text": [
      "Probability of y = C is\n",
      "0.5\n",
      "Probability of y = R is\n",
      "0.5\n"
     ]
    }
   ],
   "source": [
    "print('Probability of y = C is')\n",
    "print(np.dot(N,v)[0])\n",
    "\n",
    "print('Probability of y = R is')\n",
    "print(np.dot(N,v)[1])"
   ]
  },
  {
   "cell_type": "code",
   "execution_count": null,
   "metadata": {},
   "outputs": [],
   "source": [
    "import numpy as np\n",
    "\n",
    "def rook_attack():\n",
    "    rook_array = [[1,0,0,0],[0,1,0,0],[]]\n",
    "    np.any(rook_array.sum(axis = 0));\n"
   ]
  }
 ],
 "metadata": {
  "celltoolbar": "Create Assignment",
  "kernelspec": {
   "display_name": "Python [conda env:mg-gy-8413]",
   "language": "python",
   "name": "conda-env-mg-gy-8413-py"
  },
  "language_info": {
   "codemirror_mode": {
    "name": "ipython",
    "version": 3
   },
   "file_extension": ".py",
   "mimetype": "text/x-python",
   "name": "python",
   "nbconvert_exporter": "python",
   "pygments_lexer": "ipython3",
   "version": "3.7.12"
  }
 },
 "nbformat": 4,
 "nbformat_minor": 4
}
