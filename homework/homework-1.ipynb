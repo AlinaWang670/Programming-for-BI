{
 "cells": [
  {
   "cell_type": "markdown",
   "metadata": {
    "deletable": false,
    "editable": false,
    "nbgrader": {
     "checksum": "ef08527ba4d2dd2d17407fdcdd398d09",
     "grade": false,
     "grade_id": "cell-80d2c074a80faa82",
     "locked": true,
     "schema_version": 3,
     "solution": false,
     "task": false
    }
   },
   "source": [
    "## Homework 1 : Control Statements\n",
    "\n",
    "#### Due Date: Saturday September 16 at 11:59PM ET\n",
    "\n",
    "In this assignment, we will learn to organize code through\n",
    "\n",
    "- if statements \n",
    "- for loops and while loops\n",
    "\n",
    "Along the way, we will explore some of the tools from Week 2. The questions guide you step-by-step through these approaches. Do not post questions to Slack. \n",
    "\n",
    "#### Collaboration Policy\n",
    "\n",
    "You are prohibited from sharing your solutions. You are discouraged from providing guidance or assistance on questions. You should refrain from discussing the assignment with others. Consult the syllabus for information about policies surrounding misconduct."
   ]
  },
  {
   "cell_type": "markdown",
   "metadata": {},
   "source": [
    "**Name:** *Alina Wang*"
   ]
  },
  {
   "cell_type": "markdown",
   "metadata": {},
   "source": [
    "**NetId:** *hw3414*"
   ]
  },
  {
   "cell_type": "markdown",
   "metadata": {
    "deletable": false,
    "editable": false,
    "nbgrader": {
     "checksum": "0925efc67169e07a3546ca59140d9dd3",
     "grade": false,
     "grade_id": "cell-946f429ec7438c5b",
     "locked": true,
     "schema_version": 3,
     "solution": false,
     "task": false
    }
   },
   "source": [
    "### Rubric\n",
    "\n",
    "Question | Points\n",
    "--- | ---\n",
    "Question 1.1 | 1\n",
    "Question 1.2 | 1\n",
    "Question 1.3 | 1\n",
    "Question 1.4 | 1\n",
    "Question 1.5 | 1\n",
    "Question 1.6 | 1\n",
    "Question 1.7 | 1\n",
    "Question 2.1 | 1\n",
    "Question 2.2 | 1\n",
    "Question 2.3 | 1\n",
    "Question 2.4 | 1\n",
    "Total | 11"
   ]
  },
  {
   "cell_type": "code",
   "execution_count": 1,
   "metadata": {
    "deletable": false,
    "editable": false,
    "nbgrader": {
     "checksum": "dba1792d3dc9a812ff305a4a24d2cf24",
     "grade": false,
     "grade_id": "cell-09dae348d499abb3",
     "locked": true,
     "schema_version": 3,
     "solution": false,
     "task": false
    }
   },
   "outputs": [],
   "source": [
    "from helper_functions import generate_expert_prediction\n",
    "from helper_functions import get_consecutive\n",
    "from helper_functions import plot_expert_forecasts"
   ]
  },
  {
   "cell_type": "markdown",
   "metadata": {
    "deletable": false,
    "editable": false,
    "nbgrader": {
     "checksum": "858b75ef16133ebebc06af79b8f9e291",
     "grade": false,
     "grade_id": "cell-ceea23b82cbf5034",
     "locked": true,
     "schema_version": 3,
     "solution": false,
     "task": false
    }
   },
   "source": [
    "We will learn about functions and packages in Week 2\n",
    "\n",
    "- A function allows us to label control statements just like a variable allows us to label data. \n",
    "- If we want to share functions and variables with collaborators we can make a package. We import the functions and variables from packages to take advantage of collaborators' code.\n",
    "\n",
    "Please execute the above cell to import the functions we will need for Question 1 from the package `helper_functions`. "
   ]
  },
  {
   "cell_type": "code",
   "execution_count": 2,
   "metadata": {
    "deletable": false,
    "editable": false,
    "nbgrader": {
     "checksum": "15a9ef310ecafac567e8717eabd581df",
     "grade": true,
     "grade_id": "cell-74e9f6d9f93d6bc6",
     "locked": true,
     "points": 0,
     "schema_version": 3,
     "solution": false,
     "task": false
    }
   },
   "outputs": [],
   "source": [
    "# TEST \n",
    "\n",
    "assert \"generate_expert_prediction\" in locals()\n",
    "assert \"plot_expert_forecasts\" in locals()\n",
    "assert \"get_consecutive\" in locals()"
   ]
  },
  {
   "cell_type": "markdown",
   "metadata": {
    "deletable": false,
    "editable": false,
    "nbgrader": {
     "checksum": "13f5d02213a1aa97d0c61fb52a401d4d",
     "grade": false,
     "grade_id": "cell-1b6c8b7391a6e8f5",
     "locked": true,
     "schema_version": 3,
     "solution": false,
     "task": false
    }
   },
   "source": [
    "Note that you will be responsible for importing functions from the package `helper_functions` in Question 2.\n",
    "\n",
    "If you managed to import the functions we will need for Question 1 from the package `helper_functions`, then the above cell will not generate an error message. "
   ]
  },
  {
   "cell_type": "markdown",
   "metadata": {
    "deletable": false,
    "editable": false,
    "nbgrader": {
     "checksum": "51fc21feae423e2677a96b5446f7bca8",
     "grade": false,
     "grade_id": "cell-55baa71ec1ac0565",
     "locked": true,
     "schema_version": 3,
     "solution": false,
     "task": false
    }
   },
   "source": [
    "### 1. Forecasting  \n",
    "\n",
    "Companies need to determine forecasts to manage their operations. If experts can provide forecasts, then companies can inform their decisions from the advice of experts. Here we will study three experts \n",
    "\n",
    "- Expert `A`\n",
    "- Expert `B`\n",
    "- Expert `C`\n",
    "\n",
    "Each expert can make a correct forecast or incorrect forecast. We want to determine the chance that the expert will make the correct prediction. We will assess the forecasts on \n",
    "\n",
    "- average number of correct forecast\n",
    "- consistency of correct forecasts\n",
    "\n",
    "Here consistency means the number of consecutive correction forecasts. The experts need to make forecasts in different market conditions. We will capture market conditions with numbers such as 1,2,3,4,....\n",
    "\n",
    "\n",
    "\n",
    "#### Question 1.1\n",
    "\n",
    "We want to allow experts `A`,`B`,`C` to make `100` forecasts in market conditions `10`. \n",
    "\n",
    "- Assign the integer number `100` to the variable `number_forecasts`\n",
    "- Assign the integer number `10` to the variable `market_condition`\n",
    "- Respectively assign the strings `A`,`B`,`C` to variables `expert_A`,`expert_B`,`expert_C`"
   ]
  },
  {
   "cell_type": "code",
   "execution_count": 3,
   "metadata": {
    "deletable": false,
    "nbgrader": {
     "checksum": "100c9e56c609eb4b4f3434bcd4f24a01",
     "grade": false,
     "grade_id": "cell-584e947774ffa149",
     "locked": false,
     "schema_version": 3,
     "solution": true,
     "task": false
    }
   },
   "outputs": [],
   "source": [
    "number_forecasts = 100\n",
    "market_condition = 10\n",
    "expert_A = 'A'\n",
    "expert_B = 'B'\n",
    "expert_C = 'C'\n",
    "\n",
    "# YOUR CODE HERE"
   ]
  },
  {
   "cell_type": "markdown",
   "metadata": {
    "deletable": false,
    "editable": false,
    "nbgrader": {
     "checksum": "a23f5e7f8de250815c3b50f558af4c93",
     "grade": false,
     "grade_id": "cell-660bc1f0e29c1727",
     "locked": true,
     "schema_version": 3,
     "solution": false,
     "task": false
    }
   },
   "source": [
    "Execute the following three cells to generate line-charts."
   ]
  },
  {
   "cell_type": "code",
   "execution_count": 4,
   "metadata": {
    "deletable": false,
    "editable": false,
    "nbgrader": {
     "checksum": "c12a811baab7aafef1c1f993cc6f5592",
     "grade": false,
     "grade_id": "cell-99b99b013d4a66cf",
     "locked": true,
     "schema_version": 3,
     "solution": false,
     "task": false
    }
   },
   "outputs": [
    {
     "data": {
      "image/png": "[encoded data removed]",
      "text/plain": [
       "<Figure size 1000x800 with 1 Axes>"
      ]
     },
     "metadata": {},
     "output_type": "display_data"
    }
   ],
   "source": [
    "plot_expert_forecasts(expert_A, number_forecasts, market_condition)"
   ]
  },
  {
   "cell_type": "code",
   "execution_count": 5,
   "metadata": {
    "deletable": false,
    "editable": false,
    "nbgrader": {
     "checksum": "44e93fabcea9dcf06050d29381916fba",
     "grade": false,
     "grade_id": "cell-7d5144a7c2b33b5d",
     "locked": true,
     "schema_version": 3,
     "solution": false,
     "task": false
    }
   },
   "outputs": [
    {
     "data": {
      "image/png": "[encoded data removed]",
      "text/plain": [
       "<Figure size 1000x800 with 1 Axes>"
      ]
     },
     "metadata": {},
     "output_type": "display_data"
    }
   ],
   "source": [
    "plot_expert_forecasts(expert_B, number_forecasts, market_condition)"
   ]
  },
  {
   "cell_type": "code",
   "execution_count": 6,
   "metadata": {
    "deletable": false,
    "editable": false,
    "nbgrader": {
     "checksum": "6abe7a1a7c0fa8d8e8862e4fe81c93da",
     "grade": false,
     "grade_id": "cell-09d53e19dffa9307",
     "locked": true,
     "schema_version": 3,
     "solution": false,
     "task": false
    }
   },
   "outputs": [
    {
     "data": {
      "image/png": "[encoded data removed]",
      "text/plain": [
       "<Figure size 1000x800 with 1 Axes>"
      ]
     },
     "metadata": {},
     "output_type": "display_data"
    }
   ],
   "source": [
    "plot_expert_forecasts(expert_C, number_forecasts, market_condition)"
   ]
  },
  {
   "cell_type": "markdown",
   "metadata": {
    "deletable": false,
    "editable": false,
    "nbgrader": {
     "checksum": "0f91a0d4a17c2139e90e012325ffc61c",
     "grade": false,
     "grade_id": "cell-1e33f00c93b43cb1",
     "locked": true,
     "schema_version": 3,
     "solution": false,
     "task": false
    }
   },
   "source": [
    "Which expert made the largest number of correct forecasts? Assign the string `A`, `B` or `C` to the variable `q11`."
   ]
  },
  {
   "cell_type": "code",
   "execution_count": 7,
   "metadata": {
    "deletable": false,
    "nbgrader": {
     "checksum": "a80407e983f6d8ecf692bfcf0bde9f83",
     "grade": false,
     "grade_id": "cell-f6606f7a8ae2d2b6",
     "locked": false,
     "schema_version": 3,
     "solution": true,
     "task": false
    }
   },
   "outputs": [],
   "source": [
    "q11 = 'A'\n",
    "\n",
    "# YOUR CODE HERE"
   ]
  },
  {
   "cell_type": "code",
   "execution_count": 8,
   "metadata": {
    "deletable": false,
    "editable": false,
    "nbgrader": {
     "checksum": "b7032c5db13ca4d0a3a7793ba0eddd79",
     "grade": true,
     "grade_id": "cell-3173068f98658409",
     "locked": true,
     "points": 1,
     "schema_version": 3,
     "solution": false,
     "task": false
    }
   },
   "outputs": [],
   "source": [
    "# TEST \n",
    "\n",
    "assert q11 in [\"A\",\"B\",\"C\"]\n"
   ]
  },
  {
   "cell_type": "markdown",
   "metadata": {
    "deletable": false,
    "editable": false,
    "nbgrader": {
     "checksum": "bcb9d1efa6d46e4c55d0702bb836a634",
     "grade": false,
     "grade_id": "cell-2f28e4f68411a34d",
     "locked": true,
     "schema_version": 3,
     "solution": false,
     "task": false
    }
   },
   "source": [
    "#### Question 1.2\n",
    "\n",
    "We want to determine the average number of correct forecasts of experts `A`,`B`,`C`. \n",
    "\n",
    "Suppose we want to determine the average number of correct forecasts of expert `A`. We will allow expert `A` to make 100 forecasts in market conditions 1. "
   ]
  },
  {
   "cell_type": "code",
   "execution_count": 9,
   "metadata": {
    "deletable": false,
    "editable": false,
    "nbgrader": {
     "checksum": "cf6d45129fe8a213d6ce39460bc5185d",
     "grade": false,
     "grade_id": "cell-598b4d69b4932f93",
     "locked": true,
     "schema_version": 3,
     "solution": false,
     "task": false
    }
   },
   "outputs": [
    {
     "name": "stdout",
     "output_type": "stream",
     "text": [
      "[0.0, 1.0, 0.0, 0.0, 0.0, 0.0, 0.0, 0.0, 0.0, 0.0, 0.0, 1.0, 0.0, 1.0, 0.0, 1.0, 1.0, 1.0, 0.0, 0.0, 1.0, 1.0, 1.0, 1.0, 1.0, 1.0, 0.0, 0.0, 0.0, 1.0, 0.0, 0.0, 1.0, 1.0, 1.0, 1.0, 1.0, 1.0, 0.0, 1.0, 1.0, 1.0, 0.0, 1.0, 0.0, 0.0, 1.0, 0.0, 0.0, 0.0, 0.0, 1.0, 0.0, 0.0, 0.0, 0.0, 0.0, 0.0, 0.0, 1.0, 0.0, 0.0, 1.0, 1.0, 0.0, 0.0, 1.0, 1.0, 1.0, 1.0, 1.0, 0.0, 0.0, 1.0, 1.0, 0.0, 1.0, 1.0, 1.0, 1.0, 1.0, 1.0, 1.0, 1.0, 0.0, 1.0, 1.0, 1.0, 1.0, 1.0, 0.0, 1.0, 1.0, 1.0, 1.0, 0.0, 1.0, 1.0, 0.0, 1.0]\n"
     ]
    }
   ],
   "source": [
    "expert = \"A\"\n",
    "number_forecasts = 100\n",
    "market_conditions = 1\n",
    "\n",
    "forecasts = generate_expert_prediction(expert, number_forecasts, market_conditions)\n",
    "print(forecasts)"
   ]
  },
  {
   "cell_type": "markdown",
   "metadata": {
    "deletable": false,
    "editable": false,
    "nbgrader": {
     "checksum": "29ae8beb5b11dd64151c881c739a6a57",
     "grade": false,
     "grade_id": "cell-05be9198d211af08",
     "locked": true,
     "schema_version": 3,
     "solution": false,
     "task": false
    }
   },
   "source": [
    "Here we use a function `generate_expert_prediction` from the package `helper_functions` to obtain 100 forecasts from expert `A` in market conditions 1. Note that the variable `forecasts` is a list containing \n",
    "\n",
    "- `1.` for correct forecast\n",
    "- `0.` for incorrect forecast\n",
    "\n",
    "If we want to count the number of correct forecasts, then we need to count the number of entries with `1.`. "
   ]
  },
  {
   "cell_type": "code",
   "execution_count": 10,
   "metadata": {
    "deletable": false,
    "editable": false,
    "nbgrader": {
     "checksum": "f875ce549aa6a657102b86e5a1f8f4cd",
     "grade": false,
     "grade_id": "cell-a86d9bfba371b924",
     "locked": true,
     "schema_version": 3,
     "solution": false,
     "task": false
    }
   },
   "outputs": [],
   "source": [
    "number_correct = 0 \n",
    "for forecast in forecasts:\n",
    "    if (forecast == 1):\n",
    "        number_correct = number_correct + 1"
   ]
  },
  {
   "cell_type": "markdown",
   "metadata": {
    "deletable": false,
    "editable": false,
    "nbgrader": {
     "checksum": "6d9824bce75a080c265035b6a72a371a",
     "grade": false,
     "grade_id": "cell-59d0ac6384b69e57",
     "locked": true,
     "schema_version": 3,
     "solution": false,
     "task": false
    }
   },
   "source": [
    "Here we use both an `if`-statement and `for`-statement. The variable `number_correct` contains the number of entries with `1.` in the list `forecasts`.\n",
    "\n",
    "Using the value of the variables `number_correct` and `number_forecasts` determine the fraction of correct forecasts by expert `A`. Your answer must be a floating point number correct to three decimal places."
   ]
  },
  {
   "cell_type": "code",
   "execution_count": 11,
   "metadata": {
    "deletable": false,
    "nbgrader": {
     "checksum": "9123fbf6eda15cec65504573fe47d806",
     "grade": false,
     "grade_id": "cell-6d341117143a840e",
     "locked": false,
     "schema_version": 3,
     "solution": true,
     "task": false
    }
   },
   "outputs": [],
   "source": [
    "fraction_correct_forecast_A = number_correct / number_forecasts\n",
    "#print(fraction_correct_forecast_A)\n",
    "\n",
    "# YOUR CODE HERE"
   ]
  },
  {
   "cell_type": "code",
   "execution_count": 12,
   "metadata": {
    "deletable": false,
    "editable": false,
    "nbgrader": {
     "checksum": "266271877d426ba91e2bd50cde7f57bc",
     "grade": true,
     "grade_id": "cell-cab182f8645252a7",
     "locked": true,
     "points": 1,
     "schema_version": 3,
     "solution": false,
     "task": false
    }
   },
   "outputs": [],
   "source": [
    "# TEST \n",
    "\n",
    "assert 0 < fraction_correct_forecast_A < 1\n"
   ]
  },
  {
   "cell_type": "markdown",
   "metadata": {
    "deletable": false,
    "editable": false,
    "nbgrader": {
     "checksum": "588226bf13488e8fa5c8945485fc5776",
     "grade": false,
     "grade_id": "cell-16cdc6bf5993c6f1",
     "locked": true,
     "schema_version": 3,
     "solution": false,
     "task": false
    }
   },
   "source": [
    "Note that we could repeat the calculation for expert `B` and expert `C`."
   ]
  },
  {
   "cell_type": "markdown",
   "metadata": {
    "deletable": false,
    "editable": false,
    "nbgrader": {
     "checksum": "7eb02778b1c4027caec80fab847bc93e",
     "grade": false,
     "grade_id": "cell-12231c746aa626d0",
     "locked": true,
     "schema_version": 3,
     "solution": false,
     "task": false
    }
   },
   "source": [
    "#### Question 1.3\n",
    "\n",
    "Some experts might have more accurate forecasts in some market conditions. We want to calculate the fraction of correct forecasts of experts `A`,`B`,`C` in different market condition.\n",
    "\n",
    "Suppose we want to determine the fraction of correct forecasts of expert `B` in market conditions \n",
    "\n",
    "> 1,2,3,...,98,99,100\n",
    "\n",
    "We will allow expert `B` to make 1000 forecasts in each of the 100 "
   ]
  },
  {
   "cell_type": "code",
   "execution_count": 13,
   "metadata": {
    "deletable": false,
    "editable": false,
    "nbgrader": {
     "checksum": "bad276561f01fab513cbca52e0a2f181",
     "grade": false,
     "grade_id": "cell-5e1bed3e01f224ef",
     "locked": true,
     "schema_version": 3,
     "solution": false,
     "task": false
    }
   },
   "outputs": [],
   "source": [
    "expert = \"B\"\n",
    "number_forecasts = 1000\n",
    "market_conditions = range(1,101)"
   ]
  },
  {
   "cell_type": "markdown",
   "metadata": {
    "deletable": false,
    "editable": false,
    "nbgrader": {
     "checksum": "e1f1ff57f461083012033d9c29a26b28",
     "grade": false,
     "grade_id": "cell-f56422ab3201433a",
     "locked": true,
     "schema_version": 3,
     "solution": false,
     "task": false
    }
   },
   "source": [
    "We can use the code from Question 1.2 to compute the fraction of correct forecasts for particular market conditions."
   ]
  },
  {
   "cell_type": "code",
   "execution_count": 14,
   "metadata": {
    "deletable": false,
    "editable": false,
    "nbgrader": {
     "checksum": "fba5be018e52784a7afd13e4854bbdca",
     "grade": false,
     "grade_id": "cell-9b873185c992fa89",
     "locked": true,
     "schema_version": 3,
     "solution": false,
     "task": false
    }
   },
   "outputs": [
    {
     "name": "stdout",
     "output_type": "stream",
     "text": [
      "0.516\n"
     ]
    }
   ],
   "source": [
    "forecasts = generate_expert_prediction(expert, number_forecasts, market_conditions[0])\n",
    "\n",
    "number_correct = 0 \n",
    "for forecast in forecasts:\n",
    "    if (forecast == 1):\n",
    "        number_correct = number_correct + 1\n",
    "        \n",
    "print(number_correct / number_forecasts)"
   ]
  },
  {
   "cell_type": "markdown",
   "metadata": {
    "deletable": false,
    "editable": false,
    "nbgrader": {
     "checksum": "74914d7b3d3986d22c6cb06d5ab6eb91",
     "grade": false,
     "grade_id": "cell-010500a6ce67dad7",
     "locked": true,
     "schema_version": 3,
     "solution": false,
     "task": false
    }
   },
   "source": [
    "Here we learn that expert `B` made correct predictions 51.6\\% of the time in market conditions `1`. \n",
    "\n",
    "Note that the market conditions are stored in the list `market_conditions`. So the entry with index `0` is the first entry of the list, namely, the integer number `1`. \n",
    "\n",
    "If we want to repeat the code for the other 99 market conditions, then we need to use another loop."
   ]
  },
  {
   "cell_type": "code",
   "execution_count": 15,
   "metadata": {
    "deletable": false,
    "editable": false,
    "nbgrader": {
     "checksum": "78fb8d30bcf07438c80b6d6c2d358895",
     "grade": false,
     "grade_id": "cell-9dc9a75ceaa60dab",
     "locked": true,
     "schema_version": 3,
     "solution": false,
     "task": false
    }
   },
   "outputs": [
    {
     "name": "stdout",
     "output_type": "stream",
     "text": [
      "[0.516, 0.481, 0.518, 0.515, 0.499, 0.511, 0.506, 0.51, 0.519, 0.492, 0.504, 0.528, 0.497, 0.496, 0.479, 0.502, 0.517, 0.495, 0.49, 0.498, 0.505, 0.506, 0.473, 0.521, 0.513, 0.511, 0.503, 0.502, 0.511, 0.514, 0.498, 0.523, 0.526, 0.501, 0.507, 0.497, 0.523, 0.512, 0.524, 0.526, 0.501, 0.496, 0.529, 0.523, 0.501, 0.493, 0.524, 0.501, 0.52, 0.497, 0.493, 0.521, 0.515, 0.493, 0.502, 0.49, 0.481, 0.489, 0.527, 0.511, 0.48, 0.513, 0.528, 0.489, 0.48, 0.488, 0.505, 0.514, 0.507, 0.497, 0.517, 0.507, 0.488, 0.519, 0.511, 0.491, 0.499, 0.499, 0.509, 0.525, 0.515, 0.483, 0.517, 0.509, 0.512, 0.475, 0.509, 0.524, 0.512, 0.503, 0.485, 0.516, 0.506, 0.515, 0.485, 0.523, 0.511, 0.504, 0.54, 0.504]\n"
     ]
    }
   ],
   "source": [
    "fraction_correct = []\n",
    "for market_condition in market_conditions:\n",
    "    forecasts = generate_expert_prediction(expert, number_forecasts, market_condition)\n",
    "\n",
    "    number_correct = 0 \n",
    "    for forecast in forecasts:\n",
    "        if (forecast == 1):\n",
    "            number_correct = number_correct + 1\n",
    "        \n",
    "    fraction_correct.append(number_correct/number_forecasts)\n",
    "    \n",
    "print(fraction_correct)"
   ]
  },
  {
   "cell_type": "markdown",
   "metadata": {
    "deletable": false,
    "editable": false,
    "nbgrader": {
     "checksum": "2b17e250f2bc6a12f4c18b4ece740a55",
     "grade": false,
     "grade_id": "cell-1174948eace08afb",
     "locked": true,
     "schema_version": 3,
     "solution": false,
     "task": false
    }
   },
   "source": [
    "We have two `for`-loops\n",
    "\n",
    "- a loop through the 100 market conditions\n",
    "- a loop through 1000 forecasts\n",
    "\n",
    "Note that we store the fraction of correct forecasts in a list called `fraction_correct`. Compute the average of these fractions. Note that your answer must be a floating poit number correct to three decimal places. "
   ]
  },
  {
   "cell_type": "code",
   "execution_count": 16,
   "metadata": {
    "deletable": false,
    "nbgrader": {
     "checksum": "c3a018a7b29f4372df38e349b23aecea",
     "grade": false,
     "grade_id": "cell-08f7c5b916ea3087",
     "locked": false,
     "schema_version": 3,
     "solution": true,
     "task": false
    }
   },
   "outputs": [
    {
     "name": "stdout",
     "output_type": "stream",
     "text": [
      "0.506\n"
     ]
    }
   ],
   "source": [
    "a = 0;\n",
    "for fraction in fraction_correct:\n",
    "    a = a + fraction;\n",
    "average_fraction_correct_forecast_B = a / 100\n",
    "print(\"%.3f\" % average_fraction_correct_forecast_B)\n",
    "# YOUR CODE HERE\n"
   ]
  },
  {
   "cell_type": "code",
   "execution_count": 17,
   "metadata": {
    "deletable": false,
    "editable": false,
    "nbgrader": {
     "checksum": "e897a8575f9f858a86681a6e43950617",
     "grade": true,
     "grade_id": "cell-a0f2e989ff993b2f",
     "locked": true,
     "points": 1,
     "schema_version": 3,
     "solution": false,
     "task": false
    }
   },
   "outputs": [],
   "source": [
    "# TEST \n",
    "\n",
    "assert 0 < average_fraction_correct_forecast_B < 1\n"
   ]
  },
  {
   "cell_type": "markdown",
   "metadata": {
    "deletable": false,
    "editable": false,
    "nbgrader": {
     "checksum": "75530dea95635d49fe7926b6606f2ce0",
     "grade": false,
     "grade_id": "cell-d45515f688c8c5fe",
     "locked": true,
     "schema_version": 3,
     "solution": false,
     "task": false
    }
   },
   "source": [
    "#### Question 1.4\n",
    "\n",
    "Repeat the calculation from Question 1.3 for expert `A` and `C`. Based on the average fraction of correct predictions, we can rank the experts \n",
    "\n",
    "- `First`\n",
    "- `Second`\n",
    "- `Third`\n",
    "\n",
    "Note that `First` corresponds to the largest average fraction of correct predictions and `Third` corresponds to the smallest average fraction of correct predictions. Fill in the keys of the dictionary `expert_averages` with the string \n",
    "\n",
    "- `A`\n",
    "- `B`\n",
    "- `C`"
   ]
  },
  {
   "cell_type": "code",
   "execution_count": 18,
   "metadata": {},
   "outputs": [
    {
     "name": "stdout",
     "output_type": "stream",
     "text": [
      "0.578\n",
      "[0.578, 0.542, 0.602, 0.595, 0.569, 0.586, 0.538, 0.592, 0.589, 0.558, 0.586, 0.591, 0.534, 0.562, 0.562, 0.547, 0.572, 0.581, 0.544, 0.595, 0.57, 0.536, 0.534, 0.59, 0.597, 0.561, 0.581, 0.575, 0.561, 0.563, 0.572, 0.577, 0.609, 0.532, 0.56, 0.549, 0.576, 0.566, 0.606, 0.584, 0.563, 0.554, 0.576, 0.574, 0.558, 0.56, 0.602, 0.578, 0.563, 0.55, 0.557, 0.616, 0.572, 0.574, 0.536, 0.543, 0.556, 0.553, 0.59, 0.544, 0.58, 0.586, 0.584, 0.537, 0.528, 0.56, 0.56, 0.552, 0.565, 0.58, 0.577, 0.584, 0.554, 0.568, 0.577, 0.523, 0.54, 0.551, 0.56, 0.58, 0.561, 0.569, 0.572, 0.588, 0.587, 0.545, 0.581, 0.618, 0.585, 0.557, 0.553, 0.594, 0.552, 0.572, 0.514, 0.583, 0.592, 0.581, 0.602, 0.553]\n",
      "0.568\n"
     ]
    }
   ],
   "source": [
    "expert = \"A\"\n",
    "number_forecasts = 1000\n",
    "market_conditions = range(1,101)\n",
    "forecasts = generate_expert_prediction(expert, number_forecasts, market_conditions[0])\n",
    "\n",
    "number_correct = 0 \n",
    "for forecast in forecasts:\n",
    "    if (forecast == 1):\n",
    "        number_correct = number_correct + 1\n",
    "        \n",
    "print(number_correct / number_forecasts)\n",
    "fraction_correct = []\n",
    "for market_condition in market_conditions:\n",
    "    forecasts = generate_expert_prediction(expert, number_forecasts, market_condition)\n",
    "\n",
    "    number_correct = 0 \n",
    "    for forecast in forecasts:\n",
    "        if (forecast == 1):\n",
    "            number_correct = number_correct + 1\n",
    "        \n",
    "    fraction_correct.append(number_correct/number_forecasts)\n",
    "    \n",
    "print(fraction_correct)\n",
    "a = 0;\n",
    "for fraction in fraction_correct:\n",
    "    a = a + fraction;\n",
    "average_fraction_correct_forecast_A = a / 100\n",
    "print(\"%.3f\" % average_fraction_correct_forecast_A)\n",
    "# YOUR CODE HERE"
   ]
  },
  {
   "cell_type": "code",
   "execution_count": 19,
   "metadata": {},
   "outputs": [
    {
     "name": "stdout",
     "output_type": "stream",
     "text": [
      "0.54\n",
      "[0.54, 0.498, 0.517, 0.521, 0.548, 0.521, 0.518, 0.479, 0.516, 0.503, 0.557, 0.555, 0.509, 0.577, 0.502, 0.467, 0.52, 0.544, 0.498, 0.497, 0.57, 0.459, 0.497, 0.565, 0.55, 0.538, 0.531, 0.494, 0.508, 0.53, 0.534, 0.511, 0.581, 0.482, 0.55, 0.486, 0.513, 0.568, 0.597, 0.494, 0.523, 0.504, 0.566, 0.539, 0.537, 0.507, 0.585, 0.534, 0.506, 0.499, 0.495, 0.549, 0.552, 0.477, 0.513, 0.526, 0.491, 0.474, 0.535, 0.466, 0.563, 0.527, 0.494, 0.432, 0.466, 0.519, 0.527, 0.508, 0.528, 0.518, 0.565, 0.571, 0.542, 0.518, 0.534, 0.498, 0.542, 0.521, 0.484, 0.566, 0.45, 0.499, 0.526, 0.546, 0.55, 0.528, 0.523, 0.53, 0.566, 0.514, 0.51, 0.571, 0.474, 0.492, 0.468, 0.549, 0.537, 0.501, 0.598, 0.523]\n",
      "0.522\n"
     ]
    }
   ],
   "source": [
    "expert = \"C\"\n",
    "number_forecasts = 1000\n",
    "market_conditions = range(1,101)\n",
    "forecasts = generate_expert_prediction(expert, number_forecasts, market_conditions[0])\n",
    "\n",
    "number_correct = 0 \n",
    "for forecast in forecasts:\n",
    "    if (forecast == 1):\n",
    "        number_correct = number_correct + 1\n",
    "        \n",
    "print(number_correct / number_forecasts)\n",
    "fraction_correct = []\n",
    "for market_condition in market_conditions:\n",
    "    forecasts = generate_expert_prediction(expert, number_forecasts, market_condition)\n",
    "\n",
    "    number_correct = 0 \n",
    "    for forecast in forecasts:\n",
    "        if (forecast == 1):\n",
    "            number_correct = number_correct + 1\n",
    "        \n",
    "    fraction_correct.append(number_correct/number_forecasts)\n",
    "    \n",
    "print(fraction_correct)\n",
    "a = 0;\n",
    "for fraction in fraction_correct:\n",
    "    a = a + fraction;\n",
    "average_fraction_correct_forecast_C = a / 100\n",
    "print(\"%.3f\" % average_fraction_correct_forecast_C)\n",
    "# YOUR CODE HERE"
   ]
  },
  {
   "cell_type": "code",
   "execution_count": 20,
   "metadata": {
    "deletable": false,
    "nbgrader": {
     "checksum": "9395a3a8137be89436cd883219f94143",
     "grade": false,
     "grade_id": "cell-90b8668d530f9ac2",
     "locked": false,
     "schema_version": 3,
     "solution": true,
     "task": false
    }
   },
   "outputs": [],
   "source": [
    "expert_averages = {\"First\": \"A\", \"Second\": \"C\", \"Third\": \"B\"}\n",
    "\n",
    "# YOUR CODE HERE"
   ]
  },
  {
   "cell_type": "code",
   "execution_count": 21,
   "metadata": {
    "deletable": false,
    "editable": false,
    "nbgrader": {
     "checksum": "b8a66d362adbbad68e8da45744d91414",
     "grade": true,
     "grade_id": "cell-c66887f6e48fab6d",
     "locked": true,
     "points": 1,
     "schema_version": 3,
     "solution": false,
     "task": false
    }
   },
   "outputs": [],
   "source": [
    "# TEST \n",
    "\n",
    "assert \"A\" in expert_averages.values()\n",
    "assert \"B\" in expert_averages.values()\n",
    "assert \"C\" in expert_averages.values()\n"
   ]
  },
  {
   "cell_type": "markdown",
   "metadata": {
    "deletable": false,
    "editable": false,
    "nbgrader": {
     "checksum": "f4a31433868f9a7f8fe505f14cc26c83",
     "grade": false,
     "grade_id": "cell-d2f34d2a080a7f47",
     "locked": true,
     "schema_version": 3,
     "solution": false,
     "task": false
    }
   },
   "source": [
    "#### Question 1.5\n",
    "\n",
    "Having evaluated experts based on average fraction of correct forecasts in different market conditions, we want to evaluate experts on consistency. We measure consistency as the longest stretch of consecutive correct forecasts."
   ]
  },
  {
   "cell_type": "code",
   "execution_count": 22,
   "metadata": {
    "deletable": false,
    "editable": false,
    "nbgrader": {
     "checksum": "9aa7567228d9683979b6f1ed3ae3c175",
     "grade": false,
     "grade_id": "cell-c88861477bc78de6",
     "locked": true,
     "schema_version": 3,
     "solution": false,
     "task": false
    }
   },
   "outputs": [
    {
     "name": "stdout",
     "output_type": "stream",
     "text": [
      "[0.0, 0.0, 0.0, 0.0, 0.0, 0.0, 0.0, 0.0, 0.0, 0.0, 0.0, 0.0, 0.0, 1.0, 0.0, 0.0, 0.0, 0.0, 0.0, 0.0, 1.0, 1.0, 1.0, 1.0, 1.0, 1.0, 0.0, 0.0, 0.0, 1.0, 0.0, 0.0, 1.0, 1.0, 1.0, 1.0, 1.0, 1.0, 0.0, 0.0, 1.0, 1.0, 1.0, 1.0, 0.0, 0.0, 1.0, 1.0, 1.0, 0.0, 0.0, 0.0, 0.0, 0.0, 0.0, 0.0, 0.0, 0.0, 0.0, 0.0, 0.0, 0.0, 0.0, 0.0, 0.0, 0.0, 0.0, 0.0, 1.0, 1.0, 1.0, 0.0, 0.0, 1.0, 1.0, 0.0, 1.0, 1.0, 1.0, 1.0, 1.0, 1.0, 1.0, 1.0, 1.0, 1.0, 1.0, 1.0, 1.0, 1.0, 0.0, 1.0, 1.0, 1.0, 1.0, 1.0, 1.0, 1.0, 0.0, 0.0]\n"
     ]
    }
   ],
   "source": [
    "expert = \"C\"\n",
    "number_forecasts = 100\n",
    "market_conditions = 1\n",
    "\n",
    "forecasts = generate_expert_prediction(expert, number_forecasts, market_conditions)\n",
    "print(forecasts)"
   ]
  },
  {
   "cell_type": "markdown",
   "metadata": {
    "deletable": false,
    "editable": false,
    "nbgrader": {
     "checksum": "e184fb3e779f2c31de711e78d2baf96e",
     "grade": false,
     "grade_id": "cell-b0c7401b5d5ed490",
     "locked": true,
     "schema_version": 3,
     "solution": false,
     "task": false
    }
   },
   "source": [
    "Here we obtained `100` forecasts in market conditions `1` from expert `C`. \n",
    "\n",
    "We can use the function `get_consecutive` in the package `helper_functions` to calculate the length of the longest strech of consecutive correct forecasts."
   ]
  },
  {
   "cell_type": "code",
   "execution_count": 23,
   "metadata": {
    "deletable": false,
    "editable": false,
    "nbgrader": {
     "checksum": "07807b9ee4a37ba3817adb4ff906512e",
     "grade": false,
     "grade_id": "cell-303e7132dc54cfcd",
     "locked": true,
     "schema_version": 3,
     "solution": false,
     "task": false
    }
   },
   "outputs": [
    {
     "name": "stdout",
     "output_type": "stream",
     "text": [
      "14\n"
     ]
    }
   ],
   "source": [
    "number_consecutive_correct = get_consecutive(forecasts)\n",
    "print(number_consecutive_correct)"
   ]
  },
  {
   "cell_type": "markdown",
   "metadata": {
    "deletable": false,
    "editable": false,
    "nbgrader": {
     "checksum": "67d3cda009d2c34bd68b34d9a7198494",
     "grade": false,
     "grade_id": "cell-35f8ba87f8412081",
     "locked": true,
     "schema_version": 3,
     "solution": false,
     "task": false
    }
   },
   "source": [
    "Here we learn that expert `C` made 14 consecutive correct forecasts over the course of `100` forecasts in market conditions `1`.\n",
    "\n",
    "Repeat the calculation with expert `B`. \n",
    "\n",
    "> How long was longest stretch of consecutive correct forecasts made by expert `B` over the course of `100` forecasts in market conditions `1`? \n",
    "\n",
    "Enter your answer as an integer number to the variable `q15`"
   ]
  },
  {
   "cell_type": "code",
   "execution_count": 24,
   "metadata": {},
   "outputs": [
    {
     "name": "stdout",
     "output_type": "stream",
     "text": [
      "[0.0, 1.0, 0.0, 0.0, 0.0, 0.0, 0.0, 0.0, 0.0, 1.0, 0.0, 1.0, 0.0, 1.0, 0.0, 1.0, 0.0, 1.0, 0.0, 0.0, 1.0, 1.0, 0.0, 1.0, 1.0, 1.0, 0.0, 0.0, 0.0, 1.0, 0.0, 0.0, 1.0, 0.0, 1.0, 0.0, 1.0, 1.0, 0.0, 1.0, 1.0, 1.0, 0.0, 1.0, 0.0, 1.0, 1.0, 0.0, 0.0, 0.0, 0.0, 1.0, 0.0, 0.0, 1.0, 0.0, 1.0, 0.0, 1.0, 1.0, 0.0, 0.0, 1.0, 0.0, 0.0, 1.0, 1.0, 0.0, 1.0, 1.0, 1.0, 0.0, 0.0, 1.0, 0.0, 0.0, 1.0, 0.0, 1.0, 1.0, 1.0, 1.0, 1.0, 0.0, 0.0, 1.0, 0.0, 1.0, 1.0, 1.0, 0.0, 1.0, 0.0, 1.0, 0.0, 0.0, 1.0, 1.0, 0.0, 1.0]\n",
      "5\n"
     ]
    }
   ],
   "source": [
    "expert = \"B\"\n",
    "number_forecasts = 100\n",
    "market_conditions = 1\n",
    "\n",
    "forecasts = generate_expert_prediction(expert, number_forecasts, market_conditions)\n",
    "print(forecasts)\n",
    "number_consecutive_correct = get_consecutive(forecasts)\n",
    "print(number_consecutive_correct)"
   ]
  },
  {
   "cell_type": "code",
   "execution_count": 25,
   "metadata": {
    "deletable": false,
    "nbgrader": {
     "checksum": "c558273a674493f085d9289ed6c96e5c",
     "grade": false,
     "grade_id": "cell-e10fd7818db33b12",
     "locked": false,
     "schema_version": 3,
     "solution": true,
     "task": false
    }
   },
   "outputs": [],
   "source": [
    "q15 = 5\n",
    "\n",
    "# YOUR CODE HERE"
   ]
  },
  {
   "cell_type": "code",
   "execution_count": 26,
   "metadata": {
    "deletable": false,
    "editable": false,
    "nbgrader": {
     "checksum": "de28f837341684042ebe6bf0279292eb",
     "grade": true,
     "grade_id": "cell-f0a7f3f99fa2e118",
     "locked": true,
     "points": 1,
     "schema_version": 3,
     "solution": false,
     "task": false
    }
   },
   "outputs": [],
   "source": [
    "# TEST \n",
    "\n",
    "assert 0 < q15 < 10\n"
   ]
  },
  {
   "cell_type": "markdown",
   "metadata": {
    "deletable": false,
    "editable": false,
    "nbgrader": {
     "checksum": "518803b0231cd500f6b17524b0d6a9c8",
     "grade": false,
     "grade_id": "cell-9d03b4f90aae8075",
     "locked": true,
     "schema_version": 3,
     "solution": false,
     "task": false
    }
   },
   "source": [
    "#### Question 1.6\n",
    "\n",
    "Suppose we want to repeat the calculation from Question 1.5 in different market conditions. We will study market conditions\n",
    "\n",
    "> 1,2,3,...,98,99,100\n",
    "\n",
    "We will allow expert `C` to make 1000 forecasts in each of the 100 market conditions. We want to calculate the length of the longest stretch of consecutive correct forecasts.\n",
    "\n",
    "Complete the following code by filling in the blank."
   ]
  },
  {
   "cell_type": "code",
   "execution_count": 27,
   "metadata": {
    "deletable": false,
    "nbgrader": {
     "checksum": "e212cc57eb4b0c5d45931a324f9d0baf",
     "grade": false,
     "grade_id": "cell-2b00908b752c4c7c",
     "locked": false,
     "schema_version": 3,
     "solution": true,
     "task": false
    }
   },
   "outputs": [],
   "source": [
    "expert = \"C\"\n",
    "number_forecasts = 1000\n",
    "market_conditions = range(1,101)\n",
    "\n",
    "consecutive_correct_forecasts = []\n",
    "for market_condition in market_conditions:\n",
    "    forecasts = generate_expert_prediction(expert, number_forecasts, market_condition)\n",
    "    \n",
    "    # YOUR CODE HERE\n",
    "    \n",
    "    consecutive_correct_forecasts.append(get_consecutive(forecasts))"
   ]
  },
  {
   "cell_type": "markdown",
   "metadata": {
    "deletable": false,
    "editable": false,
    "nbgrader": {
     "checksum": "a20eab6936faf0dd46bd358cc76b03a9",
     "grade": false,
     "grade_id": "cell-69d2f8d4d542ff3d",
     "locked": true,
     "schema_version": 3,
     "solution": false,
     "task": false
    }
   },
   "source": [
    "We obtain 100 numbers corresponding to the 100 market conditions. "
   ]
  },
  {
   "cell_type": "code",
   "execution_count": 28,
   "metadata": {
    "deletable": false,
    "editable": false,
    "nbgrader": {
     "checksum": "6dd78d5b3849dea251fd091eb4e22c4f",
     "grade": true,
     "grade_id": "cell-f052d5619ddc859b",
     "locked": true,
     "points": 0,
     "schema_version": 3,
     "solution": false,
     "task": false
    }
   },
   "outputs": [
    {
     "name": "stdout",
     "output_type": "stream",
     "text": [
      "[44, 21, 23, 28, 26, 29, 22, 25, 27, 18, 23, 23, 25, 26, 35, 27, 41, 23, 30, 23, 20, 17, 38, 29, 29, 25, 31, 28, 16, 18, 28, 24, 23, 17, 26, 30, 27, 25, 25, 21, 24, 19, 26, 22, 16, 24, 27, 30, 22, 20, 21, 24, 32, 24, 20, 25, 23, 25, 21, 21, 25, 25, 27, 40, 17, 26, 28, 20, 20, 20, 24, 20, 21, 18, 18, 19, 34, 33, 19, 27, 22, 25, 20, 24, 30, 26, 25, 23, 27, 31, 19, 20, 18, 20, 21, 21, 32, 30, 27, 34]\n"
     ]
    }
   ],
   "source": [
    "print(consecutive_correct_forecasts)"
   ]
  },
  {
   "cell_type": "markdown",
   "metadata": {
    "deletable": false,
    "editable": false,
    "nbgrader": {
     "checksum": "4024e35e2e5c503b023d7c0dae77bc05",
     "grade": false,
     "grade_id": "cell-4073c6307c4aa99a",
     "locked": true,
     "schema_version": 3,
     "solution": false,
     "task": false
    }
   },
   "source": [
    "Compute the average of these numbers. Note that your answer must be a floating point number correct to three decimal places. "
   ]
  },
  {
   "cell_type": "code",
   "execution_count": 29,
   "metadata": {
    "deletable": false,
    "nbgrader": {
     "checksum": "ced8616f53db5a524267fb1b7e3ee678",
     "grade": false,
     "grade_id": "cell-e76326379f03ee88",
     "locked": false,
     "schema_version": 3,
     "solution": true,
     "task": false
    }
   },
   "outputs": [
    {
     "name": "stdout",
     "output_type": "stream",
     "text": [
      "24.78\n"
     ]
    }
   ],
   "source": [
    "a = 0;\n",
    "for foreast in consecutive_correct_forecasts:\n",
    "    a = a + foreast;\n",
    "consecutive_correct_forecast_C = a / 100\n",
    "print(consecutive_correct_forecast_C)\n",
    "# YOUR CODE HERE"
   ]
  },
  {
   "cell_type": "code",
   "execution_count": 30,
   "metadata": {
    "deletable": false,
    "editable": false,
    "nbgrader": {
     "checksum": "628b365cf7a831bc1baf400fb8e72a15",
     "grade": true,
     "grade_id": "cell-484994a47c8bf17b",
     "locked": true,
     "points": 1,
     "schema_version": 3,
     "solution": false,
     "task": false
    }
   },
   "outputs": [],
   "source": [
    "# TEST \n",
    "\n",
    "assert 0 < consecutive_correct_forecast_C < 50\n"
   ]
  },
  {
   "cell_type": "code",
   "execution_count": 31,
   "metadata": {},
   "outputs": [
    {
     "data": {
      "text/plain": [
       "24.78"
      ]
     },
     "execution_count": 31,
     "metadata": {},
     "output_type": "execute_result"
    }
   ],
   "source": [
    "consecutive_correct_forecast_C"
   ]
  },
  {
   "cell_type": "markdown",
   "metadata": {
    "deletable": false,
    "editable": false,
    "nbgrader": {
     "checksum": "35ac1dc528e7732502d4db5d0987559b",
     "grade": false,
     "grade_id": "cell-1bcd2406a4d24aaa",
     "locked": true,
     "schema_version": 3,
     "solution": false,
     "task": false
    }
   },
   "source": [
    "#### Question 1.7\n",
    "\n",
    "Repeat the calculation from Question 1.6 for expert `A` and `B`. Based on the average length of the longest stretch of consecutive correct forecasts, we can rank the experts \n",
    "\n",
    "- `First`\n",
    "- `Second`\n",
    "- `Third`\n",
    "\n",
    "Note that `First` corresponds to the longest average  and `Third` corresponds to the shortest average. Fill in the keys of the dictionary `expert_consecutive` with the string \n",
    "\n",
    "- `A`\n",
    "- `B`\n",
    "- `C`"
   ]
  },
  {
   "cell_type": "code",
   "execution_count": 32,
   "metadata": {},
   "outputs": [
    {
     "name": "stdout",
     "output_type": "stream",
     "text": [
      "16.23\n"
     ]
    }
   ],
   "source": [
    "expert = \"A\"\n",
    "number_forecasts = 1000\n",
    "market_conditions = range(1,101)\n",
    "\n",
    "consecutive_correct_forecasts = []\n",
    "for market_condition in market_conditions:\n",
    "    forecasts = generate_expert_prediction(expert, number_forecasts, market_condition)\n",
    "    \n",
    "    # YOUR CODE HERE\n",
    "    \n",
    "    consecutive_correct_forecasts.append(get_consecutive(forecasts))\n",
    "    \n",
    "a = 0;\n",
    "for foreast in consecutive_correct_forecasts:\n",
    "    a = a + foreast;\n",
    "consecutive_correct_forecast_A = a / 100\n",
    "print(consecutive_correct_forecast_A)\n",
    "# YOUR CODE HERE"
   ]
  },
  {
   "cell_type": "code",
   "execution_count": 33,
   "metadata": {},
   "outputs": [
    {
     "name": "stdout",
     "output_type": "stream",
     "text": [
      "8.44\n"
     ]
    }
   ],
   "source": [
    "expert = \"B\"\n",
    "number_forecasts = 1000\n",
    "market_conditions = range(1,101)\n",
    "\n",
    "consecutive_correct_forecasts = []\n",
    "for market_condition in market_conditions:\n",
    "    forecasts = generate_expert_prediction(expert, number_forecasts, market_condition)\n",
    "    \n",
    "    # YOUR CODE HERE\n",
    "    \n",
    "    consecutive_correct_forecasts.append(get_consecutive(forecasts))\n",
    "    \n",
    "a = 0;\n",
    "for foreast in consecutive_correct_forecasts:\n",
    "    a = a + foreast;\n",
    "consecutive_correct_forecast_B = a / 100\n",
    "print(consecutive_correct_forecast_B)\n",
    "# YOUR CODE HERE"
   ]
  },
  {
   "cell_type": "code",
   "execution_count": 34,
   "metadata": {
    "deletable": false,
    "nbgrader": {
     "checksum": "e3a19977d36def73fb6d9ecf13f6ceb6",
     "grade": false,
     "grade_id": "cell-ab8a75f39c805703",
     "locked": false,
     "schema_version": 3,
     "solution": true,
     "task": false
    }
   },
   "outputs": [],
   "source": [
    "expert_consecutive = {\"First\": \"C\", \"Second\":\"A\", \"Third\": \"B\"}\n",
    "\n",
    "# YOUR CODE HERE"
   ]
  },
  {
   "cell_type": "code",
   "execution_count": 35,
   "metadata": {
    "deletable": false,
    "editable": false,
    "nbgrader": {
     "checksum": "a357ce0ccb1413aa978ab2a1aa3830bf",
     "grade": true,
     "grade_id": "cell-e9e81e67e8cef318",
     "locked": true,
     "points": 1,
     "schema_version": 3,
     "solution": false,
     "task": false
    }
   },
   "outputs": [],
   "source": [
    "# TEST \n",
    "\n",
    "assert \"A\" in expert_consecutive.values()\n",
    "assert \"B\" in expert_consecutive.values()\n",
    "assert \"C\" in expert_consecutive.values()\n"
   ]
  },
  {
   "cell_type": "markdown",
   "metadata": {
    "deletable": false,
    "editable": false,
    "nbgrader": {
     "checksum": "bd87eb60a4aa208267f1c64d7cbe849b",
     "grade": false,
     "grade_id": "cell-17bac9e4ce2cba84",
     "locked": true,
     "schema_version": 3,
     "solution": false,
     "task": false
    }
   },
   "source": [
    "### 2. Packages \n",
    "\n",
    "The Federal Reserve Bank of St. Louis publishes data about jobs in the US.  We have data from a [government website](https://fred.stlouisfed.org/categories/33509) stored in the file `unemployment.csv`. There are many ways of defining unemployment. The dataset includes two notions of the unemployment rate:\n",
    "\n",
    "1. Among people who are able to work and are looking for a full-time job, the percentage who can't find a job.  This is called the Non-Employment Index, or NEI.\n",
    "2. Among people who are able to work and are looking for a full-time job, the percentage who can't find any job *or* are only working at a part-time job.  The latter group is called \"Part-Time for Economic Reasons\", so the acronym for this index is NEI-PTER.  "
   ]
  },
  {
   "cell_type": "markdown",
   "metadata": {
    "deletable": false,
    "editable": false,
    "nbgrader": {
     "checksum": "c370b3d76f3b4cb0d4cd7f3c7211c867",
     "grade": false,
     "grade_id": "cell-363f766839f91ce6",
     "locked": true,
     "schema_version": 3,
     "solution": false,
     "task": false
    }
   },
   "source": [
    "#### Question 2.1 \n",
    "\n",
    "Import the function `load_data` from the module `helper_functions` to load the data into a variable called `unemployment`. Note that the input is the string `\"unemployment.csv\"`."
   ]
  },
  {
   "cell_type": "code",
   "execution_count": 36,
   "metadata": {
    "deletable": false,
    "nbgrader": {
     "checksum": "f4da21a653a1337b0678a1757cce1f48",
     "grade": false,
     "grade_id": "cell-c2c07f92b6e89a1b",
     "locked": false,
     "schema_version": 3,
     "solution": true,
     "task": false
    }
   },
   "outputs": [
    {
     "name": "stdout",
     "output_type": "stream",
     "text": [
      "          Date      NEI  NEI-PTER\n",
      "0   1994-01-01  10.0974   11.1720\n",
      "1   1994-04-01   9.6239   10.7883\n",
      "2   1994-07-01   9.3276   10.4831\n",
      "3   1994-10-01   9.1071   10.2361\n",
      "4   1995-01-01   8.9693   10.1832\n",
      "..         ...      ...       ...\n",
      "85  2015-04-01   8.8386   10.1483\n",
      "86  2015-07-01   8.6847    9.9166\n",
      "87  2015-10-01   8.6650    9.8385\n",
      "88  2016-01-01   8.4330    9.6174\n",
      "89  2016-04-01   8.5400    9.7146\n",
      "\n",
      "[90 rows x 3 columns]\n"
     ]
    }
   ],
   "source": [
    "from helper_functions import load_data\n",
    "unemployment = load_data(\"unemployment.csv\")\n",
    "print(unemployment)\n",
    "\n",
    "# YOUR CODE HERE"
   ]
  },
  {
   "cell_type": "code",
   "execution_count": 37,
   "metadata": {
    "deletable": false,
    "editable": false,
    "nbgrader": {
     "checksum": "26e68720bce52d4876dc9441c3249418",
     "grade": true,
     "grade_id": "cell-7f1d6aef2a21a43a",
     "locked": true,
     "points": 1,
     "schema_version": 3,
     "solution": false,
     "task": false
    }
   },
   "outputs": [],
   "source": [
    "# TEST \n",
    "\n",
    "assert len(unemployment) == 90\n"
   ]
  },
  {
   "cell_type": "markdown",
   "metadata": {
    "deletable": false,
    "editable": false,
    "nbgrader": {
     "checksum": "4a41d5814db7af279fd65f38ae3eff5d",
     "grade": false,
     "grade_id": "cell-8e0c9dafe77610fd",
     "locked": true,
     "schema_version": 3,
     "solution": false,
     "task": false
    }
   },
   "source": [
    "#### Question 2.2\n",
    "\n",
    "Note that we have three columns `Date`, `NEI` and `NEI-PTER`. "
   ]
  },
  {
   "cell_type": "code",
   "execution_count": 38,
   "metadata": {
    "deletable": false,
    "editable": false,
    "nbgrader": {
     "checksum": "4079c73517eb2d3cc095f82f5570e0f6",
     "grade": false,
     "grade_id": "cell-9eb70bb4024dd9ee",
     "locked": true,
     "schema_version": 3,
     "solution": false,
     "task": false
    }
   },
   "outputs": [
    {
     "data": {
      "text/html": [
       "<div>\n",
       "<style scoped>\n",
       "    .dataframe tbody tr th:only-of-type {\n",
       "        vertical-align: middle;\n",
       "    }\n",
       "\n",
       "    .dataframe tbody tr th {\n",
       "        vertical-align: top;\n",
       "    }\n",
       "\n",
       "    .dataframe thead th {\n",
       "        text-align: right;\n",
       "    }\n",
       "</style>\n",
       "<table border=\"1\" class=\"dataframe\">\n",
       "  <thead>\n",
       "    <tr style=\"text-align: right;\">\n",
       "      <th></th>\n",
       "      <th>Date</th>\n",
       "      <th>NEI</th>\n",
       "      <th>NEI-PTER</th>\n",
       "    </tr>\n",
       "  </thead>\n",
       "  <tbody>\n",
       "    <tr>\n",
       "      <th>0</th>\n",
       "      <td>1994-01-01</td>\n",
       "      <td>10.0974</td>\n",
       "      <td>11.1720</td>\n",
       "    </tr>\n",
       "    <tr>\n",
       "      <th>1</th>\n",
       "      <td>1994-04-01</td>\n",
       "      <td>9.6239</td>\n",
       "      <td>10.7883</td>\n",
       "    </tr>\n",
       "    <tr>\n",
       "      <th>2</th>\n",
       "      <td>1994-07-01</td>\n",
       "      <td>9.3276</td>\n",
       "      <td>10.4831</td>\n",
       "    </tr>\n",
       "    <tr>\n",
       "      <th>3</th>\n",
       "      <td>1994-10-01</td>\n",
       "      <td>9.1071</td>\n",
       "      <td>10.2361</td>\n",
       "    </tr>\n",
       "    <tr>\n",
       "      <th>4</th>\n",
       "      <td>1995-01-01</td>\n",
       "      <td>8.9693</td>\n",
       "      <td>10.1832</td>\n",
       "    </tr>\n",
       "    <tr>\n",
       "      <th>...</th>\n",
       "      <td>...</td>\n",
       "      <td>...</td>\n",
       "      <td>...</td>\n",
       "    </tr>\n",
       "    <tr>\n",
       "      <th>85</th>\n",
       "      <td>2015-04-01</td>\n",
       "      <td>8.8386</td>\n",
       "      <td>10.1483</td>\n",
       "    </tr>\n",
       "    <tr>\n",
       "      <th>86</th>\n",
       "      <td>2015-07-01</td>\n",
       "      <td>8.6847</td>\n",
       "      <td>9.9166</td>\n",
       "    </tr>\n",
       "    <tr>\n",
       "      <th>87</th>\n",
       "      <td>2015-10-01</td>\n",
       "      <td>8.6650</td>\n",
       "      <td>9.8385</td>\n",
       "    </tr>\n",
       "    <tr>\n",
       "      <th>88</th>\n",
       "      <td>2016-01-01</td>\n",
       "      <td>8.4330</td>\n",
       "      <td>9.6174</td>\n",
       "    </tr>\n",
       "    <tr>\n",
       "      <th>89</th>\n",
       "      <td>2016-04-01</td>\n",
       "      <td>8.5400</td>\n",
       "      <td>9.7146</td>\n",
       "    </tr>\n",
       "  </tbody>\n",
       "</table>\n",
       "<p>90 rows × 3 columns</p>\n",
       "</div>"
      ],
      "text/plain": [
       "          Date      NEI  NEI-PTER\n",
       "0   1994-01-01  10.0974   11.1720\n",
       "1   1994-04-01   9.6239   10.7883\n",
       "2   1994-07-01   9.3276   10.4831\n",
       "3   1994-10-01   9.1071   10.2361\n",
       "4   1995-01-01   8.9693   10.1832\n",
       "..         ...      ...       ...\n",
       "85  2015-04-01   8.8386   10.1483\n",
       "86  2015-07-01   8.6847    9.9166\n",
       "87  2015-10-01   8.6650    9.8385\n",
       "88  2016-01-01   8.4330    9.6174\n",
       "89  2016-04-01   8.5400    9.7146\n",
       "\n",
       "[90 rows x 3 columns]"
      ]
     },
     "execution_count": 38,
     "metadata": {},
     "output_type": "execute_result"
    }
   ],
   "source": [
    "unemployment"
   ]
  },
  {
   "cell_type": "markdown",
   "metadata": {
    "deletable": false,
    "editable": false,
    "nbgrader": {
     "checksum": "c55e7a86820b106e9ae695b20e8aaa8a",
     "grade": false,
     "grade_id": "cell-2c7516fcfa577171",
     "locked": true,
     "schema_version": 3,
     "solution": false,
     "task": false
    }
   },
   "source": [
    "Based on the entries in the `Date` columns, does the Federal Reserve Bank report the data\n",
    "\n",
    "- annually \n",
    "- quarterly \n",
    "- monthly "
   ]
  },
  {
   "cell_type": "code",
   "execution_count": 39,
   "metadata": {
    "deletable": false,
    "nbgrader": {
     "checksum": "a8f9bb0dc08b01f0defba63119176c61",
     "grade": false,
     "grade_id": "cell-0127e6ab02022628",
     "locked": false,
     "schema_version": 3,
     "solution": true,
     "task": false
    }
   },
   "outputs": [],
   "source": [
    "q22 = \"quarterly\"\n",
    "\n",
    "# YOUR CODE HERE"
   ]
  },
  {
   "cell_type": "code",
   "execution_count": 40,
   "metadata": {
    "deletable": false,
    "editable": false,
    "nbgrader": {
     "checksum": "f8d77f0cf2508b80f8a8766c80ed5cd4",
     "grade": true,
     "grade_id": "cell-abff9489003728c0",
     "locked": true,
     "points": 1,
     "schema_version": 3,
     "solution": false,
     "task": false
    }
   },
   "outputs": [],
   "source": [
    "# TEST \n",
    "\n",
    "assert q22 in [\"quarterly\", \"anually\", \"monthly\"]\n"
   ]
  },
  {
   "cell_type": "markdown",
   "metadata": {
    "deletable": false,
    "editable": false,
    "nbgrader": {
     "checksum": "eeb2afe99d4c4ecdaeb0ab7d5af7522c",
     "grade": false,
     "grade_id": "cell-02e0c54d32abb502",
     "locked": true,
     "schema_version": 3,
     "solution": false,
     "task": false
    }
   },
   "source": [
    "#### Question 2.3\n",
    "Note that NEI-PTER is the percentage of people who are unemployed (and counted in the NEI) plus the percentage of people who are PTER.  \n",
    "\n",
    "Import the function `add_pter` from the module `helper_functions` to compute the PTER from the NEI-PTER and NEI. The input is `unemployment` from Question 2.1. You should assign the output to a variable called `unemployment_with_pter`\n"
   ]
  },
  {
   "cell_type": "code",
   "execution_count": 41,
   "metadata": {
    "deletable": false,
    "nbgrader": {
     "checksum": "64f509c7bc8af7d0f31e5ad7980d0af1",
     "grade": false,
     "grade_id": "cell-4d820c0947ceca63",
     "locked": false,
     "schema_version": 3,
     "solution": true,
     "task": false
    }
   },
   "outputs": [
    {
     "name": "stdout",
     "output_type": "stream",
     "text": [
      "          Date      NEI  NEI-PTER    PTER\n",
      "0   1994-01-01  10.0974   11.1720  1.0746\n",
      "1   1994-04-01   9.6239   10.7883  1.1644\n",
      "2   1994-07-01   9.3276   10.4831  1.1555\n",
      "3   1994-10-01   9.1071   10.2361  1.1290\n",
      "4   1995-01-01   8.9693   10.1832  1.2139\n",
      "..         ...      ...       ...     ...\n",
      "85  2015-04-01   8.8386   10.1483  1.3097\n",
      "86  2015-07-01   8.6847    9.9166  1.2319\n",
      "87  2015-10-01   8.6650    9.8385  1.1735\n",
      "88  2016-01-01   8.4330    9.6174  1.1844\n",
      "89  2016-04-01   8.5400    9.7146  1.1746\n",
      "\n",
      "[90 rows x 4 columns]\n"
     ]
    }
   ],
   "source": [
    "from helper_functions import add_pter\n",
    "unemployment_with_pter = add_pter(unemployment)\n",
    "print(unemployment_with_pter)\n",
    "# YOUR CODE HERE"
   ]
  },
  {
   "cell_type": "code",
   "execution_count": 42,
   "metadata": {
    "deletable": false,
    "editable": false,
    "nbgrader": {
     "checksum": "3d851cca3b49994912bd5b8af0342d98",
     "grade": true,
     "grade_id": "cell-336a9ce086d3dbdd",
     "locked": true,
     "points": 1,
     "schema_version": 3,
     "solution": false,
     "task": false
    }
   },
   "outputs": [],
   "source": [
    "# TEST \n",
    "\n",
    "assert len(unemployment_with_pter[\"PTER\"]) == 90"
   ]
  },
  {
   "cell_type": "markdown",
   "metadata": {
    "deletable": false,
    "editable": false,
    "nbgrader": {
     "checksum": "6d966c2635f236b363f5450a84d2896c",
     "grade": false,
     "grade_id": "cell-8084b8f08d6e915d",
     "locked": true,
     "schema_version": 3,
     "solution": false,
     "task": false
    }
   },
   "source": [
    "#### Question 2.4\n",
    "Many economists feel that PTER increased in the \"Great Recession\" of 2008-2009.\n",
    "\n",
    "Import the function `plot_pter` from the module `helper_functions` to generate a plot of the PTER. The input is `unemployment_with_pter` from Question 2.3."
   ]
  },
  {
   "cell_type": "code",
   "execution_count": 43,
   "metadata": {
    "deletable": false,
    "nbgrader": {
     "checksum": "9133d00e590a618c206543021daa58a6",
     "grade": false,
     "grade_id": "cell-b772a16f4ab3b375",
     "locked": false,
     "schema_version": 3,
     "solution": true,
     "task": false
    }
   },
   "outputs": [
    {
     "data": {
      "image/png": "[encoded data removed]",
      "text/plain": [
       "<Figure size 1000x800 with 1 Axes>"
      ]
     },
     "metadata": {},
     "output_type": "display_data"
    }
   ],
   "source": [
    "from helper_functions import plot_pter\n",
    "plot_pter(unemployment_with_pter)\n",
    "# YOUR CODE HERE"
   ]
  },
  {
   "cell_type": "markdown",
   "metadata": {
    "deletable": false,
    "editable": false,
    "nbgrader": {
     "checksum": "816ce336a72ea37515e4e37af3ca0c2a",
     "grade": false,
     "grade_id": "cell-abf336852ef2f59c",
     "locked": true,
     "schema_version": 3,
     "solution": false,
     "task": false
    }
   },
   "source": [
    "True or False : Based on the chart, were PTER rates high during or directly after the Great Recession?"
   ]
  },
  {
   "cell_type": "code",
   "execution_count": 44,
   "metadata": {
    "deletable": false,
    "nbgrader": {
     "checksum": "93d25a34940bf73bba864cc660a48fb1",
     "grade": false,
     "grade_id": "cell-93c470d443512cce",
     "locked": false,
     "schema_version": 3,
     "solution": true,
     "task": false
    }
   },
   "outputs": [],
   "source": [
    "q23 = True\n",
    "\n",
    "# YOUR CODE HERE"
   ]
  },
  {
   "cell_type": "code",
   "execution_count": 45,
   "metadata": {
    "deletable": false,
    "editable": false,
    "nbgrader": {
     "checksum": "62f0db47cf00efb39c863895a3d09499",
     "grade": true,
     "grade_id": "cell-1ec6812427a8921d",
     "locked": true,
     "points": 1,
     "schema_version": 3,
     "solution": false,
     "task": false
    }
   },
   "outputs": [],
   "source": [
    "# TEST \n",
    "\n",
    "assert q23 in [True, False]\n"
   ]
  },
  {
   "cell_type": "markdown",
   "metadata": {},
   "source": [
    "**Dumped cells**"
   ]
  },
  {
   "cell_type": "code",
   "execution_count": 46,
   "metadata": {
    "editable": false,
    "nbgrader": {
     "checksum": "bad276561f01fab513cbca52e0a2f181",
     "grade": false,
     "grade_id": "cell-5e1bed3e01f224ef",
     "locked": true,
     "schema_version": 3,
     "solution": false,
     "task": false
    }
   },
   "outputs": [],
   "source": [
    "expert = \"B\"\n",
    "number_forecasts = 1000\n",
    "market_conditions = range(1,101)"
   ]
  },
  {
   "cell_type": "code",
   "execution_count": 47,
   "metadata": {
    "editable": false,
    "nbgrader": {
     "checksum": "fba5be018e52784a7afd13e4854bbdca",
     "grade": false,
     "grade_id": "cell-9b873185c992fa89",
     "locked": true,
     "schema_version": 3,
     "solution": false,
     "task": false
    }
   },
   "outputs": [
    {
     "name": "stdout",
     "output_type": "stream",
     "text": [
      "0.516\n"
     ]
    }
   ],
   "source": [
    "forecasts = generate_expert_prediction(expert, number_forecasts, market_conditions[0])\n",
    "\n",
    "number_correct = 0 \n",
    "for forecast in forecasts:\n",
    "    if (forecast == 1):\n",
    "        number_correct = number_correct + 1\n",
    "        \n",
    "print(number_correct / number_forecasts)"
   ]
  },
  {
   "cell_type": "code",
   "execution_count": 48,
   "metadata": {
    "editable": false,
    "nbgrader": {
     "checksum": "fba5be018e52784a7afd13e4854bbdca",
     "grade": false,
     "grade_id": "cell-9b873185c992fa89",
     "locked": true,
     "schema_version": 3,
     "solution": false,
     "task": false
    },
    "scrolled": true
   },
   "outputs": [
    {
     "name": "stdout",
     "output_type": "stream",
     "text": [
      "0.516\n"
     ]
    }
   ],
   "source": [
    "forecasts = generate_expert_prediction(expert, number_forecasts, market_conditions[0])\n",
    "\n",
    "number_correct = 0 \n",
    "for forecast in forecasts:\n",
    "    if (forecast == 1):\n",
    "        number_correct = number_correct + 1\n",
    "        \n",
    "print(number_correct / number_forecasts)"
   ]
  },
  {
   "cell_type": "code",
   "execution_count": 49,
   "metadata": {
    "editable": false,
    "nbgrader": {
     "checksum": "78fb8d30bcf07438c80b6d6c2d358895",
     "grade": false,
     "grade_id": "cell-9dc9a75ceaa60dab",
     "locked": true,
     "schema_version": 3,
     "solution": false,
     "task": false
    }
   },
   "outputs": [
    {
     "name": "stdout",
     "output_type": "stream",
     "text": [
      "[0.516, 0.481, 0.518, 0.515, 0.499, 0.511, 0.506, 0.51, 0.519, 0.492, 0.504, 0.528, 0.497, 0.496, 0.479, 0.502, 0.517, 0.495, 0.49, 0.498, 0.505, 0.506, 0.473, 0.521, 0.513, 0.511, 0.503, 0.502, 0.511, 0.514, 0.498, 0.523, 0.526, 0.501, 0.507, 0.497, 0.523, 0.512, 0.524, 0.526, 0.501, 0.496, 0.529, 0.523, 0.501, 0.493, 0.524, 0.501, 0.52, 0.497, 0.493, 0.521, 0.515, 0.493, 0.502, 0.49, 0.481, 0.489, 0.527, 0.511, 0.48, 0.513, 0.528, 0.489, 0.48, 0.488, 0.505, 0.514, 0.507, 0.497, 0.517, 0.507, 0.488, 0.519, 0.511, 0.491, 0.499, 0.499, 0.509, 0.525, 0.515, 0.483, 0.517, 0.509, 0.512, 0.475, 0.509, 0.524, 0.512, 0.503, 0.485, 0.516, 0.506, 0.515, 0.485, 0.523, 0.511, 0.504, 0.54, 0.504]\n"
     ]
    }
   ],
   "source": [
    "fraction_correct = []\n",
    "for market_condition in market_conditions:\n",
    "    forecasts = generate_expert_prediction(expert, number_forecasts, market_condition)\n",
    "\n",
    "    number_correct = 0 \n",
    "    for forecast in forecasts:\n",
    "        if (forecast == 1):\n",
    "            number_correct = number_correct + 1\n",
    "        \n",
    "    fraction_correct.append(number_correct/number_forecasts)\n",
    "    \n",
    "print(fraction_correct)"
   ]
  },
  {
   "cell_type": "code",
   "execution_count": 50,
   "metadata": {
    "nbgrader": {
     "checksum": "c3a018a7b29f4372df38e349b23aecea",
     "grade": false,
     "grade_id": "cell-08f7c5b916ea3087",
     "locked": false,
     "schema_version": 3,
     "solution": true,
     "task": false
    }
   },
   "outputs": [],
   "source": [
    "a = 0;\n",
    "for fraction in fraction_correct:\n",
    "    a = a + fraction;\n",
    "average_fraction_correct_forecast_B = a / 100\n",
    "# YOUR CODE HERE\n"
   ]
  }
 ],
 "metadata": {
  "kernelspec": {
   "display_name": "Python [conda env:mg-gy-8413]",
   "language": "python",
   "name": "conda-env-mg-gy-8413-py"
  },
  "language_info": {
   "codemirror_mode": {
    "name": "ipython",
    "version": 3
   },
   "file_extension": ".py",
   "mimetype": "text/x-python",
   "name": "python",
   "nbconvert_exporter": "python",
   "pygments_lexer": "ipython3",
   "version": "3.7.12"
  }
 },
 "nbformat": 4,
 "nbformat_minor": 4
}
