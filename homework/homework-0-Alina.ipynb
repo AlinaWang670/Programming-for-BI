{
 "cells": [
  {
   "cell_type": "markdown",
   "metadata": {
    "deletable": false,
    "editable": false,
    "nbgrader": {
     "cell_type": "markdown",
     "checksum": "a3bfd8b1c3cab7875bd398ccce403558",
     "grade": false,
     "grade_id": "cell-2589f6cef7eb08b0",
     "locked": true,
     "schema_version": 3,
     "solution": false,
     "task": false
    }
   },
   "source": [
    "## Homework 0\n",
    "### Due Date: September 9 at 11:59PM ET\n",
    "\n",
    "Before starting Homework 1, you should get practice with submission of assignments. Homework 0 has a few questions but you will not receive a grade for your answers. Focus on  \n",
    "\n",
    "- fetching\n",
    "- modifying\n",
    "- validating\n",
    "- submitting  \n",
    "\n",
    "your Jupyter notebook. Consult the [instructional video](https://nbgrader.readthedocs.io/en/stable/user_guide/highlights.html#student-assignment-list-extension-for-jupyter-notebooks) for more information about the grading component of JupyterHub.\n",
    "\n",
    "#### Collaboration Policy\n",
    "\n",
    "You are prohibited from sharing your solutions. You are discouraged from providing guidance or assistance on questions. You should refrain from discussing the assignment with others. Consult the syllabus for information about policies surrounding misconduct."
   ]
  },
  {
   "cell_type": "markdown",
   "metadata": {},
   "source": [
    "**Name:** *Alina Wang*"
   ]
  },
  {
   "cell_type": "markdown",
   "metadata": {},
   "source": [
    "**NetId:** *hw3414*"
   ]
  },
  {
   "cell_type": "markdown",
   "metadata": {
    "deletable": false,
    "editable": false,
    "nbgrader": {
     "cell_type": "markdown",
     "checksum": "0477332a799eca97fc32b1bd3f1355bd",
     "grade": false,
     "grade_id": "cell-dbfd6f1919e25189",
     "locked": true,
     "schema_version": 3,
     "solution": false,
     "task": false
    }
   },
   "source": [
    "### Rubric\n",
    "\n",
    "Question | Points\n",
    "--- | ---\n",
    "[Question 1](#q1) | 3\n",
    "Total | 3"
   ]
  },
  {
   "cell_type": "markdown",
   "metadata": {
    "deletable": false,
    "editable": false,
    "nbgrader": {
     "cell_type": "markdown",
     "checksum": "1d2955a80f6a61e7c56b3753600aca44",
     "grade": false,
     "grade_id": "cell-4f5cc38347a98c8c",
     "locked": true,
     "schema_version": 3,
     "solution": false,
     "task": false
    }
   },
   "source": [
    "### Question 1: String Formatting <a name='q1'></a>\n",
    "\n",
    "A string is a collection of characters meaning letters, numbers and punctuation. We can specify a string through quotation marks \n",
    "\n",
    "> `\"Hello World\"`\n",
    "\n",
    "If we want to display a string to the output of a cell, then we can use the `print` function.\n",
    "\n"
   ]
  },
  {
   "cell_type": "code",
   "execution_count": 1,
   "metadata": {
    "deletable": false,
    "editable": false,
    "nbgrader": {
     "cell_type": "code",
     "checksum": "9694738d6f806ad0a44d1afd730d99c0",
     "grade": false,
     "grade_id": "cell-4e5167473ef1be86",
     "locked": true,
     "schema_version": 3,
     "solution": false,
     "task": false
    }
   },
   "outputs": [
    {
     "name": "stdout",
     "output_type": "stream",
     "text": [
      "Hello World\n"
     ]
    }
   ],
   "source": [
    "print(\"Hello World\")"
   ]
  },
  {
   "cell_type": "code",
   "execution_count": 1,
   "metadata": {},
   "outputs": [
    {
     "name": "stdout",
     "output_type": "stream",
     "text": [
      "['s', 'd']\n"
     ]
    }
   ],
   "source": [
    "us_states = [\"s\",\"a\",\"d\",\"h\"]\n",
    "print(us_states[::2])"
   ]
  },
  {
   "cell_type": "markdown",
   "metadata": {
    "deletable": false,
    "editable": false,
    "nbgrader": {
     "cell_type": "markdown",
     "checksum": "3d056519c8edb3719bb64d4a0e58671e",
     "grade": false,
     "grade_id": "cell-460528b099d063ae",
     "locked": true,
     "schema_version": 3,
     "solution": false,
     "task": false
    }
   },
   "source": [
    "Sometimes we want to add information to a string that depends on a calculation. We cannot include the operation between quotation marks. "
   ]
  },
  {
   "cell_type": "code",
   "execution_count": 2,
   "metadata": {
    "deletable": false,
    "editable": false,
    "nbgrader": {
     "cell_type": "code",
     "checksum": "0cc494f11347977d3f45391bddf70bc3",
     "grade": false,
     "grade_id": "cell-abc3f8c15a5a128b",
     "locked": true,
     "schema_version": 3,
     "solution": false,
     "task": false
    }
   },
   "outputs": [
    {
     "name": "stdout",
     "output_type": "stream",
     "text": [
      "The sum of 3 and 2 is 3+2\n"
     ]
    }
   ],
   "source": [
    "print(\"The sum of 3 and 2 is 3+2\")"
   ]
  },
  {
   "cell_type": "markdown",
   "metadata": {
    "deletable": false,
    "editable": false,
    "nbgrader": {
     "cell_type": "markdown",
     "checksum": "3e648aaeced99be459184f8d8cc711bb",
     "grade": false,
     "grade_id": "cell-bb89323c2e71eb90",
     "locked": true,
     "schema_version": 3,
     "solution": false,
     "task": false
    }
   },
   "source": [
    "Note that the string does not appear as `\"The sum of 3 and 2 is 5\"` in the output of the cell.\n",
    "\n",
    "> So how can we display the result of a calculation in a string? \n",
    "\n",
    "We need a way to insert the missing number. We will explore three ways to add a placeholder for a number in a string. "
   ]
  },
  {
   "cell_type": "markdown",
   "metadata": {
    "deletable": false,
    "editable": false,
    "nbgrader": {
     "cell_type": "markdown",
     "checksum": "b5ed96c3f6012ca62ee74af04494078f",
     "grade": false,
     "grade_id": "cell-c05ebceac9fde00f",
     "locked": true,
     "schema_version": 3,
     "solution": false,
     "task": false
    }
   },
   "source": [
    "#### Question 1.1 \n",
    "\n",
    "We can use a percentage sign to indicate a placeholder."
   ]
  },
  {
   "cell_type": "code",
   "execution_count": null,
   "metadata": {
    "deletable": false,
    "editable": false,
    "nbgrader": {
     "cell_type": "code",
     "checksum": "718d813752d6dd8765778ea621570fd9",
     "grade": false,
     "grade_id": "cell-b91e7173c69e5bc6",
     "locked": true,
     "schema_version": 3,
     "solution": false,
     "task": false
    }
   },
   "outputs": [],
   "source": [
    "print(\"The sum of 3 and 2 is %d\" % (2 + 3))"
   ]
  },
  {
   "cell_type": "markdown",
   "metadata": {
    "deletable": false,
    "editable": false,
    "nbgrader": {
     "cell_type": "markdown",
     "checksum": "3d287828a6182bfbd9fb03fd9339c5b1",
     "grade": false,
     "grade_id": "cell-fd921eb11b6d6895",
     "locked": true,
     "schema_version": 3,
     "solution": false,
     "task": false
    }
   },
   "source": [
    "Here the placeholder is `%d`. Note that `d` indicates an integer number like `5`. Suppose we changed from `d` to `f`. \n",
    "\n",
    "```python\n",
    "print(\"The sum of 3 and 2 is %f\" % (2 + 3))\n",
    "```\n",
    "\n",
    "What is the output of the code?\n",
    "\n",
    "- A. `The sum of 3 and 2 is 5`\n",
    "- B. `The sum of 3 and 2 is 5.000000`\n",
    "- C. `The sum of 3 and 2 is 2 + 3`\n",
    "\n",
    "Indicate your answer as the string `\"A\"`,`\"B\"` or `\"C\"`. "
   ]
  },
  {
   "cell_type": "code",
   "execution_count": 15,
   "metadata": {
    "deletable": false,
    "nbgrader": {
     "cell_type": "code",
     "checksum": "f7a49dab6be2890dc5cc62689c569b1b",
     "grade": false,
     "grade_id": "cell-92e5b8cdb6739630",
     "locked": false,
     "schema_version": 3,
     "solution": true,
     "task": false
    }
   },
   "outputs": [
    {
     "ename": "NotImplementedError",
     "evalue": "",
     "output_type": "error",
     "traceback": [
      "\u001b[0;31m---------------------------------------------------------------------------\u001b[0m",
      "\u001b[0;31mNotImplementedError\u001b[0m                       Traceback (most recent call last)",
      "Cell \u001b[0;32mIn[15], line 4\u001b[0m\n\u001b[1;32m      1\u001b[0m q1_1 \u001b[38;5;241m=\u001b[39m \u001b[38;5;124m\"\u001b[39m\u001b[38;5;124mC\u001b[39m\u001b[38;5;124m\"\u001b[39m\n\u001b[1;32m      3\u001b[0m \u001b[38;5;66;03m# YOUR CODE HERE\u001b[39;00m\n\u001b[0;32m----> 4\u001b[0m \u001b[38;5;28;01mraise\u001b[39;00m \u001b[38;5;167;01mNotImplementedError\u001b[39;00m()\n",
      "\u001b[0;31mNotImplementedError\u001b[0m: "
     ]
    }
   ],
   "source": [
    "q1_1 = \"B\"\n",
    "\n",
    "# YOUR CODE HERE\n",
    "raise NotImplementedError()"
   ]
  },
  {
   "cell_type": "code",
   "execution_count": 16,
   "metadata": {
    "deletable": false,
    "editable": false,
    "nbgrader": {
     "cell_type": "code",
     "checksum": "529287985f7e4221e61684177ca65246",
     "grade": true,
     "grade_id": "cell-d703f20b90b0fa40",
     "locked": true,
     "points": 1,
     "schema_version": 3,
     "solution": false,
     "task": false
    }
   },
   "outputs": [],
   "source": [
    "# TEST \n",
    "\n",
    "assert q1_1 in [\"A\",\"B\",\"C\"]\n"
   ]
  },
  {
   "cell_type": "markdown",
   "metadata": {
    "deletable": false,
    "editable": false,
    "nbgrader": {
     "cell_type": "markdown",
     "checksum": "7e60ae029075264f1210ef54b6fc7084",
     "grade": false,
     "grade_id": "cell-1b3531f258d91e8b",
     "locked": true,
     "schema_version": 3,
     "solution": false,
     "task": false
    }
   },
   "source": [
    "#### Question 1.2\n",
    "\n",
    "We can use the `format` method to insert a number into a placeholder."
   ]
  },
  {
   "cell_type": "code",
   "execution_count": null,
   "metadata": {
    "deletable": false,
    "editable": false,
    "nbgrader": {
     "cell_type": "code",
     "checksum": "0102feefd266144380f34971e70f2412",
     "grade": false,
     "grade_id": "cell-39a7abdc74a760fd",
     "locked": true,
     "schema_version": 3,
     "solution": false,
     "task": false
    }
   },
   "outputs": [],
   "source": [
    "print(\"The sum of 3 and 2 is {}\".format(2+3))"
   ]
  },
  {
   "cell_type": "markdown",
   "metadata": {
    "deletable": false,
    "editable": false,
    "nbgrader": {
     "cell_type": "markdown",
     "checksum": "4ebcd8f3d9171d3ba316d2f53748097f",
     "grade": false,
     "grade_id": "cell-411530f72df12153",
     "locked": true,
     "schema_version": 3,
     "solution": false,
     "task": false
    }
   },
   "source": [
    "Here the placeholder consists of braces `{}`. Note that `format` is an operation on the string that inserts the number into the placeholder.\n",
    "\n",
    "**True or False** The following code \n",
    "\n",
    "```python \n",
    "print(\"The sum of 3 and 2 is {placeholder_name}\".format(placeholder_name = 2 + 3))\n",
    "```\n",
    "\n",
    "generates an error message.\n",
    "\n",
    "Indicate your answer as the string `\"True\"` or `\"False\"`."
   ]
  },
  {
   "cell_type": "code",
   "execution_count": 17,
   "metadata": {},
   "outputs": [
    {
     "name": "stdout",
     "output_type": "stream",
     "text": [
      "The sum of 3 and 2 is 5\n"
     ]
    }
   ],
   "source": [
    "print(\"The sum of 3 and 2 is {placeholder_name}\".format(placeholder_name = 2 + 3))"
   ]
  },
  {
   "cell_type": "code",
   "execution_count": 18,
   "metadata": {
    "deletable": false,
    "nbgrader": {
     "cell_type": "code",
     "checksum": "11c371431d1986ad3f438da232b9841c",
     "grade": false,
     "grade_id": "cell-8513e795e6987ddd",
     "locked": false,
     "schema_version": 3,
     "solution": true,
     "task": false
    }
   },
   "outputs": [
    {
     "ename": "NotImplementedError",
     "evalue": "",
     "output_type": "error",
     "traceback": [
      "\u001b[0;31m---------------------------------------------------------------------------\u001b[0m",
      "\u001b[0;31mNotImplementedError\u001b[0m                       Traceback (most recent call last)",
      "Cell \u001b[0;32mIn[18], line 4\u001b[0m\n\u001b[1;32m      1\u001b[0m q1_2 \u001b[38;5;241m=\u001b[39m \u001b[38;5;124m\"\u001b[39m\u001b[38;5;124mTrue\u001b[39m\u001b[38;5;124m\"\u001b[39m \n\u001b[1;32m      3\u001b[0m \u001b[38;5;66;03m# YOUR CODE HERE\u001b[39;00m\n\u001b[0;32m----> 4\u001b[0m \u001b[38;5;28;01mraise\u001b[39;00m \u001b[38;5;167;01mNotImplementedError\u001b[39;00m()\n",
      "\u001b[0;31mNotImplementedError\u001b[0m: "
     ]
    }
   ],
   "source": [
    "q1_2 = \"True\" \n",
    "\n",
    "# YOUR CODE HERE\n",
    "raise NotImplementedError()"
   ]
  },
  {
   "cell_type": "code",
   "execution_count": 19,
   "metadata": {
    "deletable": false,
    "editable": false,
    "nbgrader": {
     "cell_type": "code",
     "checksum": "c06cbc575a377a071157a74609f66421",
     "grade": true,
     "grade_id": "cell-aec5dacf8a7ffedb",
     "locked": true,
     "points": 1,
     "schema_version": 3,
     "solution": false,
     "task": false
    }
   },
   "outputs": [],
   "source": [
    "# TEST \n",
    "\n",
    "assert q1_2 in [\"True\", \"False\"]\n"
   ]
  },
  {
   "cell_type": "markdown",
   "metadata": {
    "deletable": false,
    "editable": false,
    "nbgrader": {
     "cell_type": "markdown",
     "checksum": "2e744db19cab827bcefd3427e77dc1ad",
     "grade": false,
     "grade_id": "cell-d2f1a9e06c3687f7",
     "locked": true,
     "schema_version": 3,
     "solution": false,
     "task": false
    }
   },
   "source": [
    "#### Question 1.3\n",
    "\n",
    "We can append the character `f` in front of the string."
   ]
  },
  {
   "cell_type": "code",
   "execution_count": 20,
   "metadata": {
    "deletable": false,
    "editable": false,
    "nbgrader": {
     "cell_type": "code",
     "checksum": "efc5f4f211ebe029cc5268db5853abd8",
     "grade": false,
     "grade_id": "cell-f90b4c0a470cab3c",
     "locked": true,
     "schema_version": 3,
     "solution": false,
     "task": false
    },
    "scrolled": true
   },
   "outputs": [
    {
     "name": "stdout",
     "output_type": "stream",
     "text": [
      "The sum of 3 and 2 is 5.000000\n"
     ]
    }
   ],
   "source": [
    "print(f\"The sum of 3 and 2 is {2+3:f}\")"
   ]
  },
  {
   "cell_type": "markdown",
   "metadata": {
    "deletable": false,
    "editable": false,
    "nbgrader": {
     "cell_type": "markdown",
     "checksum": "e80c2136cf17948cebacfff03e5dd481",
     "grade": false,
     "grade_id": "cell-7e904f3a99d9699f",
     "locked": true,
     "schema_version": 3,
     "solution": false,
     "task": false
    }
   },
   "source": [
    "Here the placeholder consists of braces `{}`. We need to enter the number between the braces. Suppose we made a modification. \n",
    "\n",
    "```python\n",
    "print(f\"The sum of 3 and 2 is {2+3:f}\")\n",
    "```\n",
    "Does the code cause an error message to appear in the output of the cell?\n",
    "\n",
    "Enter you answer as the string `\"True\"`,`\"False\"`."
   ]
  },
  {
   "cell_type": "code",
   "execution_count": 30,
   "metadata": {},
   "outputs": [
    {
     "name": "stdout",
     "output_type": "stream",
     "text": [
      "The sum of 3 and 2 is 5\n"
     ]
    }
   ],
   "source": [
    "print(f\"The sum of 3 and 2 is {2+3:d}\")"
   ]
  },
  {
   "cell_type": "code",
   "execution_count": 31,
   "metadata": {
    "deletable": false,
    "nbgrader": {
     "cell_type": "code",
     "checksum": "4ccaac6524bc39d2c07876b700a84ee8",
     "grade": false,
     "grade_id": "cell-17e45add4e6a199f",
     "locked": false,
     "schema_version": 3,
     "solution": true,
     "task": false
    }
   },
   "outputs": [],
   "source": [
    "q1_3 = \"False\" \n",
    "\n",
    "# YOUR CODE HERE\n",
    "raise NotImplementedError()"
   ]
  },
  {
   "cell_type": "code",
   "execution_count": 29,
   "metadata": {
    "deletable": false,
    "editable": false,
    "nbgrader": {
     "cell_type": "code",
     "checksum": "f0e7d16e07dbcd851f5079a679c3172d",
     "grade": true,
     "grade_id": "cell-844eafff1b47e1d3",
     "locked": true,
     "points": 1,
     "schema_version": 3,
     "solution": false,
     "task": false
    },
    "scrolled": true
   },
   "outputs": [],
   "source": [
    "# TEST \n",
    "\n",
    "assert q1_3 in [\"True\", \"False\"]\n"
   ]
  }
 ],
 "metadata": {
  "kernelspec": {
   "display_name": "Python 3 (ipykernel)",
   "language": "python",
   "name": "python3"
  },
  "language_info": {
   "codemirror_mode": {
    "name": "ipython",
    "version": 3
   },
   "file_extension": ".py",
   "mimetype": "text/x-python",
   "name": "python",
   "nbconvert_exporter": "python",
   "pygments_lexer": "ipython3",
   "version": "3.10.11"
  }
 },
 "nbformat": 4,
 "nbformat_minor": 4
}
