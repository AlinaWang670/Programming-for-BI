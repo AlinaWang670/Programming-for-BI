{
 "cells": [
  {
   "cell_type": "markdown",
   "metadata": {
    "deletable": false,
    "editable": false,
    "nbgrader": {
     "cell_type": "markdown",
     "checksum": "ce675679fff6a14e001cb88ac05e160a",
     "grade": false,
     "grade_id": "cell-277ac1db5743b98f",
     "locked": true,
     "schema_version": 3,
     "solution": false,
     "task": false
    }
   },
   "source": [
    "## Homework 6 : Tables\n",
    "\n",
    "#### Due Date: Saturday October 21 at 11:59PM ET\n",
    "\n",
    "In this assignment, we will process data in tables. We will get practice with\n",
    "\n",
    "- missing entries \n",
    "- aggregating values\n",
    "- linking records\n",
    "  \n",
    "The questions guide you step-by-step through these approaches. \n",
    "\n",
    "#### Collaboration Policy\n",
    "\n",
    "You are prohibited from sharing your solutions. You are discouraged from providing guidance or assistance on questions. You should refrain from discussing the assignment with others. Consult the syllabus for information about policies surrounding misconduct."
   ]
  },
  {
   "cell_type": "markdown",
   "metadata": {},
   "source": [
    "**Name:** *Alina Wang*"
   ]
  },
  {
   "cell_type": "markdown",
   "metadata": {},
   "source": [
    "**NetId:** *hw3414*"
   ]
  },
  {
   "cell_type": "markdown",
   "metadata": {
    "deletable": false,
    "editable": false,
    "nbgrader": {
     "cell_type": "markdown",
     "checksum": "27924101d928d661c6672e8beec0a88b",
     "grade": false,
     "grade_id": "cell-24715915b4286eed",
     "locked": true,
     "schema_version": 3,
     "solution": false,
     "task": false
    }
   },
   "source": [
    "### Rubric\n",
    "\n",
    "Question | Points\n",
    "--- | ---\n",
    "Question 1.1 | 1\n",
    "Question 1.2 | 1\n",
    "Question 1.3 | 1\n",
    "Question 2.1 | 1\n",
    "Question 2.2 | 1\n",
    "Question 2.3 | 1\n",
    "Question 2.4 | 1\n",
    "Question 3.1 | 1\n",
    "Question 3.2 | 1\n",
    "Question 3.3 | 1\n",
    "Question 4.1 | 1\n",
    "Question 4.2 | 1\n",
    "Question 4.3 | 1\n",
    "Question 5.1 | 1\n",
    "Question 5.2 | 1\n",
    "Question 5.3 | 0\n",
    "Total | 15"
   ]
  },
  {
   "cell_type": "markdown",
   "metadata": {
    "deletable": false,
    "editable": false,
    "nbgrader": {
     "cell_type": "markdown",
     "checksum": "b01fd6b72b2dd7d9a5cff6867e3ef278",
     "grade": false,
     "grade_id": "cell-d16eb9723104d3f7",
     "locked": true,
     "schema_version": 3,
     "solution": false,
     "task": false
    }
   },
   "source": [
    "<img src=\"image.PNG\"  width=\"400\" align=\"right\"/>\n",
    "\n",
    "We will study data from the World Bank. The World Bank is an international financial organization which provides loans to governments of developing countries. \n",
    "\n",
    "In Homework 3, we studied \n",
    "\n",
    "- literacy rate among adult females \n",
    "- gross national income per capita\n",
    "\n",
    "Here we want to study\n",
    "\n",
    "- gross domenstic product per capita\n",
    "- population \n",
    "- life expectancy \n",
    "\n",
    "Note the difference between gross national income and gross domestic product.  \n",
    "\n",
    "- Gross domestic product measures the value of domestic goods and services \n",
    "- Gross national income measures revenue generated domestically and abroad by residents and businesses.\n",
    "\n",
    "So the gross national income tends to be higher than the gross domestic product.\n",
    "\n",
    "### 0. Load Packages\n",
    "\n",
    "We have been working with the\n",
    "\n",
    "-  `numpy` package for manipulations of arrays\n",
    "-  `matplotlib` package for generating charts\n",
    "- `pandas` package for handling tables \n",
    "\n",
    "Here we will focus on operations in `pandas` including the join operation"
   ]
  },
  {
   "cell_type": "code",
   "execution_count": 2,
   "metadata": {
    "deletable": false,
    "editable": false,
    "nbgrader": {
     "cell_type": "code",
     "checksum": "216131c9e66b6221b6537f510920b78a",
     "grade": false,
     "grade_id": "cell-78ed536253c2de08",
     "locked": true,
     "schema_version": 3,
     "solution": false,
     "task": false
    }
   },
   "outputs": [],
   "source": [
    "# import some packages\n",
    "\n",
    "import numpy as np\n",
    "import pandas as pd\n",
    "\n",
    "import matplotlib.pyplot as plt\n",
    "\n",
    "# change some settings\n",
    "\n",
    "pd.set_option('display.max_rows', 10)\n",
    "pd.set_option('display.max_columns', 8)\n",
    "\n",
    "plt.rcParams['figure.figsize'] = (10,8)"
   ]
  },
  {
   "cell_type": "code",
   "execution_count": 3,
   "metadata": {
    "deletable": false,
    "editable": false,
    "nbgrader": {
     "cell_type": "code",
     "checksum": "1c1d2b772ff5c4db7004a38927cd352c",
     "grade": true,
     "grade_id": "cell-873c5dce3bbf6b9f",
     "locked": true,
     "points": 0,
     "schema_version": 3,
     "solution": false,
     "task": false
    }
   },
   "outputs": [],
   "source": [
    "# TEST\n",
    "\n",
    "import sys\n",
    "\n",
    "assert \"numpy\" in sys.modules and \"np\" in locals()\n",
    "assert \"pandas\" in sys.modules and \"pd\" in locals()\n",
    "assert \"matplotlib\" in sys.modules and \"plt\" in locals()"
   ]
  },
  {
   "cell_type": "markdown",
   "metadata": {
    "deletable": false,
    "editable": false,
    "nbgrader": {
     "cell_type": "markdown",
     "checksum": "c2d659dc0d9edbdba9a23e22ef5c869e",
     "grade": false,
     "grade_id": "cell-7462a01741d10a9c",
     "locked": true,
     "schema_version": 3,
     "solution": false,
     "task": false
    }
   },
   "source": [
    "Note that we changed some of the default settings in `pandas` with `set_option` and in `matplotlib` with `rcParams`. \n",
    "\n",
    "### Question 1\n",
    "\n",
    "Before we can understand the information about gross domestic product, we need to load and rearrange the data from `world_bank_gdp.csv`. \n",
    "\n",
    "#### Question 1.1\n",
    "\n",
    "Use the `pandas` function `read_csv` to load the data from `world_bank_gdp.csv`. Store the table in the variable `gdp`."
   ]
  },
  {
   "cell_type": "code",
   "execution_count": 4,
   "metadata": {
    "deletable": false,
    "nbgrader": {
     "cell_type": "code",
     "checksum": "4a16a82adf72c3a0014883e85fe118dd",
     "grade": false,
     "grade_id": "cell-f66819dc9874ceeb",
     "locked": false,
     "schema_version": 3,
     "solution": true,
     "task": false
    }
   },
   "outputs": [],
   "source": [
    "gdp = pd.read_csv(\"world_bank_gdp.csv\")"
   ]
  },
  {
   "cell_type": "code",
   "execution_count": 5,
   "metadata": {
    "deletable": false,
    "editable": false,
    "nbgrader": {
     "cell_type": "code",
     "checksum": "bd2ff7f4e37a3a68a0bdcfe40f832504",
     "grade": true,
     "grade_id": "cell-4831bca6f3d5ba65",
     "locked": true,
     "points": 1,
     "schema_version": 3,
     "solution": false,
     "task": false
    }
   },
   "outputs": [],
   "source": [
    "# TEST \n",
    "\n",
    "assert gdp.shape == (260, 214)\n"
   ]
  },
  {
   "cell_type": "markdown",
   "metadata": {
    "deletable": false,
    "editable": false,
    "nbgrader": {
     "cell_type": "markdown",
     "checksum": "66620554df00e448643e29922c04b38d",
     "grade": false,
     "grade_id": "cell-846a1d2385c4d1fa",
     "locked": true,
     "schema_version": 3,
     "solution": false,
     "task": false
    }
   },
   "source": [
    "#### Question 1.2\n",
    "\n",
    "Use the `pandas` function `set_index` to make the column `GDP per capita` the index of the table. "
   ]
  },
  {
   "cell_type": "code",
   "execution_count": 6,
   "metadata": {
    "deletable": false,
    "nbgrader": {
     "cell_type": "code",
     "checksum": "cdee91b6d46efb7fa6fcfee1a3c887a5",
     "grade": false,
     "grade_id": "cell-e01ce1704b50da54",
     "locked": false,
     "schema_version": 3,
     "solution": true,
     "task": false
    }
   },
   "outputs": [],
   "source": [
    "column = \"GDP per capita\"\n",
    "gdp.set_index(column, inplace=True)"
   ]
  },
  {
   "cell_type": "code",
   "execution_count": 7,
   "metadata": {
    "deletable": false,
    "editable": false,
    "nbgrader": {
     "cell_type": "code",
     "checksum": "a7ebbce7f2b4dfd511568422abddaa5f",
     "grade": true,
     "grade_id": "cell-6f0e429ff8996bd1",
     "locked": true,
     "points": 1,
     "schema_version": 3,
     "solution": false,
     "task": false
    }
   },
   "outputs": [],
   "source": [
    "# TEST \n",
    "\n",
    "assert gdp.index.name == \"GDP per capita\"\n"
   ]
  },
  {
   "cell_type": "markdown",
   "metadata": {
    "deletable": false,
    "editable": false,
    "nbgrader": {
     "cell_type": "markdown",
     "checksum": "73c7c721c030839e8b8ebea04d930858",
     "grade": false,
     "grade_id": "cell-f5844abcf779eb2c",
     "locked": true,
     "schema_version": 3,
     "solution": false,
     "task": false
    }
   },
   "source": [
    "Now we can use `transpose` to switch the rows and columns of the table. "
   ]
  },
  {
   "cell_type": "code",
   "execution_count": 8,
   "metadata": {
    "deletable": false,
    "editable": false,
    "nbgrader": {
     "cell_type": "code",
     "checksum": "32a76ddfaf85d545bfc653ca73816f5b",
     "grade": false,
     "grade_id": "cell-85c8fce5c0d765f7",
     "locked": true,
     "schema_version": 3,
     "solution": false,
     "task": false
    }
   },
   "outputs": [],
   "source": [
    "gdp = gdp.transpose()"
   ]
  },
  {
   "cell_type": "markdown",
   "metadata": {
    "deletable": false,
    "editable": false,
    "nbgrader": {
     "cell_type": "markdown",
     "checksum": "cf16f7cef8bd7920f7d53561ee59e790",
     "grade": false,
     "grade_id": "cell-c5bc47e82dc1486f",
     "locked": true,
     "schema_version": 3,
     "solution": false,
     "task": false
    }
   },
   "source": [
    "#### Question 1.3\n",
    "\n",
    "Remember the `pandas` function `to_datetime` from Homework 4. We want to change the year to a `datetime` object. \n",
    "\n",
    "Specify the format as a string. Note each entry represents a year."
   ]
  },
  {
   "cell_type": "code",
   "execution_count": 9,
   "metadata": {
    "deletable": false,
    "nbgrader": {
     "cell_type": "code",
     "checksum": "18758e9e7bf36d7772a87cfefd343ccd",
     "grade": false,
     "grade_id": "cell-b94db99ccad54446",
     "locked": false,
     "schema_version": 3,
     "solution": true,
     "task": false
    }
   },
   "outputs": [],
   "source": [
    "format_string = \"%Y\"\n",
    "gdp.index = pd.to_datetime(gdp.index, format = format_string)"
   ]
  },
  {
   "cell_type": "code",
   "execution_count": 10,
   "metadata": {
    "deletable": false,
    "editable": false,
    "nbgrader": {
     "cell_type": "code",
     "checksum": "0c66cc0db7be1d3952212ef515bbb719",
     "grade": true,
     "grade_id": "cell-b5b87c43f06383db",
     "locked": true,
     "points": 1,
     "schema_version": 3,
     "solution": false,
     "task": false
    }
   },
   "outputs": [],
   "source": [
    "# TEST\n",
    "\n",
    "assert all(gdp.index.year == np.arange(1800, 2013, 1))\n"
   ]
  },
  {
   "cell_type": "markdown",
   "metadata": {
    "deletable": false,
    "editable": false,
    "nbgrader": {
     "cell_type": "markdown",
     "checksum": "bf2dc535aaedbbb8828264e0b9baf8d9",
     "grade": false,
     "grade_id": "cell-5c7ecac0cc1ac965",
     "locked": true,
     "schema_version": 3,
     "solution": false,
     "task": false
    }
   },
   "source": [
    "### Question 2\n",
    "\n",
    "We need to handle missing values.\n",
    "\n",
    "#### Question 2.1\n",
    "\n",
    "Use the `pandas` function `replace` to substitute `np.NaN` for `Missing` in the table. Remember that we need to specify a dictionary for `replace`. "
   ]
  },
  {
   "cell_type": "code",
   "execution_count": 11,
   "metadata": {
    "deletable": false,
    "nbgrader": {
     "cell_type": "code",
     "checksum": "0d47d6ee2eb23b98346459eee1fe31b6",
     "grade": false,
     "grade_id": "cell-da7b2f5b92363399",
     "locked": false,
     "schema_version": 3,
     "solution": true,
     "task": false
    }
   },
   "outputs": [],
   "source": [
    "dictionary_for_replacement = {'Missing': np.NaN}\n",
    "\n",
    "gdp.replace(dictionary_for_replacement, inplace=True)"
   ]
  },
  {
   "cell_type": "code",
   "execution_count": 12,
   "metadata": {
    "deletable": false,
    "editable": false,
    "nbgrader": {
     "cell_type": "code",
     "checksum": "154121e08433a85edbeb4609e6e6fd9e",
     "grade": true,
     "grade_id": "cell-b7123b10dd5dc236",
     "locked": true,
     "points": 1,
     "schema_version": 3,
     "solution": false,
     "task": false
    }
   },
   "outputs": [],
   "source": [
    "# TEST\n",
    "\n",
    "assert all(~gdp.isin([\"Missing\"]))"
   ]
  },
  {
   "cell_type": "markdown",
   "metadata": {
    "deletable": false,
    "editable": false,
    "nbgrader": {
     "cell_type": "markdown",
     "checksum": "a32144ba8bec3538432ba8a58d26eae8",
     "grade": false,
     "grade_id": "cell-d98240e40b46ca70",
     "locked": true,
     "schema_version": 3,
     "solution": false,
     "task": false
    }
   },
   "source": [
    "#### Question 2.2\n",
    "\n",
    "We want to filter the rows of the table. We will remove any year before 2000 and any year following 2010. \n",
    "\n",
    "Fill in the missing pieces of the logical expression for fitering `gdp`."
   ]
  },
  {
   "cell_type": "code",
   "execution_count": 13,
   "metadata": {
    "deletable": false,
    "nbgrader": {
     "cell_type": "code",
     "checksum": "6a0a3e72119a20103cc796191163e263",
     "grade": false,
     "grade_id": "cell-0452c4e6937a3983",
     "locked": false,
     "schema_version": 3,
     "solution": true,
     "task": false
    }
   },
   "outputs": [],
   "source": [
    "lower_bound = 1999\n",
    "upper_bound = 2011\n",
    "\n",
    "gdp = gdp[(lower_bound < gdp.index.year) & (gdp.index.year < upper_bound)]"
   ]
  },
  {
   "cell_type": "code",
   "execution_count": 14,
   "metadata": {
    "deletable": false,
    "editable": false,
    "nbgrader": {
     "cell_type": "code",
     "checksum": "5dbdafdf3ef1bd706cbf077fec64bab5",
     "grade": true,
     "grade_id": "cell-76bc5eb67fae7aba",
     "locked": true,
     "points": 1,
     "schema_version": 3,
     "solution": false,
     "task": false
    }
   },
   "outputs": [],
   "source": [
    "# TEST\n",
    "\n",
    "assert all(gdp.index.year == np.arange(2000, 2011, 1))"
   ]
  },
  {
   "cell_type": "markdown",
   "metadata": {
    "deletable": false,
    "editable": false,
    "nbgrader": {
     "cell_type": "markdown",
     "checksum": "60fd6dbb0cdd5b5606bae0ef05a1b2a4",
     "grade": false,
     "grade_id": "cell-c4f2456df8ddc67e",
     "locked": true,
     "schema_version": 3,
     "solution": false,
     "task": false
    }
   },
   "source": [
    "#### Question 2.3\n",
    "\n",
    "We want to set the `pandas` function `dropna` to drop any columns containing `np.NaN`. Since we must drop columns not rows, we need to specify a value for the argument `axis`. Determine the appropriate value for `axis` to drop columns not rows."
   ]
  },
  {
   "cell_type": "code",
   "execution_count": 15,
   "metadata": {
    "deletable": false,
    "nbgrader": {
     "cell_type": "code",
     "checksum": "33b1973a01b581d3eef273ee070b7acf",
     "grade": false,
     "grade_id": "cell-1a3ef3b891ae286a",
     "locked": false,
     "schema_version": 3,
     "solution": true,
     "task": false
    }
   },
   "outputs": [],
   "source": [
    "axis_value = 1\n",
    "\n",
    "gdp.dropna(axis=axis_value, inplace=True)"
   ]
  },
  {
   "cell_type": "code",
   "execution_count": 16,
   "metadata": {
    "deletable": false,
    "editable": false,
    "nbgrader": {
     "cell_type": "code",
     "checksum": "1a0faadf4a455b5645498182c107380e",
     "grade": true,
     "grade_id": "cell-51ab9eeeb261c7bc",
     "locked": true,
     "points": 1,
     "schema_version": 3,
     "solution": false,
     "task": false
    }
   },
   "outputs": [],
   "source": [
    "# TEST\n",
    "\n",
    "assert all(~gdp.isna())\n"
   ]
  },
  {
   "cell_type": "markdown",
   "metadata": {
    "deletable": false,
    "editable": false,
    "nbgrader": {
     "cell_type": "markdown",
     "checksum": "1197822e1c128c44e465a7587ea605c4",
     "grade": false,
     "grade_id": "cell-dc848e6cd474f7a4",
     "locked": true,
     "schema_version": 3,
     "solution": false,
     "task": false
    }
   },
   "source": [
    "#### Question 2.4\n",
    "\n",
    "Use the `pandas` function `astype` to convert the data type of the entries from string to floating point number. You can specify the data type as `float64`."
   ]
  },
  {
   "cell_type": "code",
   "execution_count": 17,
   "metadata": {
    "deletable": false,
    "nbgrader": {
     "cell_type": "code",
     "checksum": "0aa42a90d9e604b96b933085dd2e34ad",
     "grade": false,
     "grade_id": "cell-484a6eb96240f6b3",
     "locked": false,
     "schema_version": 3,
     "solution": true,
     "task": false
    }
   },
   "outputs": [],
   "source": [
    "floating_point_data_type = 'float64'\n",
    "\n",
    "gdp = gdp.astype(floating_point_data_type)"
   ]
  },
  {
   "cell_type": "code",
   "execution_count": 18,
   "metadata": {
    "deletable": false,
    "editable": false,
    "nbgrader": {
     "cell_type": "code",
     "checksum": "8fb7853404e6016ce7cc5ef61eae8ef4",
     "grade": true,
     "grade_id": "cell-33ff8103539a6730",
     "locked": true,
     "points": 1,
     "schema_version": 3,
     "solution": false,
     "task": false
    }
   },
   "outputs": [],
   "source": [
    "# TEST\n",
    "\n",
    "assert np.issubdtype(gdp.values.dtype, np.float64)"
   ]
  },
  {
   "cell_type": "markdown",
   "metadata": {
    "deletable": false,
    "editable": false,
    "nbgrader": {
     "cell_type": "markdown",
     "checksum": "b4bbe714abaf9ceca202b1f266d28a7f",
     "grade": false,
     "grade_id": "cell-106e916849550a40",
     "locked": true,
     "schema_version": 3,
     "solution": false,
     "task": false
    }
   },
   "source": [
    "### Question 3\n",
    "\n",
    "Since we have records for 10 years, we want to aggregate the numbers.\n",
    "\n",
    "#### Question 3.1\n",
    "\n",
    "Use the `pandas` function `mean` to take the average of the columns."
   ]
  },
  {
   "cell_type": "code",
   "execution_count": 19,
   "metadata": {
    "deletable": false,
    "nbgrader": {
     "cell_type": "code",
     "checksum": "c9fab6c78d60b2425d943ded3cbd685b",
     "grade": false,
     "grade_id": "cell-bc5ef729d9a0e5a4",
     "locked": false,
     "schema_version": 3,
     "solution": true,
     "task": false
    }
   },
   "outputs": [],
   "source": [
    "gdp_averages = gdp.mean()"
   ]
  },
  {
   "cell_type": "code",
   "execution_count": 20,
   "metadata": {
    "deletable": false,
    "editable": false,
    "nbgrader": {
     "cell_type": "code",
     "checksum": "1442ed3466a59f3e0f838297937fe565",
     "grade": true,
     "grade_id": "cell-9793fcf2a242a5e8",
     "locked": true,
     "points": 1,
     "schema_version": 3,
     "solution": false,
     "task": false
    }
   },
   "outputs": [],
   "source": [
    "# TEST\n",
    "\n",
    "assert gdp_averages.shape == (210,)\n"
   ]
  },
  {
   "cell_type": "markdown",
   "metadata": {
    "deletable": false,
    "editable": false,
    "nbgrader": {
     "cell_type": "markdown",
     "checksum": "d1a7715213193ae91b96b91b44acc053",
     "grade": false,
     "grade_id": "cell-d77842632b00f6a9",
     "locked": true,
     "schema_version": 3,
     "solution": false,
     "task": false
    }
   },
   "source": [
    "#### Question 3.2\n",
    "\n",
    "Note that `gdp_averages` is a `pandas` Series. We can use the `pandas` function `to_frame` to convert to a `pandas` DataFrame. "
   ]
  },
  {
   "cell_type": "code",
   "execution_count": 21,
   "metadata": {
    "deletable": false,
    "editable": false,
    "nbgrader": {
     "cell_type": "code",
     "checksum": "da38d08761af029bb0a5aa3d9d1b2938",
     "grade": false,
     "grade_id": "cell-ef71c14d3ec84962",
     "locked": true,
     "schema_version": 3,
     "solution": false,
     "task": false
    }
   },
   "outputs": [],
   "source": [
    "gdp_averages = gdp_averages.to_frame()"
   ]
  },
  {
   "cell_type": "markdown",
   "metadata": {
    "deletable": false,
    "editable": false,
    "nbgrader": {
     "cell_type": "markdown",
     "checksum": "54c712568aafeead6ed05fa27ed8ec91",
     "grade": false,
     "grade_id": "cell-1723fa4ea489dbfe",
     "locked": true,
     "schema_version": 3,
     "solution": false,
     "task": false
    }
   },
   "source": [
    "By default the name of the column is `0`. Use the `pandas` function `rename` to change from `0` to `Average GDP`. Note that we need to specify a dictionary. "
   ]
  },
  {
   "cell_type": "code",
   "execution_count": 22,
   "metadata": {
    "deletable": false,
    "nbgrader": {
     "cell_type": "code",
     "checksum": "763378e7229cdeeab853a5e0d6d363a7",
     "grade": false,
     "grade_id": "cell-c83480050317ae49",
     "locked": false,
     "schema_version": 3,
     "solution": true,
     "task": false
    }
   },
   "outputs": [
    {
     "data": {
      "text/html": [
       "<div>\n",
       "<style scoped>\n",
       "    .dataframe tbody tr th:only-of-type {\n",
       "        vertical-align: middle;\n",
       "    }\n",
       "\n",
       "    .dataframe tbody tr th {\n",
       "        vertical-align: top;\n",
       "    }\n",
       "\n",
       "    .dataframe thead th {\n",
       "        text-align: right;\n",
       "    }\n",
       "</style>\n",
       "<table border=\"1\" class=\"dataframe\">\n",
       "  <thead>\n",
       "    <tr style=\"text-align: right;\">\n",
       "      <th></th>\n",
       "      <th>Average GDP</th>\n",
       "    </tr>\n",
       "    <tr>\n",
       "      <th>GDP per capita</th>\n",
       "      <th></th>\n",
       "    </tr>\n",
       "  </thead>\n",
       "  <tbody>\n",
       "    <tr>\n",
       "      <th>Afghanistan</th>\n",
       "      <td>879.579405</td>\n",
       "    </tr>\n",
       "    <tr>\n",
       "      <th>Albania</th>\n",
       "      <td>5444.352044</td>\n",
       "    </tr>\n",
       "    <tr>\n",
       "      <th>Algeria</th>\n",
       "      <td>5792.301100</td>\n",
       "    </tr>\n",
       "    <tr>\n",
       "      <th>Andorra</th>\n",
       "      <td>35852.541985</td>\n",
       "    </tr>\n",
       "    <tr>\n",
       "      <th>Angola</th>\n",
       "      <td>3871.394065</td>\n",
       "    </tr>\n",
       "    <tr>\n",
       "      <th>...</th>\n",
       "      <td>...</td>\n",
       "    </tr>\n",
       "    <tr>\n",
       "      <th>West Bank and Gaza</th>\n",
       "      <td>4249.883123</td>\n",
       "    </tr>\n",
       "    <tr>\n",
       "      <th>Vietnam</th>\n",
       "      <td>2168.536301</td>\n",
       "    </tr>\n",
       "    <tr>\n",
       "      <th>Yemen, Rep.</th>\n",
       "      <td>2275.698137</td>\n",
       "    </tr>\n",
       "    <tr>\n",
       "      <th>Zambia</th>\n",
       "      <td>1195.115667</td>\n",
       "    </tr>\n",
       "    <tr>\n",
       "      <th>Zimbabwe</th>\n",
       "      <td>563.155471</td>\n",
       "    </tr>\n",
       "  </tbody>\n",
       "</table>\n",
       "<p>210 rows × 1 columns</p>\n",
       "</div>"
      ],
      "text/plain": [
       "                     Average GDP\n",
       "GDP per capita                  \n",
       "Afghanistan           879.579405\n",
       "Albania              5444.352044\n",
       "Algeria              5792.301100\n",
       "Andorra             35852.541985\n",
       "Angola               3871.394065\n",
       "...                          ...\n",
       "West Bank and Gaza   4249.883123\n",
       "Vietnam              2168.536301\n",
       "Yemen, Rep.          2275.698137\n",
       "Zambia               1195.115667\n",
       "Zimbabwe              563.155471\n",
       "\n",
       "[210 rows x 1 columns]"
      ]
     },
     "execution_count": 22,
     "metadata": {},
     "output_type": "execute_result"
    }
   ],
   "source": [
    "dictionary_for_renaming = {0 : \"Average GDP\"}\n",
    "\n",
    "gdp_averages.rename(columns = dictionary_for_renaming, inplace = True)\n",
    "gdp_averages"
   ]
  },
  {
   "cell_type": "code",
   "execution_count": 23,
   "metadata": {
    "deletable": false,
    "editable": false,
    "nbgrader": {
     "cell_type": "code",
     "checksum": "05f105afdf7473db01d4da90fd0e86c4",
     "grade": true,
     "grade_id": "cell-2920dea29cee7cf1",
     "locked": true,
     "points": 1,
     "schema_version": 3,
     "solution": false,
     "task": false
    }
   },
   "outputs": [],
   "source": [
    "# TEST\n",
    "\n",
    "assert all(gdp_averages.columns == \"Average GDP\")"
   ]
  },
  {
   "cell_type": "markdown",
   "metadata": {
    "deletable": false,
    "editable": false,
    "nbgrader": {
     "cell_type": "markdown",
     "checksum": "80c6b2ee5e9868b300fe2ef716c3a094",
     "grade": false,
     "grade_id": "cell-37a980c89cc3193f",
     "locked": true,
     "schema_version": 3,
     "solution": false,
     "task": false
    }
   },
   "source": [
    "#### Question 3.3\n",
    "\n",
    "Use the `pandas` function `max` to compute the maximum value in the `Average GDP` column of `gdp_averages`."
   ]
  },
  {
   "cell_type": "code",
   "execution_count": 24,
   "metadata": {
    "deletable": false,
    "nbgrader": {
     "cell_type": "code",
     "checksum": "e6317b604bce874e444d48c83be8edb7",
     "grade": false,
     "grade_id": "cell-25a497c04f12b473",
     "locked": false,
     "schema_version": 3,
     "solution": true,
     "task": false
    }
   },
   "outputs": [
    {
     "data": {
      "text/plain": [
       "84521.11887727272"
      ]
     },
     "execution_count": 24,
     "metadata": {},
     "output_type": "execute_result"
    }
   ],
   "source": [
    "gdp_averages_maximum = max(gdp_averages[\"Average GDP\"])\n",
    "gdp_averages_maximum"
   ]
  },
  {
   "cell_type": "code",
   "execution_count": 25,
   "metadata": {
    "deletable": false,
    "editable": false,
    "nbgrader": {
     "cell_type": "code",
     "checksum": "052aeaad09f95eb10e152c8b065176d3",
     "grade": true,
     "grade_id": "cell-4eea5763752ef234",
     "locked": true,
     "points": 1,
     "schema_version": 3,
     "solution": false,
     "task": false
    }
   },
   "outputs": [],
   "source": [
    "# TEST\n",
    "\n",
    "assert 80000 < gdp_averages_maximum < 90000\n"
   ]
  },
  {
   "cell_type": "markdown",
   "metadata": {
    "deletable": false,
    "editable": false,
    "nbgrader": {
     "cell_type": "markdown",
     "checksum": "bbbe5586e05799b87fc889e8e43e1124",
     "grade": false,
     "grade_id": "cell-e64493a93ea9d371",
     "locked": true,
     "schema_version": 3,
     "solution": false,
     "task": false
    }
   },
   "source": [
    "Now we can standardize the values in `gdp_averages`. "
   ]
  },
  {
   "cell_type": "code",
   "execution_count": 26,
   "metadata": {
    "deletable": false,
    "editable": false,
    "nbgrader": {
     "cell_type": "code",
     "checksum": "4c6a007a5c4f1a9dce4c13d96a64b08c",
     "grade": false,
     "grade_id": "cell-c5cbd5b5a7bb68c1",
     "locked": true,
     "schema_version": 3,
     "solution": false,
     "task": false
    }
   },
   "outputs": [],
   "source": [
    "gdp_averages_standardized = gdp_averages / gdp_averages_maximum"
   ]
  },
  {
   "cell_type": "markdown",
   "metadata": {
    "deletable": false,
    "editable": false,
    "nbgrader": {
     "cell_type": "markdown",
     "checksum": "95581b1805c44a1d6395512a4b17340a",
     "grade": false,
     "grade_id": "cell-83c64ecd58e96bd8",
     "locked": true,
     "schema_version": 3,
     "solution": false,
     "task": false
    }
   },
   "source": [
    "Having divided by `gdp_averages_maximum`, we have values in `gdp_averages_standardized` between 0 and 1.\n",
    "\n",
    "### Question 4\n",
    "\n",
    "Before we can understand the information about population and life expectancy, we need to load and join the data \n",
    "\n",
    "#### Question 4.1\n",
    "\n",
    "Use the `pandas` function `read_csv` to load the data from `world_bank_country.csv`. Store the table in the variable `country`."
   ]
  },
  {
   "cell_type": "code",
   "execution_count": 27,
   "metadata": {
    "deletable": false,
    "nbgrader": {
     "cell_type": "code",
     "checksum": "52e107590591e051295047dfbb13df9b",
     "grade": false,
     "grade_id": "cell-b4b45c2c870c2cf2",
     "locked": false,
     "schema_version": 3,
     "solution": true,
     "task": false
    }
   },
   "outputs": [],
   "source": [
    "country = pd.read_csv(\"world_bank_country.csv\")"
   ]
  },
  {
   "cell_type": "code",
   "execution_count": 28,
   "metadata": {
    "deletable": false,
    "editable": false,
    "nbgrader": {
     "cell_type": "code",
     "checksum": "d6ea5ba0cba7cd77f9b377889cc0500b",
     "grade": true,
     "grade_id": "cell-384d4051d0f7d7fb",
     "locked": true,
     "points": 1,
     "schema_version": 3,
     "solution": false,
     "task": false
    }
   },
   "outputs": [],
   "source": [
    "# TEST \n",
    "\n",
    "assert country.shape == (248, 17)\n"
   ]
  },
  {
   "cell_type": "markdown",
   "metadata": {
    "deletable": false,
    "editable": false,
    "nbgrader": {
     "cell_type": "markdown",
     "checksum": "224e031feb71e73adeacd73552b08250",
     "grade": false,
     "grade_id": "cell-575bd4c175d1b954",
     "locked": true,
     "schema_version": 3,
     "solution": false,
     "task": false
    }
   },
   "source": [
    "#### Question 4.2\n",
    "\n",
    "We are interested in three columns of the table `country`."
   ]
  },
  {
   "cell_type": "code",
   "execution_count": 29,
   "metadata": {
    "deletable": false,
    "editable": false,
    "nbgrader": {
     "cell_type": "code",
     "checksum": "be717a78e7350235ba39b1ca3167c019",
     "grade": false,
     "grade_id": "cell-1e2040b4d19b2c9d",
     "locked": true,
     "schema_version": 3,
     "solution": false,
     "task": false
    }
   },
   "outputs": [],
   "source": [
    "country = country[[\"Country (en)\", \"Population\", \"Life expectancy\"]]"
   ]
  },
  {
   "cell_type": "markdown",
   "metadata": {
    "deletable": false,
    "editable": false,
    "nbgrader": {
     "cell_type": "markdown",
     "checksum": "c9d04921bd71b34370114b551eeb591f",
     "grade": false,
     "grade_id": "cell-11cd8f9ff36aad6f",
     "locked": true,
     "schema_version": 3,
     "solution": false,
     "task": false
    }
   },
   "source": [
    "Use the `pandas` function `set_index` to make the column `Country (en)` the index of the table. "
   ]
  },
  {
   "cell_type": "code",
   "execution_count": 30,
   "metadata": {
    "deletable": false,
    "nbgrader": {
     "cell_type": "code",
     "checksum": "7c282f04b372efb6d4de40378d767168",
     "grade": false,
     "grade_id": "cell-9bbe18f220c92181",
     "locked": false,
     "schema_version": 3,
     "solution": true,
     "task": false
    }
   },
   "outputs": [
    {
     "data": {
      "text/html": [
       "<div>\n",
       "<style scoped>\n",
       "    .dataframe tbody tr th:only-of-type {\n",
       "        vertical-align: middle;\n",
       "    }\n",
       "\n",
       "    .dataframe tbody tr th {\n",
       "        vertical-align: top;\n",
       "    }\n",
       "\n",
       "    .dataframe thead th {\n",
       "        text-align: right;\n",
       "    }\n",
       "</style>\n",
       "<table border=\"1\" class=\"dataframe\">\n",
       "  <thead>\n",
       "    <tr style=\"text-align: right;\">\n",
       "      <th></th>\n",
       "      <th>Population</th>\n",
       "      <th>Life expectancy</th>\n",
       "    </tr>\n",
       "    <tr>\n",
       "      <th>Country (en)</th>\n",
       "      <th></th>\n",
       "      <th></th>\n",
       "    </tr>\n",
       "  </thead>\n",
       "  <tbody>\n",
       "    <tr>\n",
       "      <th>Afghanistan</th>\n",
       "      <td>33332025</td>\n",
       "      <td>51.3</td>\n",
       "    </tr>\n",
       "    <tr>\n",
       "      <th>Egypt</th>\n",
       "      <td>94666993</td>\n",
       "      <td>72.7</td>\n",
       "    </tr>\n",
       "    <tr>\n",
       "      <th>Åland Islands</th>\n",
       "      <td>29013</td>\n",
       "      <td>0.0</td>\n",
       "    </tr>\n",
       "    <tr>\n",
       "      <th>Albania</th>\n",
       "      <td>3038594</td>\n",
       "      <td>78.3</td>\n",
       "    </tr>\n",
       "    <tr>\n",
       "      <th>Algeria</th>\n",
       "      <td>40263711</td>\n",
       "      <td>76.8</td>\n",
       "    </tr>\n",
       "    <tr>\n",
       "      <th>...</th>\n",
       "      <td>...</td>\n",
       "      <td>...</td>\n",
       "    </tr>\n",
       "    <tr>\n",
       "      <th>Wallis and Futuna</th>\n",
       "      <td>15664</td>\n",
       "      <td>79.7</td>\n",
       "    </tr>\n",
       "    <tr>\n",
       "      <th>Christmas Island</th>\n",
       "      <td>2205</td>\n",
       "      <td>0.0</td>\n",
       "    </tr>\n",
       "    <tr>\n",
       "      <th>Western Sahara</th>\n",
       "      <td>587020</td>\n",
       "      <td>63.0</td>\n",
       "    </tr>\n",
       "    <tr>\n",
       "      <th>Central African Republic</th>\n",
       "      <td>5507257</td>\n",
       "      <td>52.3</td>\n",
       "    </tr>\n",
       "    <tr>\n",
       "      <th>Cyprus</th>\n",
       "      <td>1205575</td>\n",
       "      <td>78.7</td>\n",
       "    </tr>\n",
       "  </tbody>\n",
       "</table>\n",
       "<p>248 rows × 2 columns</p>\n",
       "</div>"
      ],
      "text/plain": [
       "                          Population  Life expectancy\n",
       "Country (en)                                         \n",
       "Afghanistan                 33332025             51.3\n",
       "Egypt                       94666993             72.7\n",
       "Åland Islands                  29013              0.0\n",
       "Albania                      3038594             78.3\n",
       "Algeria                     40263711             76.8\n",
       "...                              ...              ...\n",
       "Wallis and Futuna              15664             79.7\n",
       "Christmas Island                2205              0.0\n",
       "Western Sahara                587020             63.0\n",
       "Central African Republic     5507257             52.3\n",
       "Cyprus                       1205575             78.7\n",
       "\n",
       "[248 rows x 2 columns]"
      ]
     },
     "execution_count": 30,
     "metadata": {},
     "output_type": "execute_result"
    }
   ],
   "source": [
    "column = \"Country (en)\"\n",
    "\n",
    "country.set_index(column, inplace=True)\n",
    "country"
   ]
  },
  {
   "cell_type": "code",
   "execution_count": 31,
   "metadata": {
    "deletable": false,
    "editable": false,
    "nbgrader": {
     "cell_type": "code",
     "checksum": "f2d664cc81a428386f6128dd828de2ee",
     "grade": true,
     "grade_id": "cell-bb74c42d50e0e800",
     "locked": true,
     "points": 1,
     "schema_version": 3,
     "solution": false,
     "task": false
    }
   },
   "outputs": [],
   "source": [
    "# TEST \n",
    "\n",
    "assert country.index.name == \"Country (en)\"\n"
   ]
  },
  {
   "cell_type": "markdown",
   "metadata": {
    "deletable": false,
    "editable": false,
    "nbgrader": {
     "cell_type": "markdown",
     "checksum": "3d8f113288d2f581577718aa30880537",
     "grade": false,
     "grade_id": "cell-409e15a50ffcc5e3",
     "locked": true,
     "schema_version": 3,
     "solution": false,
     "task": false
    }
   },
   "source": [
    "#### Question 4.3\n",
    "\n",
    "We can use the `pandas` function `merge` to join `gdp_averages_standardized` and `country` on their **indices**. Remember to set\n",
    "\n",
    "- `left=gdp_averages_standardized`\n",
    "- `right=country`\n",
    "\n",
    "to indicate the order. "
   ]
  },
  {
   "cell_type": "code",
   "execution_count": 32,
   "metadata": {
    "deletable": false,
    "nbgrader": {
     "cell_type": "code",
     "checksum": "17814f5825d0e4f0756193eae2b98adc",
     "grade": false,
     "grade_id": "cell-69ee60f80a25905e",
     "locked": false,
     "schema_version": 3,
     "solution": true,
     "task": false
    }
   },
   "outputs": [
    {
     "data": {
      "text/html": [
       "<div>\n",
       "<style scoped>\n",
       "    .dataframe tbody tr th:only-of-type {\n",
       "        vertical-align: middle;\n",
       "    }\n",
       "\n",
       "    .dataframe tbody tr th {\n",
       "        vertical-align: top;\n",
       "    }\n",
       "\n",
       "    .dataframe thead th {\n",
       "        text-align: right;\n",
       "    }\n",
       "</style>\n",
       "<table border=\"1\" class=\"dataframe\">\n",
       "  <thead>\n",
       "    <tr style=\"text-align: right;\">\n",
       "      <th></th>\n",
       "      <th>Average GDP</th>\n",
       "      <th>Population</th>\n",
       "      <th>Life expectancy</th>\n",
       "    </tr>\n",
       "    <tr>\n",
       "      <th>Country (en)</th>\n",
       "      <th></th>\n",
       "      <th></th>\n",
       "      <th></th>\n",
       "    </tr>\n",
       "  </thead>\n",
       "  <tbody>\n",
       "    <tr>\n",
       "      <th>Afghanistan</th>\n",
       "      <td>0.010407</td>\n",
       "      <td>33332025</td>\n",
       "      <td>51.3</td>\n",
       "    </tr>\n",
       "    <tr>\n",
       "      <th>Albania</th>\n",
       "      <td>0.064414</td>\n",
       "      <td>3038594</td>\n",
       "      <td>78.3</td>\n",
       "    </tr>\n",
       "    <tr>\n",
       "      <th>Algeria</th>\n",
       "      <td>0.068531</td>\n",
       "      <td>40263711</td>\n",
       "      <td>76.8</td>\n",
       "    </tr>\n",
       "    <tr>\n",
       "      <th>Andorra</th>\n",
       "      <td>0.424184</td>\n",
       "      <td>85660</td>\n",
       "      <td>82.8</td>\n",
       "    </tr>\n",
       "    <tr>\n",
       "      <th>Angola</th>\n",
       "      <td>0.045804</td>\n",
       "      <td>20172332</td>\n",
       "      <td>56.0</td>\n",
       "    </tr>\n",
       "    <tr>\n",
       "      <th>...</th>\n",
       "      <td>...</td>\n",
       "      <td>...</td>\n",
       "      <td>...</td>\n",
       "    </tr>\n",
       "    <tr>\n",
       "      <th>Vanuatu</th>\n",
       "      <td>0.043032</td>\n",
       "      <td>277554</td>\n",
       "      <td>73.4</td>\n",
       "    </tr>\n",
       "    <tr>\n",
       "      <th>Venezuela</th>\n",
       "      <td>0.119100</td>\n",
       "      <td>30912302</td>\n",
       "      <td>75.8</td>\n",
       "    </tr>\n",
       "    <tr>\n",
       "      <th>Vietnam</th>\n",
       "      <td>0.025657</td>\n",
       "      <td>95261021</td>\n",
       "      <td>73.4</td>\n",
       "    </tr>\n",
       "    <tr>\n",
       "      <th>Zambia</th>\n",
       "      <td>0.014140</td>\n",
       "      <td>15510711</td>\n",
       "      <td>52.5</td>\n",
       "    </tr>\n",
       "    <tr>\n",
       "      <th>Zimbabwe</th>\n",
       "      <td>0.006663</td>\n",
       "      <td>14546961</td>\n",
       "      <td>58.0</td>\n",
       "    </tr>\n",
       "  </tbody>\n",
       "</table>\n",
       "<p>194 rows × 3 columns</p>\n",
       "</div>"
      ],
      "text/plain": [
       "              Average GDP  Population  Life expectancy\n",
       "Country (en)                                          \n",
       "Afghanistan      0.010407    33332025             51.3\n",
       "Albania          0.064414     3038594             78.3\n",
       "Algeria          0.068531    40263711             76.8\n",
       "Andorra          0.424184       85660             82.8\n",
       "Angola           0.045804    20172332             56.0\n",
       "...                   ...         ...              ...\n",
       "Vanuatu          0.043032      277554             73.4\n",
       "Venezuela        0.119100    30912302             75.8\n",
       "Vietnam          0.025657    95261021             73.4\n",
       "Zambia           0.014140    15510711             52.5\n",
       "Zimbabwe         0.006663    14546961             58.0\n",
       "\n",
       "[194 rows x 3 columns]"
      ]
     },
     "execution_count": 32,
     "metadata": {},
     "output_type": "execute_result"
    }
   ],
   "source": [
    "gdp_country_merged = pd.merge(left = gdp_averages_standardized, \n",
    "                              right = country, \n",
    "                              how = 'inner', \n",
    "                              left_on = gdp_averages_standardized.index,\n",
    "                              right_on = country.index)\n",
    "gdp_country_merged = gdp_country_merged.rename(columns = {'key_0':'Country (en)'}).set_index('Country (en)')\n",
    "gdp_country_merged"
   ]
  },
  {
   "cell_type": "code",
   "execution_count": 33,
   "metadata": {
    "deletable": false,
    "editable": false,
    "nbgrader": {
     "cell_type": "code",
     "checksum": "a45c777b5d4bb7c151c0bfd5bef2fc9c",
     "grade": true,
     "grade_id": "cell-c875172751fbdf33",
     "locked": true,
     "points": 1,
     "schema_version": 3,
     "solution": false,
     "task": false
    }
   },
   "outputs": [],
   "source": [
    "assert gdp_country_merged.shape == (194, 3)\n"
   ]
  },
  {
   "cell_type": "markdown",
   "metadata": {
    "deletable": false,
    "editable": false,
    "nbgrader": {
     "cell_type": "markdown",
     "checksum": "f0574a0d50b0ebc9b105ea99f02cc203",
     "grade": false,
     "grade_id": "cell-6ab9c9a0c9d06b60",
     "locked": true,
     "schema_version": 3,
     "solution": false,
     "task": false
    }
   },
   "source": [
    "### Question 5\n",
    "\n",
    "Having processed the data in `world_bank_country.csv` and `world_bank_gdp.csv`, we can generate a scatter-plot showing average gross domestic product per capita, life expectancy and population.\n",
    "\n",
    "#### Question 5.1 \n",
    "\n",
    "Use the `pandas` function `sort_values` to sort `gdp_country_merged` in descending order by `Average GDP`."
   ]
  },
  {
   "cell_type": "code",
   "execution_count": 34,
   "metadata": {
    "deletable": false,
    "nbgrader": {
     "cell_type": "code",
     "checksum": "a2479f6deca049238c6ff17cbec1fcd0",
     "grade": false,
     "grade_id": "cell-65ca7feec2f0b81e",
     "locked": false,
     "schema_version": 3,
     "solution": true,
     "task": false
    }
   },
   "outputs": [
    {
     "data": {
      "text/html": [
       "<div>\n",
       "<style scoped>\n",
       "    .dataframe tbody tr th:only-of-type {\n",
       "        vertical-align: middle;\n",
       "    }\n",
       "\n",
       "    .dataframe tbody tr th {\n",
       "        vertical-align: top;\n",
       "    }\n",
       "\n",
       "    .dataframe thead th {\n",
       "        text-align: right;\n",
       "    }\n",
       "</style>\n",
       "<table border=\"1\" class=\"dataframe\">\n",
       "  <thead>\n",
       "    <tr style=\"text-align: right;\">\n",
       "      <th></th>\n",
       "      <th>Average GDP</th>\n",
       "      <th>Population</th>\n",
       "      <th>Life expectancy</th>\n",
       "    </tr>\n",
       "    <tr>\n",
       "      <th>Country (en)</th>\n",
       "      <th></th>\n",
       "      <th></th>\n",
       "      <th></th>\n",
       "    </tr>\n",
       "  </thead>\n",
       "  <tbody>\n",
       "    <tr>\n",
       "      <th>Liechtenstein</th>\n",
       "      <td>1.000000</td>\n",
       "      <td>37937</td>\n",
       "      <td>81.9</td>\n",
       "    </tr>\n",
       "    <tr>\n",
       "      <th>Luxembourg</th>\n",
       "      <td>0.814430</td>\n",
       "      <td>582291</td>\n",
       "      <td>82.3</td>\n",
       "    </tr>\n",
       "    <tr>\n",
       "      <th>Bermuda</th>\n",
       "      <td>0.810917</td>\n",
       "      <td>70537</td>\n",
       "      <td>81.3</td>\n",
       "    </tr>\n",
       "    <tr>\n",
       "      <th>Qatar</th>\n",
       "      <td>0.808389</td>\n",
       "      <td>2258283</td>\n",
       "      <td>78.7</td>\n",
       "    </tr>\n",
       "    <tr>\n",
       "      <th>Cayman Islands</th>\n",
       "      <td>0.564047</td>\n",
       "      <td>57268</td>\n",
       "      <td>81.2</td>\n",
       "    </tr>\n",
       "    <tr>\n",
       "      <th>...</th>\n",
       "      <td>...</td>\n",
       "      <td>...</td>\n",
       "      <td>...</td>\n",
       "    </tr>\n",
       "    <tr>\n",
       "      <th>Niger</th>\n",
       "      <td>0.007255</td>\n",
       "      <td>18638600</td>\n",
       "      <td>55.5</td>\n",
       "    </tr>\n",
       "    <tr>\n",
       "      <th>Guinea-Bissau</th>\n",
       "      <td>0.006916</td>\n",
       "      <td>1759159</td>\n",
       "      <td>50.6</td>\n",
       "    </tr>\n",
       "    <tr>\n",
       "      <th>Zimbabwe</th>\n",
       "      <td>0.006663</td>\n",
       "      <td>14546961</td>\n",
       "      <td>58.0</td>\n",
       "    </tr>\n",
       "    <tr>\n",
       "      <th>Burundi</th>\n",
       "      <td>0.005246</td>\n",
       "      <td>11099298</td>\n",
       "      <td>60.5</td>\n",
       "    </tr>\n",
       "    <tr>\n",
       "      <th>Liberia</th>\n",
       "      <td>0.005223</td>\n",
       "      <td>4299944</td>\n",
       "      <td>59.0</td>\n",
       "    </tr>\n",
       "  </tbody>\n",
       "</table>\n",
       "<p>194 rows × 3 columns</p>\n",
       "</div>"
      ],
      "text/plain": [
       "                Average GDP  Population  Life expectancy\n",
       "Country (en)                                            \n",
       "Liechtenstein      1.000000       37937             81.9\n",
       "Luxembourg         0.814430      582291             82.3\n",
       "Bermuda            0.810917       70537             81.3\n",
       "Qatar              0.808389     2258283             78.7\n",
       "Cayman Islands     0.564047       57268             81.2\n",
       "...                     ...         ...              ...\n",
       "Niger              0.007255    18638600             55.5\n",
       "Guinea-Bissau      0.006916     1759159             50.6\n",
       "Zimbabwe           0.006663    14546961             58.0\n",
       "Burundi            0.005246    11099298             60.5\n",
       "Liberia            0.005223     4299944             59.0\n",
       "\n",
       "[194 rows x 3 columns]"
      ]
     },
     "execution_count": 34,
     "metadata": {},
     "output_type": "execute_result"
    }
   ],
   "source": [
    "order = False\n",
    "\n",
    "gdp_country_merged.sort_values('Average GDP', ascending=order, inplace=True)\n",
    "gdp_country_merged"
   ]
  },
  {
   "cell_type": "code",
   "execution_count": 35,
   "metadata": {
    "deletable": false,
    "editable": false,
    "nbgrader": {
     "cell_type": "code",
     "checksum": "a59d93723a17bc8b2e539cc8ce8f8013",
     "grade": true,
     "grade_id": "cell-b3c6a320d9d65ebd",
     "locked": true,
     "points": 1,
     "schema_version": 3,
     "solution": false,
     "task": false
    }
   },
   "outputs": [],
   "source": [
    "# TEST \n",
    "\n",
    "assert gdp_country_merged['Average GDP'].is_monotonic_decreasing"
   ]
  },
  {
   "cell_type": "markdown",
   "metadata": {
    "deletable": false,
    "editable": false,
    "nbgrader": {
     "cell_type": "markdown",
     "checksum": "9ab1d0836cfcc9923538c32944a31c69",
     "grade": false,
     "grade_id": "cell-6c2120110ca96146",
     "locked": true,
     "schema_version": 3,
     "solution": false,
     "task": false
    }
   },
   "source": [
    "#### Question 5.2\n",
    "\n",
    "Since some countries have a large population and some countries have a small population, we will use the logarithm function from Homework 3.\n",
    "\n",
    "Use the `numpy` function `log` to transform the entries in the `Population` column."
   ]
  },
  {
   "cell_type": "code",
   "execution_count": 36,
   "metadata": {
    "deletable": false,
    "nbgrader": {
     "cell_type": "code",
     "checksum": "f3dbc31da0d86383339d7fbbb5a1bf32",
     "grade": false,
     "grade_id": "cell-8bcc4c0ef5b0d61e",
     "locked": false,
     "schema_version": 3,
     "solution": true,
     "task": false
    }
   },
   "outputs": [
    {
     "data": {
      "text/html": [
       "<div>\n",
       "<style scoped>\n",
       "    .dataframe tbody tr th:only-of-type {\n",
       "        vertical-align: middle;\n",
       "    }\n",
       "\n",
       "    .dataframe tbody tr th {\n",
       "        vertical-align: top;\n",
       "    }\n",
       "\n",
       "    .dataframe thead th {\n",
       "        text-align: right;\n",
       "    }\n",
       "</style>\n",
       "<table border=\"1\" class=\"dataframe\">\n",
       "  <thead>\n",
       "    <tr style=\"text-align: right;\">\n",
       "      <th></th>\n",
       "      <th>Average GDP</th>\n",
       "      <th>Population</th>\n",
       "      <th>Life expectancy</th>\n",
       "      <th>Log Population</th>\n",
       "    </tr>\n",
       "    <tr>\n",
       "      <th>Country (en)</th>\n",
       "      <th></th>\n",
       "      <th></th>\n",
       "      <th></th>\n",
       "      <th></th>\n",
       "    </tr>\n",
       "  </thead>\n",
       "  <tbody>\n",
       "    <tr>\n",
       "      <th>Liechtenstein</th>\n",
       "      <td>1.000000</td>\n",
       "      <td>37937</td>\n",
       "      <td>81.9</td>\n",
       "      <td>10.543682</td>\n",
       "    </tr>\n",
       "    <tr>\n",
       "      <th>Luxembourg</th>\n",
       "      <td>0.814430</td>\n",
       "      <td>582291</td>\n",
       "      <td>82.3</td>\n",
       "      <td>13.274726</td>\n",
       "    </tr>\n",
       "    <tr>\n",
       "      <th>Bermuda</th>\n",
       "      <td>0.810917</td>\n",
       "      <td>70537</td>\n",
       "      <td>81.3</td>\n",
       "      <td>11.163893</td>\n",
       "    </tr>\n",
       "    <tr>\n",
       "      <th>Qatar</th>\n",
       "      <td>0.808389</td>\n",
       "      <td>2258283</td>\n",
       "      <td>78.7</td>\n",
       "      <td>14.630115</td>\n",
       "    </tr>\n",
       "    <tr>\n",
       "      <th>Cayman Islands</th>\n",
       "      <td>0.564047</td>\n",
       "      <td>57268</td>\n",
       "      <td>81.2</td>\n",
       "      <td>10.955497</td>\n",
       "    </tr>\n",
       "    <tr>\n",
       "      <th>...</th>\n",
       "      <td>...</td>\n",
       "      <td>...</td>\n",
       "      <td>...</td>\n",
       "      <td>...</td>\n",
       "    </tr>\n",
       "    <tr>\n",
       "      <th>Niger</th>\n",
       "      <td>0.007255</td>\n",
       "      <td>18638600</td>\n",
       "      <td>55.5</td>\n",
       "      <td>16.740745</td>\n",
       "    </tr>\n",
       "    <tr>\n",
       "      <th>Guinea-Bissau</th>\n",
       "      <td>0.006916</td>\n",
       "      <td>1759159</td>\n",
       "      <td>50.6</td>\n",
       "      <td>14.380346</td>\n",
       "    </tr>\n",
       "    <tr>\n",
       "      <th>Zimbabwe</th>\n",
       "      <td>0.006663</td>\n",
       "      <td>14546961</td>\n",
       "      <td>58.0</td>\n",
       "      <td>16.492893</td>\n",
       "    </tr>\n",
       "    <tr>\n",
       "      <th>Burundi</th>\n",
       "      <td>0.005246</td>\n",
       "      <td>11099298</td>\n",
       "      <td>60.5</td>\n",
       "      <td>16.222392</td>\n",
       "    </tr>\n",
       "    <tr>\n",
       "      <th>Liberia</th>\n",
       "      <td>0.005223</td>\n",
       "      <td>4299944</td>\n",
       "      <td>59.0</td>\n",
       "      <td>15.274113</td>\n",
       "    </tr>\n",
       "  </tbody>\n",
       "</table>\n",
       "<p>194 rows × 4 columns</p>\n",
       "</div>"
      ],
      "text/plain": [
       "                Average GDP  Population  Life expectancy  Log Population\n",
       "Country (en)                                                            \n",
       "Liechtenstein      1.000000       37937             81.9       10.543682\n",
       "Luxembourg         0.814430      582291             82.3       13.274726\n",
       "Bermuda            0.810917       70537             81.3       11.163893\n",
       "Qatar              0.808389     2258283             78.7       14.630115\n",
       "Cayman Islands     0.564047       57268             81.2       10.955497\n",
       "...                     ...         ...              ...             ...\n",
       "Niger              0.007255    18638600             55.5       16.740745\n",
       "Guinea-Bissau      0.006916     1759159             50.6       14.380346\n",
       "Zimbabwe           0.006663    14546961             58.0       16.492893\n",
       "Burundi            0.005246    11099298             60.5       16.222392\n",
       "Liberia            0.005223     4299944             59.0       15.274113\n",
       "\n",
       "[194 rows x 4 columns]"
      ]
     },
     "execution_count": 36,
     "metadata": {},
     "output_type": "execute_result"
    }
   ],
   "source": [
    "logarithm_function = np.log\n",
    "\n",
    "gdp_country_merged[\"Log Population\"] = logarithm_function(gdp_country_merged[\"Population\"])\n",
    "gdp_country_merged"
   ]
  },
  {
   "cell_type": "code",
   "execution_count": 37,
   "metadata": {
    "deletable": false,
    "editable": false,
    "nbgrader": {
     "cell_type": "code",
     "checksum": "de20a0b9e37b915bf7f35b297af74286",
     "grade": true,
     "grade_id": "cell-d1d6c4a77b4055bc",
     "locked": true,
     "points": 1,
     "schema_version": 3,
     "solution": false,
     "task": false
    }
   },
   "outputs": [],
   "source": [
    "# TEST \n",
    "\n",
    "assert \"Log Population\" in gdp_country_merged.columns\n"
   ]
  },
  {
   "cell_type": "markdown",
   "metadata": {
    "deletable": false,
    "editable": false,
    "nbgrader": {
     "cell_type": "markdown",
     "checksum": "b37eecbe85516a379703ed0f412d7186",
     "grade": false,
     "grade_id": "cell-3e27f4d1ce397b62",
     "locked": true,
     "schema_version": 3,
     "solution": false,
     "task": false
    }
   },
   "source": [
    "#### Question 5.3\n",
    "\n",
    "Now we can generate a scatter-plot showing the information in `gdp_country_merged`.\n",
    "\n",
    "- Horizontal coordinate is `Log Population`\n",
    "- Vertical coordinate is `Life Expectancy`\n",
    "- Size is determined by `Average GDP`"
   ]
  },
  {
   "cell_type": "code",
   "execution_count": 38,
   "metadata": {
    "deletable": false,
    "editable": false,
    "nbgrader": {
     "cell_type": "code",
     "checksum": "5e049552a80309752bc25a7c88d5f1d5",
     "grade": false,
     "grade_id": "cell-2699ffd78fe2c7ef",
     "locked": true,
     "schema_version": 3,
     "solution": false,
     "task": false
    }
   },
   "outputs": [
    {
     "data": {
      "image/png": "[encoded data removed]",
      "text/plain": [
       "<Figure size 1000x800 with 1 Axes>"
      ]
     },
     "metadata": {},
     "output_type": "display_data"
    }
   ],
   "source": [
    "plt.scatter(gdp_country_merged[\"Log Population\"], \n",
    "            gdp_country_merged[\"Life expectancy\"], \n",
    "            s = gdp_country_merged['Average GDP']*200, label=\"Average GDP\");\n",
    "\n",
    "plt.ylim([45, 95])\n",
    "\n",
    "plt.ylabel(\"Life expectancy\")\n",
    "plt.xlabel(\"Log of Popualtion\")\n",
    "plt.title(\"World Bank Data\")\n",
    "\n",
    "plt.legend();"
   ]
  },
  {
   "cell_type": "code",
   "execution_count": null,
   "metadata": {},
   "outputs": [],
   "source": []
  }
 ],
 "metadata": {
  "kernelspec": {
   "display_name": "Python [conda env:mg-gy-8413]",
   "language": "python",
   "name": "conda-env-mg-gy-8413-py"
  },
  "language_info": {
   "codemirror_mode": {
    "name": "ipython",
    "version": 3
   },
   "file_extension": ".py",
   "mimetype": "text/x-python",
   "name": "python",
   "nbconvert_exporter": "python",
   "pygments_lexer": "ipython3",
   "version": "3.7.12"
  }
 },
 "nbformat": 4,
 "nbformat_minor": 4
}
